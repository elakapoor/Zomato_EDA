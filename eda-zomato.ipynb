{
 "cells": [
  {
   "cell_type": "code",
   "execution_count": 1,
   "id": "900748cc",
   "metadata": {
    "execution": {
     "iopub.execute_input": "2022-02-22T16:47:35.470789Z",
     "iopub.status.busy": "2022-02-22T16:47:35.470077Z",
     "iopub.status.idle": "2022-02-22T16:47:50.703100Z",
     "shell.execute_reply": "2022-02-22T16:47:50.702101Z",
     "shell.execute_reply.started": "2022-02-22T15:38:22.389256Z"
    },
    "papermill": {
     "duration": 15.286359,
     "end_time": "2022-02-22T16:47:50.703311",
     "exception": false,
     "start_time": "2022-02-22T16:47:35.416952",
     "status": "completed"
    },
    "tags": []
   },
   "outputs": [
    {
     "name": "stdout",
     "output_type": "stream",
     "text": [
      "Collecting openpyxl\r\n",
      "  Downloading openpyxl-3.0.9-py2.py3-none-any.whl (242 kB)\r\n",
      "     |████████████████████████████████| 242 kB 5.1 MB/s            \r\n",
      "\u001b[?25hCollecting et-xmlfile\r\n",
      "  Downloading et_xmlfile-1.1.0-py3-none-any.whl (4.7 kB)\r\n",
      "Installing collected packages: et-xmlfile, openpyxl\r\n",
      "Successfully installed et-xmlfile-1.1.0 openpyxl-3.0.9\r\n",
      "\u001b[33mWARNING: Running pip as the 'root' user can result in broken permissions and conflicting behaviour with the system package manager. It is recommended to use a virtual environment instead: https://pip.pypa.io/warnings/venv\u001b[0m\r\n"
     ]
    }
   ],
   "source": [
    "!pip install openpyxl "
   ]
  },
  {
   "cell_type": "code",
   "execution_count": 2,
   "id": "dadf8716",
   "metadata": {
    "execution": {
     "iopub.execute_input": "2022-02-22T16:47:50.799671Z",
     "iopub.status.busy": "2022-02-22T16:47:50.798717Z",
     "iopub.status.idle": "2022-02-22T16:47:51.263516Z",
     "shell.execute_reply": "2022-02-22T16:47:51.264659Z",
     "shell.execute_reply.started": "2022-02-22T15:38:40.742213Z"
    },
    "papermill": {
     "duration": 0.515663,
     "end_time": "2022-02-22T16:47:51.265027",
     "exception": false,
     "start_time": "2022-02-22T16:47:50.749364",
     "status": "completed"
    },
    "tags": []
   },
   "outputs": [],
   "source": [
    "#import openpyxl\n",
    "import openpyxl"
   ]
  },
  {
   "cell_type": "code",
   "execution_count": 3,
   "id": "c5c18d4b",
   "metadata": {
    "_cell_guid": "b1076dfc-b9ad-4769-8c92-a6c4dae69d19",
    "_uuid": "8f2839f25d086af736a60e9eeb907d3b93b6e0e5",
    "execution": {
     "iopub.execute_input": "2022-02-22T16:47:51.357989Z",
     "iopub.status.busy": "2022-02-22T16:47:51.352721Z",
     "iopub.status.idle": "2022-02-22T16:47:53.130769Z",
     "shell.execute_reply": "2022-02-22T16:47:53.129510Z",
     "shell.execute_reply.started": "2022-02-22T15:38:50.575139Z"
    },
    "papermill": {
     "duration": 1.82547,
     "end_time": "2022-02-22T16:47:53.130994",
     "exception": false,
     "start_time": "2022-02-22T16:47:51.305524",
     "status": "completed"
    },
    "tags": []
   },
   "outputs": [
    {
     "name": "stdout",
     "output_type": "stream",
     "text": [
      "/kaggle/input/zomato-restaurants-data/zomato.csv\n",
      "/kaggle/input/zomato-restaurants-data/file5.json\n",
      "/kaggle/input/zomato-restaurants-data/file1.json\n",
      "/kaggle/input/zomato-restaurants-data/file2.json\n",
      "/kaggle/input/zomato-restaurants-data/file4.json\n",
      "/kaggle/input/zomato-restaurants-data/file3.json\n",
      "/kaggle/input/zomato-restaurants-data/Country-Code.xlsx\n"
     ]
    }
   ],
   "source": [
    "# This Python 3 environment comes with many helpful analytics libraries installed\n",
    "# It is defined by the kaggle/python Docker image: https://github.com/kaggle/docker-python\n",
    "# For example, here's several helpful packages to load\n",
    "\n",
    "import numpy as np # linear algebra\n",
    "import pandas as pd # data processing, CSV file I/O (e.g. pd.read_csv)\n",
    "import matplotlib.pyplot as plt\n",
    "import seaborn as sns\n",
    "\n",
    "# Input data files are available in the read-only \"../input/\" directory\n",
    "# For example, running this (by clicking run or pressing Shift+Enter) will list all files under the input directory\n",
    "\n",
    "import os\n",
    "for dirname, _, filenames in os.walk('/kaggle/input'):\n",
    "    for filename in filenames:\n",
    "        print(os.path.join(dirname, filename))\n",
    "\n",
    "# You can write up to 20GB to the current directory (/kaggle/working/) that gets preserved as output when you create a version using \"Save & Run All\" \n",
    "# You can also write temporary files to /kaggle/temp/, but they won't be saved outside of the current session"
   ]
  },
  {
   "cell_type": "code",
   "execution_count": null,
   "id": "e380d4ef",
   "metadata": {
    "papermill": {
     "duration": 0.04395,
     "end_time": "2022-02-22T16:47:53.219859",
     "exception": false,
     "start_time": "2022-02-22T16:47:53.175909",
     "status": "completed"
    },
    "tags": []
   },
   "outputs": [],
   "source": []
  },
  {
   "cell_type": "code",
   "execution_count": 4,
   "id": "a9ad2fd1",
   "metadata": {
    "execution": {
     "iopub.execute_input": "2022-02-22T16:47:53.321060Z",
     "iopub.status.busy": "2022-02-22T16:47:53.320252Z",
     "iopub.status.idle": "2022-02-22T16:47:53.486504Z",
     "shell.execute_reply": "2022-02-22T16:47:53.487289Z",
     "shell.execute_reply.started": "2022-02-22T15:38:51.441954Z"
    },
    "papermill": {
     "duration": 0.21725,
     "end_time": "2022-02-22T16:47:53.487503",
     "exception": false,
     "start_time": "2022-02-22T16:47:53.270253",
     "status": "completed"
    },
    "tags": []
   },
   "outputs": [
    {
     "data": {
      "text/html": [
       "<div>\n",
       "<style scoped>\n",
       "    .dataframe tbody tr th:only-of-type {\n",
       "        vertical-align: middle;\n",
       "    }\n",
       "\n",
       "    .dataframe tbody tr th {\n",
       "        vertical-align: top;\n",
       "    }\n",
       "\n",
       "    .dataframe thead th {\n",
       "        text-align: right;\n",
       "    }\n",
       "</style>\n",
       "<table border=\"1\" class=\"dataframe\">\n",
       "  <thead>\n",
       "    <tr style=\"text-align: right;\">\n",
       "      <th></th>\n",
       "      <th>Restaurant ID</th>\n",
       "      <th>Restaurant Name</th>\n",
       "      <th>Country Code</th>\n",
       "      <th>City</th>\n",
       "      <th>Address</th>\n",
       "      <th>Locality</th>\n",
       "      <th>Locality Verbose</th>\n",
       "      <th>Longitude</th>\n",
       "      <th>Latitude</th>\n",
       "      <th>Cuisines</th>\n",
       "      <th>...</th>\n",
       "      <th>Currency</th>\n",
       "      <th>Has Table booking</th>\n",
       "      <th>Has Online delivery</th>\n",
       "      <th>Is delivering now</th>\n",
       "      <th>Switch to order menu</th>\n",
       "      <th>Price range</th>\n",
       "      <th>Aggregate rating</th>\n",
       "      <th>Rating color</th>\n",
       "      <th>Rating text</th>\n",
       "      <th>Votes</th>\n",
       "    </tr>\n",
       "  </thead>\n",
       "  <tbody>\n",
       "    <tr>\n",
       "      <th>0</th>\n",
       "      <td>6317637</td>\n",
       "      <td>Le Petit Souffle</td>\n",
       "      <td>162</td>\n",
       "      <td>Makati City</td>\n",
       "      <td>Third Floor, Century City Mall, Kalayaan Avenu...</td>\n",
       "      <td>Century City Mall, Poblacion, Makati City</td>\n",
       "      <td>Century City Mall, Poblacion, Makati City, Mak...</td>\n",
       "      <td>121.027535</td>\n",
       "      <td>14.565443</td>\n",
       "      <td>French, Japanese, Desserts</td>\n",
       "      <td>...</td>\n",
       "      <td>Botswana Pula(P)</td>\n",
       "      <td>Yes</td>\n",
       "      <td>No</td>\n",
       "      <td>No</td>\n",
       "      <td>No</td>\n",
       "      <td>3</td>\n",
       "      <td>4.8</td>\n",
       "      <td>Dark Green</td>\n",
       "      <td>Excellent</td>\n",
       "      <td>314</td>\n",
       "    </tr>\n",
       "    <tr>\n",
       "      <th>1</th>\n",
       "      <td>6304287</td>\n",
       "      <td>Izakaya Kikufuji</td>\n",
       "      <td>162</td>\n",
       "      <td>Makati City</td>\n",
       "      <td>Little Tokyo, 2277 Chino Roces Avenue, Legaspi...</td>\n",
       "      <td>Little Tokyo, Legaspi Village, Makati City</td>\n",
       "      <td>Little Tokyo, Legaspi Village, Makati City, Ma...</td>\n",
       "      <td>121.014101</td>\n",
       "      <td>14.553708</td>\n",
       "      <td>Japanese</td>\n",
       "      <td>...</td>\n",
       "      <td>Botswana Pula(P)</td>\n",
       "      <td>Yes</td>\n",
       "      <td>No</td>\n",
       "      <td>No</td>\n",
       "      <td>No</td>\n",
       "      <td>3</td>\n",
       "      <td>4.5</td>\n",
       "      <td>Dark Green</td>\n",
       "      <td>Excellent</td>\n",
       "      <td>591</td>\n",
       "    </tr>\n",
       "    <tr>\n",
       "      <th>2</th>\n",
       "      <td>6300002</td>\n",
       "      <td>Heat - Edsa Shangri-La</td>\n",
       "      <td>162</td>\n",
       "      <td>Mandaluyong City</td>\n",
       "      <td>Edsa Shangri-La, 1 Garden Way, Ortigas, Mandal...</td>\n",
       "      <td>Edsa Shangri-La, Ortigas, Mandaluyong City</td>\n",
       "      <td>Edsa Shangri-La, Ortigas, Mandaluyong City, Ma...</td>\n",
       "      <td>121.056831</td>\n",
       "      <td>14.581404</td>\n",
       "      <td>Seafood, Asian, Filipino, Indian</td>\n",
       "      <td>...</td>\n",
       "      <td>Botswana Pula(P)</td>\n",
       "      <td>Yes</td>\n",
       "      <td>No</td>\n",
       "      <td>No</td>\n",
       "      <td>No</td>\n",
       "      <td>4</td>\n",
       "      <td>4.4</td>\n",
       "      <td>Green</td>\n",
       "      <td>Very Good</td>\n",
       "      <td>270</td>\n",
       "    </tr>\n",
       "    <tr>\n",
       "      <th>3</th>\n",
       "      <td>6318506</td>\n",
       "      <td>Ooma</td>\n",
       "      <td>162</td>\n",
       "      <td>Mandaluyong City</td>\n",
       "      <td>Third Floor, Mega Fashion Hall, SM Megamall, O...</td>\n",
       "      <td>SM Megamall, Ortigas, Mandaluyong City</td>\n",
       "      <td>SM Megamall, Ortigas, Mandaluyong City, Mandal...</td>\n",
       "      <td>121.056475</td>\n",
       "      <td>14.585318</td>\n",
       "      <td>Japanese, Sushi</td>\n",
       "      <td>...</td>\n",
       "      <td>Botswana Pula(P)</td>\n",
       "      <td>No</td>\n",
       "      <td>No</td>\n",
       "      <td>No</td>\n",
       "      <td>No</td>\n",
       "      <td>4</td>\n",
       "      <td>4.9</td>\n",
       "      <td>Dark Green</td>\n",
       "      <td>Excellent</td>\n",
       "      <td>365</td>\n",
       "    </tr>\n",
       "    <tr>\n",
       "      <th>4</th>\n",
       "      <td>6314302</td>\n",
       "      <td>Sambo Kojin</td>\n",
       "      <td>162</td>\n",
       "      <td>Mandaluyong City</td>\n",
       "      <td>Third Floor, Mega Atrium, SM Megamall, Ortigas...</td>\n",
       "      <td>SM Megamall, Ortigas, Mandaluyong City</td>\n",
       "      <td>SM Megamall, Ortigas, Mandaluyong City, Mandal...</td>\n",
       "      <td>121.057508</td>\n",
       "      <td>14.584450</td>\n",
       "      <td>Japanese, Korean</td>\n",
       "      <td>...</td>\n",
       "      <td>Botswana Pula(P)</td>\n",
       "      <td>Yes</td>\n",
       "      <td>No</td>\n",
       "      <td>No</td>\n",
       "      <td>No</td>\n",
       "      <td>4</td>\n",
       "      <td>4.8</td>\n",
       "      <td>Dark Green</td>\n",
       "      <td>Excellent</td>\n",
       "      <td>229</td>\n",
       "    </tr>\n",
       "  </tbody>\n",
       "</table>\n",
       "<p>5 rows × 21 columns</p>\n",
       "</div>"
      ],
      "text/plain": [
       "   Restaurant ID         Restaurant Name  Country Code              City  \\\n",
       "0        6317637        Le Petit Souffle           162       Makati City   \n",
       "1        6304287        Izakaya Kikufuji           162       Makati City   \n",
       "2        6300002  Heat - Edsa Shangri-La           162  Mandaluyong City   \n",
       "3        6318506                    Ooma           162  Mandaluyong City   \n",
       "4        6314302             Sambo Kojin           162  Mandaluyong City   \n",
       "\n",
       "                                             Address  \\\n",
       "0  Third Floor, Century City Mall, Kalayaan Avenu...   \n",
       "1  Little Tokyo, 2277 Chino Roces Avenue, Legaspi...   \n",
       "2  Edsa Shangri-La, 1 Garden Way, Ortigas, Mandal...   \n",
       "3  Third Floor, Mega Fashion Hall, SM Megamall, O...   \n",
       "4  Third Floor, Mega Atrium, SM Megamall, Ortigas...   \n",
       "\n",
       "                                     Locality  \\\n",
       "0   Century City Mall, Poblacion, Makati City   \n",
       "1  Little Tokyo, Legaspi Village, Makati City   \n",
       "2  Edsa Shangri-La, Ortigas, Mandaluyong City   \n",
       "3      SM Megamall, Ortigas, Mandaluyong City   \n",
       "4      SM Megamall, Ortigas, Mandaluyong City   \n",
       "\n",
       "                                    Locality Verbose   Longitude   Latitude  \\\n",
       "0  Century City Mall, Poblacion, Makati City, Mak...  121.027535  14.565443   \n",
       "1  Little Tokyo, Legaspi Village, Makati City, Ma...  121.014101  14.553708   \n",
       "2  Edsa Shangri-La, Ortigas, Mandaluyong City, Ma...  121.056831  14.581404   \n",
       "3  SM Megamall, Ortigas, Mandaluyong City, Mandal...  121.056475  14.585318   \n",
       "4  SM Megamall, Ortigas, Mandaluyong City, Mandal...  121.057508  14.584450   \n",
       "\n",
       "                           Cuisines  ...          Currency Has Table booking  \\\n",
       "0        French, Japanese, Desserts  ...  Botswana Pula(P)               Yes   \n",
       "1                          Japanese  ...  Botswana Pula(P)               Yes   \n",
       "2  Seafood, Asian, Filipino, Indian  ...  Botswana Pula(P)               Yes   \n",
       "3                   Japanese, Sushi  ...  Botswana Pula(P)                No   \n",
       "4                  Japanese, Korean  ...  Botswana Pula(P)               Yes   \n",
       "\n",
       "  Has Online delivery Is delivering now Switch to order menu Price range  \\\n",
       "0                  No                No                   No           3   \n",
       "1                  No                No                   No           3   \n",
       "2                  No                No                   No           4   \n",
       "3                  No                No                   No           4   \n",
       "4                  No                No                   No           4   \n",
       "\n",
       "   Aggregate rating  Rating color Rating text Votes  \n",
       "0               4.8    Dark Green   Excellent   314  \n",
       "1               4.5    Dark Green   Excellent   591  \n",
       "2               4.4         Green   Very Good   270  \n",
       "3               4.9    Dark Green   Excellent   365  \n",
       "4               4.8    Dark Green   Excellent   229  \n",
       "\n",
       "[5 rows x 21 columns]"
      ]
     },
     "execution_count": 4,
     "metadata": {},
     "output_type": "execute_result"
    }
   ],
   "source": [
    "path = \"/kaggle/input/zomato-restaurants-data/zomato.csv\"\n",
    "df = pd.read_csv(path, encoding = \"latin-1\")\n",
    "df.head()"
   ]
  },
  {
   "cell_type": "code",
   "execution_count": 5,
   "id": "c77032e1",
   "metadata": {
    "execution": {
     "iopub.execute_input": "2022-02-22T16:47:53.569917Z",
     "iopub.status.busy": "2022-02-22T16:47:53.568285Z",
     "iopub.status.idle": "2022-02-22T16:47:53.573759Z",
     "shell.execute_reply": "2022-02-22T16:47:53.574392Z",
     "shell.execute_reply.started": "2022-02-22T15:38:51.577864Z"
    },
    "papermill": {
     "duration": 0.050353,
     "end_time": "2022-02-22T16:47:53.574605",
     "exception": false,
     "start_time": "2022-02-22T16:47:53.524252",
     "status": "completed"
    },
    "tags": []
   },
   "outputs": [
    {
     "data": {
      "text/plain": [
       "Index(['Restaurant ID', 'Restaurant Name', 'Country Code', 'City', 'Address',\n",
       "       'Locality', 'Locality Verbose', 'Longitude', 'Latitude', 'Cuisines',\n",
       "       'Average Cost for two', 'Currency', 'Has Table booking',\n",
       "       'Has Online delivery', 'Is delivering now', 'Switch to order menu',\n",
       "       'Price range', 'Aggregate rating', 'Rating color', 'Rating text',\n",
       "       'Votes'],\n",
       "      dtype='object')"
      ]
     },
     "execution_count": 5,
     "metadata": {},
     "output_type": "execute_result"
    }
   ],
   "source": [
    "# check the columns\n",
    "df.columns"
   ]
  },
  {
   "cell_type": "code",
   "execution_count": 6,
   "id": "c8bc171e",
   "metadata": {
    "execution": {
     "iopub.execute_input": "2022-02-22T16:47:53.666745Z",
     "iopub.status.busy": "2022-02-22T16:47:53.665576Z",
     "iopub.status.idle": "2022-02-22T16:47:53.716070Z",
     "shell.execute_reply": "2022-02-22T16:47:53.716724Z",
     "shell.execute_reply.started": "2022-02-22T15:38:51.848725Z"
    },
    "papermill": {
     "duration": 0.101533,
     "end_time": "2022-02-22T16:47:53.716928",
     "exception": false,
     "start_time": "2022-02-22T16:47:53.615395",
     "status": "completed"
    },
    "tags": []
   },
   "outputs": [
    {
     "name": "stdout",
     "output_type": "stream",
     "text": [
      "<class 'pandas.core.frame.DataFrame'>\n",
      "RangeIndex: 9551 entries, 0 to 9550\n",
      "Data columns (total 21 columns):\n",
      " #   Column                Non-Null Count  Dtype  \n",
      "---  ------                --------------  -----  \n",
      " 0   Restaurant ID         9551 non-null   int64  \n",
      " 1   Restaurant Name       9551 non-null   object \n",
      " 2   Country Code          9551 non-null   int64  \n",
      " 3   City                  9551 non-null   object \n",
      " 4   Address               9551 non-null   object \n",
      " 5   Locality              9551 non-null   object \n",
      " 6   Locality Verbose      9551 non-null   object \n",
      " 7   Longitude             9551 non-null   float64\n",
      " 8   Latitude              9551 non-null   float64\n",
      " 9   Cuisines              9542 non-null   object \n",
      " 10  Average Cost for two  9551 non-null   int64  \n",
      " 11  Currency              9551 non-null   object \n",
      " 12  Has Table booking     9551 non-null   object \n",
      " 13  Has Online delivery   9551 non-null   object \n",
      " 14  Is delivering now     9551 non-null   object \n",
      " 15  Switch to order menu  9551 non-null   object \n",
      " 16  Price range           9551 non-null   int64  \n",
      " 17  Aggregate rating      9551 non-null   float64\n",
      " 18  Rating color          9551 non-null   object \n",
      " 19  Rating text           9551 non-null   object \n",
      " 20  Votes                 9551 non-null   int64  \n",
      "dtypes: float64(3), int64(5), object(13)\n",
      "memory usage: 1.5+ MB\n"
     ]
    }
   ],
   "source": [
    "df.info()"
   ]
  },
  {
   "cell_type": "code",
   "execution_count": 7,
   "id": "616a4ab6",
   "metadata": {
    "execution": {
     "iopub.execute_input": "2022-02-22T16:47:53.817833Z",
     "iopub.status.busy": "2022-02-22T16:47:53.817065Z",
     "iopub.status.idle": "2022-02-22T16:47:53.865248Z",
     "shell.execute_reply": "2022-02-22T16:47:53.864572Z",
     "shell.execute_reply.started": "2022-02-22T15:38:52.097027Z"
    },
    "papermill": {
     "duration": 0.101668,
     "end_time": "2022-02-22T16:47:53.865410",
     "exception": false,
     "start_time": "2022-02-22T16:47:53.763742",
     "status": "completed"
    },
    "tags": []
   },
   "outputs": [
    {
     "data": {
      "text/html": [
       "<div>\n",
       "<style scoped>\n",
       "    .dataframe tbody tr th:only-of-type {\n",
       "        vertical-align: middle;\n",
       "    }\n",
       "\n",
       "    .dataframe tbody tr th {\n",
       "        vertical-align: top;\n",
       "    }\n",
       "\n",
       "    .dataframe thead th {\n",
       "        text-align: right;\n",
       "    }\n",
       "</style>\n",
       "<table border=\"1\" class=\"dataframe\">\n",
       "  <thead>\n",
       "    <tr style=\"text-align: right;\">\n",
       "      <th></th>\n",
       "      <th>Restaurant ID</th>\n",
       "      <th>Country Code</th>\n",
       "      <th>Longitude</th>\n",
       "      <th>Latitude</th>\n",
       "      <th>Average Cost for two</th>\n",
       "      <th>Price range</th>\n",
       "      <th>Aggregate rating</th>\n",
       "      <th>Votes</th>\n",
       "    </tr>\n",
       "  </thead>\n",
       "  <tbody>\n",
       "    <tr>\n",
       "      <th>count</th>\n",
       "      <td>9.551000e+03</td>\n",
       "      <td>9551.000000</td>\n",
       "      <td>9551.000000</td>\n",
       "      <td>9551.000000</td>\n",
       "      <td>9551.000000</td>\n",
       "      <td>9551.000000</td>\n",
       "      <td>9551.000000</td>\n",
       "      <td>9551.000000</td>\n",
       "    </tr>\n",
       "    <tr>\n",
       "      <th>mean</th>\n",
       "      <td>9.051128e+06</td>\n",
       "      <td>18.365616</td>\n",
       "      <td>64.126574</td>\n",
       "      <td>25.854381</td>\n",
       "      <td>1199.210763</td>\n",
       "      <td>1.804837</td>\n",
       "      <td>2.666370</td>\n",
       "      <td>156.909748</td>\n",
       "    </tr>\n",
       "    <tr>\n",
       "      <th>std</th>\n",
       "      <td>8.791521e+06</td>\n",
       "      <td>56.750546</td>\n",
       "      <td>41.467058</td>\n",
       "      <td>11.007935</td>\n",
       "      <td>16121.183073</td>\n",
       "      <td>0.905609</td>\n",
       "      <td>1.516378</td>\n",
       "      <td>430.169145</td>\n",
       "    </tr>\n",
       "    <tr>\n",
       "      <th>min</th>\n",
       "      <td>5.300000e+01</td>\n",
       "      <td>1.000000</td>\n",
       "      <td>-157.948486</td>\n",
       "      <td>-41.330428</td>\n",
       "      <td>0.000000</td>\n",
       "      <td>1.000000</td>\n",
       "      <td>0.000000</td>\n",
       "      <td>0.000000</td>\n",
       "    </tr>\n",
       "    <tr>\n",
       "      <th>25%</th>\n",
       "      <td>3.019625e+05</td>\n",
       "      <td>1.000000</td>\n",
       "      <td>77.081343</td>\n",
       "      <td>28.478713</td>\n",
       "      <td>250.000000</td>\n",
       "      <td>1.000000</td>\n",
       "      <td>2.500000</td>\n",
       "      <td>5.000000</td>\n",
       "    </tr>\n",
       "    <tr>\n",
       "      <th>50%</th>\n",
       "      <td>6.004089e+06</td>\n",
       "      <td>1.000000</td>\n",
       "      <td>77.191964</td>\n",
       "      <td>28.570469</td>\n",
       "      <td>400.000000</td>\n",
       "      <td>2.000000</td>\n",
       "      <td>3.200000</td>\n",
       "      <td>31.000000</td>\n",
       "    </tr>\n",
       "    <tr>\n",
       "      <th>75%</th>\n",
       "      <td>1.835229e+07</td>\n",
       "      <td>1.000000</td>\n",
       "      <td>77.282006</td>\n",
       "      <td>28.642758</td>\n",
       "      <td>700.000000</td>\n",
       "      <td>2.000000</td>\n",
       "      <td>3.700000</td>\n",
       "      <td>131.000000</td>\n",
       "    </tr>\n",
       "    <tr>\n",
       "      <th>max</th>\n",
       "      <td>1.850065e+07</td>\n",
       "      <td>216.000000</td>\n",
       "      <td>174.832089</td>\n",
       "      <td>55.976980</td>\n",
       "      <td>800000.000000</td>\n",
       "      <td>4.000000</td>\n",
       "      <td>4.900000</td>\n",
       "      <td>10934.000000</td>\n",
       "    </tr>\n",
       "  </tbody>\n",
       "</table>\n",
       "</div>"
      ],
      "text/plain": [
       "       Restaurant ID  Country Code    Longitude     Latitude  \\\n",
       "count   9.551000e+03   9551.000000  9551.000000  9551.000000   \n",
       "mean    9.051128e+06     18.365616    64.126574    25.854381   \n",
       "std     8.791521e+06     56.750546    41.467058    11.007935   \n",
       "min     5.300000e+01      1.000000  -157.948486   -41.330428   \n",
       "25%     3.019625e+05      1.000000    77.081343    28.478713   \n",
       "50%     6.004089e+06      1.000000    77.191964    28.570469   \n",
       "75%     1.835229e+07      1.000000    77.282006    28.642758   \n",
       "max     1.850065e+07    216.000000   174.832089    55.976980   \n",
       "\n",
       "       Average Cost for two  Price range  Aggregate rating         Votes  \n",
       "count           9551.000000  9551.000000       9551.000000   9551.000000  \n",
       "mean            1199.210763     1.804837          2.666370    156.909748  \n",
       "std            16121.183073     0.905609          1.516378    430.169145  \n",
       "min                0.000000     1.000000          0.000000      0.000000  \n",
       "25%              250.000000     1.000000          2.500000      5.000000  \n",
       "50%              400.000000     2.000000          3.200000     31.000000  \n",
       "75%              700.000000     2.000000          3.700000    131.000000  \n",
       "max           800000.000000     4.000000          4.900000  10934.000000  "
      ]
     },
     "execution_count": 7,
     "metadata": {},
     "output_type": "execute_result"
    }
   ],
   "source": [
    "# integer values are used\n",
    "df.describe()"
   ]
  },
  {
   "cell_type": "code",
   "execution_count": 8,
   "id": "7eaae73f",
   "metadata": {
    "execution": {
     "iopub.execute_input": "2022-02-22T16:47:53.982431Z",
     "iopub.status.busy": "2022-02-22T16:47:53.981602Z",
     "iopub.status.idle": "2022-02-22T16:47:53.992447Z",
     "shell.execute_reply": "2022-02-22T16:47:53.993117Z",
     "shell.execute_reply.started": "2022-02-22T15:38:52.325181Z"
    },
    "papermill": {
     "duration": 0.082564,
     "end_time": "2022-02-22T16:47:53.993370",
     "exception": false,
     "start_time": "2022-02-22T16:47:53.910806",
     "status": "completed"
    },
    "tags": []
   },
   "outputs": [
    {
     "data": {
      "text/plain": [
       "Restaurant ID           0\n",
       "Restaurant Name         0\n",
       "Country Code            0\n",
       "City                    0\n",
       "Address                 0\n",
       "Locality                0\n",
       "Locality Verbose        0\n",
       "Longitude               0\n",
       "Latitude                0\n",
       "Cuisines                9\n",
       "Average Cost for two    0\n",
       "Currency                0\n",
       "Has Table booking       0\n",
       "Has Online delivery     0\n",
       "Is delivering now       0\n",
       "Switch to order menu    0\n",
       "Price range             0\n",
       "Aggregate rating        0\n",
       "Rating color            0\n",
       "Rating text             0\n",
       "Votes                   0\n",
       "dtype: int64"
      ]
     },
     "execution_count": 8,
     "metadata": {},
     "output_type": "execute_result"
    }
   ],
   "source": [
    "df.isnull().sum()"
   ]
  },
  {
   "cell_type": "code",
   "execution_count": null,
   "id": "52011b19",
   "metadata": {
    "papermill": {
     "duration": 0.047216,
     "end_time": "2022-02-22T16:47:54.086539",
     "exception": false,
     "start_time": "2022-02-22T16:47:54.039323",
     "status": "completed"
    },
    "tags": []
   },
   "outputs": [],
   "source": []
  },
  {
   "cell_type": "code",
   "execution_count": 9,
   "id": "94334705",
   "metadata": {
    "execution": {
     "iopub.execute_input": "2022-02-22T16:47:54.178554Z",
     "iopub.status.busy": "2022-02-22T16:47:54.177314Z",
     "iopub.status.idle": "2022-02-22T16:47:54.209937Z",
     "shell.execute_reply": "2022-02-22T16:47:54.209286Z",
     "shell.execute_reply.started": "2022-02-22T15:38:52.545288Z"
    },
    "papermill": {
     "duration": 0.079501,
     "end_time": "2022-02-22T16:47:54.210108",
     "exception": false,
     "start_time": "2022-02-22T16:47:54.130607",
     "status": "completed"
    },
    "tags": []
   },
   "outputs": [
    {
     "name": "stdout",
     "output_type": "stream",
     "text": [
      "Cuisines\n"
     ]
    }
   ],
   "source": [
    "for columns in df.columns:\n",
    "    if df[columns].isnull().sum() > 0:\n",
    "        print(columns)"
   ]
  },
  {
   "cell_type": "code",
   "execution_count": 10,
   "id": "a2699b0e",
   "metadata": {
    "execution": {
     "iopub.execute_input": "2022-02-22T16:47:54.314193Z",
     "iopub.status.busy": "2022-02-22T16:47:54.307110Z",
     "iopub.status.idle": "2022-02-22T16:47:54.317888Z",
     "shell.execute_reply": "2022-02-22T16:47:54.318445Z",
     "shell.execute_reply.started": "2022-02-22T15:42:32.508375Z"
    },
    "papermill": {
     "duration": 0.061108,
     "end_time": "2022-02-22T16:47:54.318653",
     "exception": false,
     "start_time": "2022-02-22T16:47:54.257545",
     "status": "completed"
    },
    "tags": []
   },
   "outputs": [
    {
     "data": {
      "text/plain": [
       "Restaurant ID             int64\n",
       "Restaurant Name          object\n",
       "Country Code              int64\n",
       "City                     object\n",
       "Address                  object\n",
       "Locality                 object\n",
       "Locality Verbose         object\n",
       "Longitude               float64\n",
       "Latitude                float64\n",
       "Cuisines                 object\n",
       "Average Cost for two      int64\n",
       "Currency                 object\n",
       "Has Table booking        object\n",
       "Has Online delivery      object\n",
       "Is delivering now        object\n",
       "Switch to order menu     object\n",
       "Price range               int64\n",
       "Aggregate rating        float64\n",
       "Rating color             object\n",
       "Rating text              object\n",
       "Votes                     int64\n",
       "dtype: object"
      ]
     },
     "execution_count": 10,
     "metadata": {},
     "output_type": "execute_result"
    }
   ],
   "source": [
    "df.dtypes"
   ]
  },
  {
   "cell_type": "code",
   "execution_count": 11,
   "id": "d4d7f77c",
   "metadata": {
    "execution": {
     "iopub.execute_input": "2022-02-22T16:47:54.414326Z",
     "iopub.status.busy": "2022-02-22T16:47:54.413337Z",
     "iopub.status.idle": "2022-02-22T16:47:54.452376Z",
     "shell.execute_reply": "2022-02-22T16:47:54.451765Z",
     "shell.execute_reply.started": "2022-02-22T15:38:53.729534Z"
    },
    "papermill": {
     "duration": 0.08975,
     "end_time": "2022-02-22T16:47:54.452561",
     "exception": false,
     "start_time": "2022-02-22T16:47:54.362811",
     "status": "completed"
    },
    "tags": []
   },
   "outputs": [
    {
     "data": {
      "text/html": [
       "<div>\n",
       "<style scoped>\n",
       "    .dataframe tbody tr th:only-of-type {\n",
       "        vertical-align: middle;\n",
       "    }\n",
       "\n",
       "    .dataframe tbody tr th {\n",
       "        vertical-align: top;\n",
       "    }\n",
       "\n",
       "    .dataframe thead th {\n",
       "        text-align: right;\n",
       "    }\n",
       "</style>\n",
       "<table border=\"1\" class=\"dataframe\">\n",
       "  <thead>\n",
       "    <tr style=\"text-align: right;\">\n",
       "      <th></th>\n",
       "      <th>Country Code</th>\n",
       "      <th>Country</th>\n",
       "    </tr>\n",
       "  </thead>\n",
       "  <tbody>\n",
       "    <tr>\n",
       "      <th>0</th>\n",
       "      <td>1</td>\n",
       "      <td>India</td>\n",
       "    </tr>\n",
       "    <tr>\n",
       "      <th>1</th>\n",
       "      <td>14</td>\n",
       "      <td>Australia</td>\n",
       "    </tr>\n",
       "    <tr>\n",
       "      <th>2</th>\n",
       "      <td>30</td>\n",
       "      <td>Brazil</td>\n",
       "    </tr>\n",
       "    <tr>\n",
       "      <th>3</th>\n",
       "      <td>37</td>\n",
       "      <td>Canada</td>\n",
       "    </tr>\n",
       "    <tr>\n",
       "      <th>4</th>\n",
       "      <td>94</td>\n",
       "      <td>Indonesia</td>\n",
       "    </tr>\n",
       "  </tbody>\n",
       "</table>\n",
       "</div>"
      ],
      "text/plain": [
       "   Country Code    Country\n",
       "0             1      India\n",
       "1            14  Australia\n",
       "2            30     Brazil\n",
       "3            37     Canada\n",
       "4            94  Indonesia"
      ]
     },
     "execution_count": 11,
     "metadata": {},
     "output_type": "execute_result"
    }
   ],
   "source": [
    "path = \"/kaggle/input/zomato-restaurants-data/Country-Code.xlsx\"\n",
    "df_country = pd.read_excel(path)\n",
    "df_country.head()"
   ]
  },
  {
   "cell_type": "code",
   "execution_count": 12,
   "id": "ce0b2100",
   "metadata": {
    "execution": {
     "iopub.execute_input": "2022-02-22T16:47:54.549368Z",
     "iopub.status.busy": "2022-02-22T16:47:54.548530Z",
     "iopub.status.idle": "2022-02-22T16:47:54.608599Z",
     "shell.execute_reply": "2022-02-22T16:47:54.609462Z",
     "shell.execute_reply.started": "2022-02-22T15:41:15.043622Z"
    },
    "papermill": {
     "duration": 0.110181,
     "end_time": "2022-02-22T16:47:54.609700",
     "exception": false,
     "start_time": "2022-02-22T16:47:54.499519",
     "status": "completed"
    },
    "tags": []
   },
   "outputs": [
    {
     "data": {
      "text/html": [
       "<div>\n",
       "<style scoped>\n",
       "    .dataframe tbody tr th:only-of-type {\n",
       "        vertical-align: middle;\n",
       "    }\n",
       "\n",
       "    .dataframe tbody tr th {\n",
       "        vertical-align: top;\n",
       "    }\n",
       "\n",
       "    .dataframe thead th {\n",
       "        text-align: right;\n",
       "    }\n",
       "</style>\n",
       "<table border=\"1\" class=\"dataframe\">\n",
       "  <thead>\n",
       "    <tr style=\"text-align: right;\">\n",
       "      <th></th>\n",
       "      <th>Restaurant ID</th>\n",
       "      <th>Restaurant Name</th>\n",
       "      <th>Country Code</th>\n",
       "      <th>City</th>\n",
       "      <th>Address</th>\n",
       "      <th>Locality</th>\n",
       "      <th>Locality Verbose</th>\n",
       "      <th>Longitude</th>\n",
       "      <th>Latitude</th>\n",
       "      <th>Cuisines</th>\n",
       "      <th>...</th>\n",
       "      <th>Has Table booking</th>\n",
       "      <th>Has Online delivery</th>\n",
       "      <th>Is delivering now</th>\n",
       "      <th>Switch to order menu</th>\n",
       "      <th>Price range</th>\n",
       "      <th>Aggregate rating</th>\n",
       "      <th>Rating color</th>\n",
       "      <th>Rating text</th>\n",
       "      <th>Votes</th>\n",
       "      <th>Country</th>\n",
       "    </tr>\n",
       "  </thead>\n",
       "  <tbody>\n",
       "    <tr>\n",
       "      <th>0</th>\n",
       "      <td>6317637</td>\n",
       "      <td>Le Petit Souffle</td>\n",
       "      <td>162</td>\n",
       "      <td>Makati City</td>\n",
       "      <td>Third Floor, Century City Mall, Kalayaan Avenu...</td>\n",
       "      <td>Century City Mall, Poblacion, Makati City</td>\n",
       "      <td>Century City Mall, Poblacion, Makati City, Mak...</td>\n",
       "      <td>121.027535</td>\n",
       "      <td>14.565443</td>\n",
       "      <td>French, Japanese, Desserts</td>\n",
       "      <td>...</td>\n",
       "      <td>Yes</td>\n",
       "      <td>No</td>\n",
       "      <td>No</td>\n",
       "      <td>No</td>\n",
       "      <td>3</td>\n",
       "      <td>4.8</td>\n",
       "      <td>Dark Green</td>\n",
       "      <td>Excellent</td>\n",
       "      <td>314</td>\n",
       "      <td>Phillipines</td>\n",
       "    </tr>\n",
       "    <tr>\n",
       "      <th>1</th>\n",
       "      <td>6304287</td>\n",
       "      <td>Izakaya Kikufuji</td>\n",
       "      <td>162</td>\n",
       "      <td>Makati City</td>\n",
       "      <td>Little Tokyo, 2277 Chino Roces Avenue, Legaspi...</td>\n",
       "      <td>Little Tokyo, Legaspi Village, Makati City</td>\n",
       "      <td>Little Tokyo, Legaspi Village, Makati City, Ma...</td>\n",
       "      <td>121.014101</td>\n",
       "      <td>14.553708</td>\n",
       "      <td>Japanese</td>\n",
       "      <td>...</td>\n",
       "      <td>Yes</td>\n",
       "      <td>No</td>\n",
       "      <td>No</td>\n",
       "      <td>No</td>\n",
       "      <td>3</td>\n",
       "      <td>4.5</td>\n",
       "      <td>Dark Green</td>\n",
       "      <td>Excellent</td>\n",
       "      <td>591</td>\n",
       "      <td>Phillipines</td>\n",
       "    </tr>\n",
       "    <tr>\n",
       "      <th>2</th>\n",
       "      <td>6300002</td>\n",
       "      <td>Heat - Edsa Shangri-La</td>\n",
       "      <td>162</td>\n",
       "      <td>Mandaluyong City</td>\n",
       "      <td>Edsa Shangri-La, 1 Garden Way, Ortigas, Mandal...</td>\n",
       "      <td>Edsa Shangri-La, Ortigas, Mandaluyong City</td>\n",
       "      <td>Edsa Shangri-La, Ortigas, Mandaluyong City, Ma...</td>\n",
       "      <td>121.056831</td>\n",
       "      <td>14.581404</td>\n",
       "      <td>Seafood, Asian, Filipino, Indian</td>\n",
       "      <td>...</td>\n",
       "      <td>Yes</td>\n",
       "      <td>No</td>\n",
       "      <td>No</td>\n",
       "      <td>No</td>\n",
       "      <td>4</td>\n",
       "      <td>4.4</td>\n",
       "      <td>Green</td>\n",
       "      <td>Very Good</td>\n",
       "      <td>270</td>\n",
       "      <td>Phillipines</td>\n",
       "    </tr>\n",
       "    <tr>\n",
       "      <th>3</th>\n",
       "      <td>6318506</td>\n",
       "      <td>Ooma</td>\n",
       "      <td>162</td>\n",
       "      <td>Mandaluyong City</td>\n",
       "      <td>Third Floor, Mega Fashion Hall, SM Megamall, O...</td>\n",
       "      <td>SM Megamall, Ortigas, Mandaluyong City</td>\n",
       "      <td>SM Megamall, Ortigas, Mandaluyong City, Mandal...</td>\n",
       "      <td>121.056475</td>\n",
       "      <td>14.585318</td>\n",
       "      <td>Japanese, Sushi</td>\n",
       "      <td>...</td>\n",
       "      <td>No</td>\n",
       "      <td>No</td>\n",
       "      <td>No</td>\n",
       "      <td>No</td>\n",
       "      <td>4</td>\n",
       "      <td>4.9</td>\n",
       "      <td>Dark Green</td>\n",
       "      <td>Excellent</td>\n",
       "      <td>365</td>\n",
       "      <td>Phillipines</td>\n",
       "    </tr>\n",
       "    <tr>\n",
       "      <th>4</th>\n",
       "      <td>6314302</td>\n",
       "      <td>Sambo Kojin</td>\n",
       "      <td>162</td>\n",
       "      <td>Mandaluyong City</td>\n",
       "      <td>Third Floor, Mega Atrium, SM Megamall, Ortigas...</td>\n",
       "      <td>SM Megamall, Ortigas, Mandaluyong City</td>\n",
       "      <td>SM Megamall, Ortigas, Mandaluyong City, Mandal...</td>\n",
       "      <td>121.057508</td>\n",
       "      <td>14.584450</td>\n",
       "      <td>Japanese, Korean</td>\n",
       "      <td>...</td>\n",
       "      <td>Yes</td>\n",
       "      <td>No</td>\n",
       "      <td>No</td>\n",
       "      <td>No</td>\n",
       "      <td>4</td>\n",
       "      <td>4.8</td>\n",
       "      <td>Dark Green</td>\n",
       "      <td>Excellent</td>\n",
       "      <td>229</td>\n",
       "      <td>Phillipines</td>\n",
       "    </tr>\n",
       "  </tbody>\n",
       "</table>\n",
       "<p>5 rows × 22 columns</p>\n",
       "</div>"
      ],
      "text/plain": [
       "   Restaurant ID         Restaurant Name  Country Code              City  \\\n",
       "0        6317637        Le Petit Souffle           162       Makati City   \n",
       "1        6304287        Izakaya Kikufuji           162       Makati City   \n",
       "2        6300002  Heat - Edsa Shangri-La           162  Mandaluyong City   \n",
       "3        6318506                    Ooma           162  Mandaluyong City   \n",
       "4        6314302             Sambo Kojin           162  Mandaluyong City   \n",
       "\n",
       "                                             Address  \\\n",
       "0  Third Floor, Century City Mall, Kalayaan Avenu...   \n",
       "1  Little Tokyo, 2277 Chino Roces Avenue, Legaspi...   \n",
       "2  Edsa Shangri-La, 1 Garden Way, Ortigas, Mandal...   \n",
       "3  Third Floor, Mega Fashion Hall, SM Megamall, O...   \n",
       "4  Third Floor, Mega Atrium, SM Megamall, Ortigas...   \n",
       "\n",
       "                                     Locality  \\\n",
       "0   Century City Mall, Poblacion, Makati City   \n",
       "1  Little Tokyo, Legaspi Village, Makati City   \n",
       "2  Edsa Shangri-La, Ortigas, Mandaluyong City   \n",
       "3      SM Megamall, Ortigas, Mandaluyong City   \n",
       "4      SM Megamall, Ortigas, Mandaluyong City   \n",
       "\n",
       "                                    Locality Verbose   Longitude   Latitude  \\\n",
       "0  Century City Mall, Poblacion, Makati City, Mak...  121.027535  14.565443   \n",
       "1  Little Tokyo, Legaspi Village, Makati City, Ma...  121.014101  14.553708   \n",
       "2  Edsa Shangri-La, Ortigas, Mandaluyong City, Ma...  121.056831  14.581404   \n",
       "3  SM Megamall, Ortigas, Mandaluyong City, Mandal...  121.056475  14.585318   \n",
       "4  SM Megamall, Ortigas, Mandaluyong City, Mandal...  121.057508  14.584450   \n",
       "\n",
       "                           Cuisines  ...  Has Table booking  \\\n",
       "0        French, Japanese, Desserts  ...                Yes   \n",
       "1                          Japanese  ...                Yes   \n",
       "2  Seafood, Asian, Filipino, Indian  ...                Yes   \n",
       "3                   Japanese, Sushi  ...                 No   \n",
       "4                  Japanese, Korean  ...                Yes   \n",
       "\n",
       "  Has Online delivery Is delivering now Switch to order menu Price range  \\\n",
       "0                  No                No                   No           3   \n",
       "1                  No                No                   No           3   \n",
       "2                  No                No                   No           4   \n",
       "3                  No                No                   No           4   \n",
       "4                  No                No                   No           4   \n",
       "\n",
       "  Aggregate rating  Rating color  Rating text Votes      Country  \n",
       "0              4.8    Dark Green    Excellent   314  Phillipines  \n",
       "1              4.5    Dark Green    Excellent   591  Phillipines  \n",
       "2              4.4         Green    Very Good   270  Phillipines  \n",
       "3              4.9    Dark Green    Excellent   365  Phillipines  \n",
       "4              4.8    Dark Green    Excellent   229  Phillipines  \n",
       "\n",
       "[5 rows x 22 columns]"
      ]
     },
     "execution_count": 12,
     "metadata": {},
     "output_type": "execute_result"
    }
   ],
   "source": [
    "final_df = pd.merge(df, df_country, on = \"Country Code\", how = \"left\")\n",
    "final_df.head()"
   ]
  },
  {
   "cell_type": "code",
   "execution_count": 13,
   "id": "bf4ee1bd",
   "metadata": {
    "execution": {
     "iopub.execute_input": "2022-02-22T16:47:54.713616Z",
     "iopub.status.busy": "2022-02-22T16:47:54.712573Z",
     "iopub.status.idle": "2022-02-22T16:47:54.723658Z",
     "shell.execute_reply": "2022-02-22T16:47:54.724811Z",
     "shell.execute_reply.started": "2022-02-22T15:45:49.376687Z"
    },
    "papermill": {
     "duration": 0.067965,
     "end_time": "2022-02-22T16:47:54.725087",
     "exception": false,
     "start_time": "2022-02-22T16:47:54.657122",
     "status": "completed"
    },
    "tags": []
   },
   "outputs": [
    {
     "data": {
      "text/plain": [
       "Index(['India', 'United States', 'United Kingdom', 'Brazil', 'UAE',\n",
       "       'South Africa', 'New Zealand', 'Turkey', 'Australia', 'Phillipines',\n",
       "       'Indonesia', 'Singapore', 'Qatar', 'Sri Lanka', 'Canada'],\n",
       "      dtype='object')"
      ]
     },
     "execution_count": 13,
     "metadata": {},
     "output_type": "execute_result"
    }
   ],
   "source": [
    "country_name = final_df.Country.value_counts().index\n",
    "country_name"
   ]
  },
  {
   "cell_type": "code",
   "execution_count": 14,
   "id": "fef5c757",
   "metadata": {
    "execution": {
     "iopub.execute_input": "2022-02-22T16:47:54.839797Z",
     "iopub.status.busy": "2022-02-22T16:47:54.838303Z",
     "iopub.status.idle": "2022-02-22T16:47:54.849041Z",
     "shell.execute_reply": "2022-02-22T16:47:54.847969Z",
     "shell.execute_reply.started": "2022-02-22T15:46:27.189586Z"
    },
    "papermill": {
     "duration": 0.073105,
     "end_time": "2022-02-22T16:47:54.849370",
     "exception": false,
     "start_time": "2022-02-22T16:47:54.776265",
     "status": "completed"
    },
    "tags": []
   },
   "outputs": [
    {
     "data": {
      "text/plain": [
       "array([8652,  434,   80,   60,   60,   60,   40,   34,   24,   22,   21,\n",
       "         20,   20,   20,    4])"
      ]
     },
     "execution_count": 14,
     "metadata": {},
     "output_type": "execute_result"
    }
   ],
   "source": [
    "country_value = final_df.Country.value_counts().values\n",
    "country_value"
   ]
  },
  {
   "cell_type": "code",
   "execution_count": 15,
   "id": "da4d3d7a",
   "metadata": {
    "execution": {
     "iopub.execute_input": "2022-02-22T16:47:54.965034Z",
     "iopub.status.busy": "2022-02-22T16:47:54.964246Z",
     "iopub.status.idle": "2022-02-22T16:47:57.307695Z",
     "shell.execute_reply": "2022-02-22T16:47:57.306960Z",
     "shell.execute_reply.started": "2022-02-22T15:46:44.506873Z"
    },
    "papermill": {
     "duration": 2.402054,
     "end_time": "2022-02-22T16:47:57.307860",
     "exception": false,
     "start_time": "2022-02-22T16:47:54.905806",
     "status": "completed"
    },
    "tags": []
   },
   "outputs": [],
   "source": [
    "import plotly.express as px"
   ]
  },
  {
   "cell_type": "code",
   "execution_count": 16,
   "id": "09a7a178",
   "metadata": {
    "execution": {
     "iopub.execute_input": "2022-02-22T16:47:57.419783Z",
     "iopub.status.busy": "2022-02-22T16:47:57.418811Z",
     "iopub.status.idle": "2022-02-22T16:47:57.576488Z",
     "shell.execute_reply": "2022-02-22T16:47:57.575673Z",
     "shell.execute_reply.started": "2022-02-22T15:50:11.544933Z"
    },
    "papermill": {
     "duration": 0.216877,
     "end_time": "2022-02-22T16:47:57.576653",
     "exception": false,
     "start_time": "2022-02-22T16:47:57.359776",
     "status": "completed"
    },
    "tags": []
   },
   "outputs": [
    {
     "data": {
      "text/html": [
       "        <script type=\"text/javascript\">\n",
       "        window.PlotlyConfig = {MathJaxConfig: 'local'};\n",
       "        if (window.MathJax) {MathJax.Hub.Config({SVG: {font: \"STIX-Web\"}});}\n",
       "        if (typeof require !== 'undefined') {\n",
       "        require.undef(\"plotly\");\n",
       "        requirejs.config({\n",
       "            paths: {\n",
       "                'plotly': ['https://cdn.plot.ly/plotly-2.8.3.min']\n",
       "            }\n",
       "        });\n",
       "        require(['plotly'], function(Plotly) {\n",
       "            window._Plotly = Plotly;\n",
       "        });\n",
       "        }\n",
       "        </script>\n",
       "        "
      ]
     },
     "metadata": {},
     "output_type": "display_data"
    },
    {
     "data": {
      "text/html": [
       "<div>                            <div id=\"8a11ea12-bf7e-44fd-8202-e7341b410a0c\" class=\"plotly-graph-div\" style=\"height:525px; width:100%;\"></div>            <script type=\"text/javascript\">                require([\"plotly\"], function(Plotly) {                    window.PLOTLYENV=window.PLOTLYENV || {};                                    if (document.getElementById(\"8a11ea12-bf7e-44fd-8202-e7341b410a0c\")) {                    Plotly.newPlot(                        \"8a11ea12-bf7e-44fd-8202-e7341b410a0c\",                        [{\"labels\":[\"India\",\"United States\",\"United Kingdom\",\"Brazil\",\"UAE\"],\"values\":[8652,434,80,60,60],\"type\":\"pie\"}],                        {\"template\":{\"data\":{\"bar\":[{\"error_x\":{\"color\":\"#2a3f5f\"},\"error_y\":{\"color\":\"#2a3f5f\"},\"marker\":{\"line\":{\"color\":\"#E5ECF6\",\"width\":0.5},\"pattern\":{\"fillmode\":\"overlay\",\"size\":10,\"solidity\":0.2}},\"type\":\"bar\"}],\"barpolar\":[{\"marker\":{\"line\":{\"color\":\"#E5ECF6\",\"width\":0.5},\"pattern\":{\"fillmode\":\"overlay\",\"size\":10,\"solidity\":0.2}},\"type\":\"barpolar\"}],\"carpet\":[{\"aaxis\":{\"endlinecolor\":\"#2a3f5f\",\"gridcolor\":\"white\",\"linecolor\":\"white\",\"minorgridcolor\":\"white\",\"startlinecolor\":\"#2a3f5f\"},\"baxis\":{\"endlinecolor\":\"#2a3f5f\",\"gridcolor\":\"white\",\"linecolor\":\"white\",\"minorgridcolor\":\"white\",\"startlinecolor\":\"#2a3f5f\"},\"type\":\"carpet\"}],\"choropleth\":[{\"colorbar\":{\"outlinewidth\":0,\"ticks\":\"\"},\"type\":\"choropleth\"}],\"contour\":[{\"colorbar\":{\"outlinewidth\":0,\"ticks\":\"\"},\"colorscale\":[[0.0,\"#0d0887\"],[0.1111111111111111,\"#46039f\"],[0.2222222222222222,\"#7201a8\"],[0.3333333333333333,\"#9c179e\"],[0.4444444444444444,\"#bd3786\"],[0.5555555555555556,\"#d8576b\"],[0.6666666666666666,\"#ed7953\"],[0.7777777777777778,\"#fb9f3a\"],[0.8888888888888888,\"#fdca26\"],[1.0,\"#f0f921\"]],\"type\":\"contour\"}],\"contourcarpet\":[{\"colorbar\":{\"outlinewidth\":0,\"ticks\":\"\"},\"type\":\"contourcarpet\"}],\"heatmap\":[{\"colorbar\":{\"outlinewidth\":0,\"ticks\":\"\"},\"colorscale\":[[0.0,\"#0d0887\"],[0.1111111111111111,\"#46039f\"],[0.2222222222222222,\"#7201a8\"],[0.3333333333333333,\"#9c179e\"],[0.4444444444444444,\"#bd3786\"],[0.5555555555555556,\"#d8576b\"],[0.6666666666666666,\"#ed7953\"],[0.7777777777777778,\"#fb9f3a\"],[0.8888888888888888,\"#fdca26\"],[1.0,\"#f0f921\"]],\"type\":\"heatmap\"}],\"heatmapgl\":[{\"colorbar\":{\"outlinewidth\":0,\"ticks\":\"\"},\"colorscale\":[[0.0,\"#0d0887\"],[0.1111111111111111,\"#46039f\"],[0.2222222222222222,\"#7201a8\"],[0.3333333333333333,\"#9c179e\"],[0.4444444444444444,\"#bd3786\"],[0.5555555555555556,\"#d8576b\"],[0.6666666666666666,\"#ed7953\"],[0.7777777777777778,\"#fb9f3a\"],[0.8888888888888888,\"#fdca26\"],[1.0,\"#f0f921\"]],\"type\":\"heatmapgl\"}],\"histogram\":[{\"marker\":{\"pattern\":{\"fillmode\":\"overlay\",\"size\":10,\"solidity\":0.2}},\"type\":\"histogram\"}],\"histogram2d\":[{\"colorbar\":{\"outlinewidth\":0,\"ticks\":\"\"},\"colorscale\":[[0.0,\"#0d0887\"],[0.1111111111111111,\"#46039f\"],[0.2222222222222222,\"#7201a8\"],[0.3333333333333333,\"#9c179e\"],[0.4444444444444444,\"#bd3786\"],[0.5555555555555556,\"#d8576b\"],[0.6666666666666666,\"#ed7953\"],[0.7777777777777778,\"#fb9f3a\"],[0.8888888888888888,\"#fdca26\"],[1.0,\"#f0f921\"]],\"type\":\"histogram2d\"}],\"histogram2dcontour\":[{\"colorbar\":{\"outlinewidth\":0,\"ticks\":\"\"},\"colorscale\":[[0.0,\"#0d0887\"],[0.1111111111111111,\"#46039f\"],[0.2222222222222222,\"#7201a8\"],[0.3333333333333333,\"#9c179e\"],[0.4444444444444444,\"#bd3786\"],[0.5555555555555556,\"#d8576b\"],[0.6666666666666666,\"#ed7953\"],[0.7777777777777778,\"#fb9f3a\"],[0.8888888888888888,\"#fdca26\"],[1.0,\"#f0f921\"]],\"type\":\"histogram2dcontour\"}],\"mesh3d\":[{\"colorbar\":{\"outlinewidth\":0,\"ticks\":\"\"},\"type\":\"mesh3d\"}],\"parcoords\":[{\"line\":{\"colorbar\":{\"outlinewidth\":0,\"ticks\":\"\"}},\"type\":\"parcoords\"}],\"pie\":[{\"automargin\":true,\"type\":\"pie\"}],\"scatter\":[{\"marker\":{\"colorbar\":{\"outlinewidth\":0,\"ticks\":\"\"}},\"type\":\"scatter\"}],\"scatter3d\":[{\"line\":{\"colorbar\":{\"outlinewidth\":0,\"ticks\":\"\"}},\"marker\":{\"colorbar\":{\"outlinewidth\":0,\"ticks\":\"\"}},\"type\":\"scatter3d\"}],\"scattercarpet\":[{\"marker\":{\"colorbar\":{\"outlinewidth\":0,\"ticks\":\"\"}},\"type\":\"scattercarpet\"}],\"scattergeo\":[{\"marker\":{\"colorbar\":{\"outlinewidth\":0,\"ticks\":\"\"}},\"type\":\"scattergeo\"}],\"scattergl\":[{\"marker\":{\"colorbar\":{\"outlinewidth\":0,\"ticks\":\"\"}},\"type\":\"scattergl\"}],\"scattermapbox\":[{\"marker\":{\"colorbar\":{\"outlinewidth\":0,\"ticks\":\"\"}},\"type\":\"scattermapbox\"}],\"scatterpolar\":[{\"marker\":{\"colorbar\":{\"outlinewidth\":0,\"ticks\":\"\"}},\"type\":\"scatterpolar\"}],\"scatterpolargl\":[{\"marker\":{\"colorbar\":{\"outlinewidth\":0,\"ticks\":\"\"}},\"type\":\"scatterpolargl\"}],\"scatterternary\":[{\"marker\":{\"colorbar\":{\"outlinewidth\":0,\"ticks\":\"\"}},\"type\":\"scatterternary\"}],\"surface\":[{\"colorbar\":{\"outlinewidth\":0,\"ticks\":\"\"},\"colorscale\":[[0.0,\"#0d0887\"],[0.1111111111111111,\"#46039f\"],[0.2222222222222222,\"#7201a8\"],[0.3333333333333333,\"#9c179e\"],[0.4444444444444444,\"#bd3786\"],[0.5555555555555556,\"#d8576b\"],[0.6666666666666666,\"#ed7953\"],[0.7777777777777778,\"#fb9f3a\"],[0.8888888888888888,\"#fdca26\"],[1.0,\"#f0f921\"]],\"type\":\"surface\"}],\"table\":[{\"cells\":{\"fill\":{\"color\":\"#EBF0F8\"},\"line\":{\"color\":\"white\"}},\"header\":{\"fill\":{\"color\":\"#C8D4E3\"},\"line\":{\"color\":\"white\"}},\"type\":\"table\"}]},\"layout\":{\"annotationdefaults\":{\"arrowcolor\":\"#2a3f5f\",\"arrowhead\":0,\"arrowwidth\":1},\"autotypenumbers\":\"strict\",\"coloraxis\":{\"colorbar\":{\"outlinewidth\":0,\"ticks\":\"\"}},\"colorscale\":{\"diverging\":[[0,\"#8e0152\"],[0.1,\"#c51b7d\"],[0.2,\"#de77ae\"],[0.3,\"#f1b6da\"],[0.4,\"#fde0ef\"],[0.5,\"#f7f7f7\"],[0.6,\"#e6f5d0\"],[0.7,\"#b8e186\"],[0.8,\"#7fbc41\"],[0.9,\"#4d9221\"],[1,\"#276419\"]],\"sequential\":[[0.0,\"#0d0887\"],[0.1111111111111111,\"#46039f\"],[0.2222222222222222,\"#7201a8\"],[0.3333333333333333,\"#9c179e\"],[0.4444444444444444,\"#bd3786\"],[0.5555555555555556,\"#d8576b\"],[0.6666666666666666,\"#ed7953\"],[0.7777777777777778,\"#fb9f3a\"],[0.8888888888888888,\"#fdca26\"],[1.0,\"#f0f921\"]],\"sequentialminus\":[[0.0,\"#0d0887\"],[0.1111111111111111,\"#46039f\"],[0.2222222222222222,\"#7201a8\"],[0.3333333333333333,\"#9c179e\"],[0.4444444444444444,\"#bd3786\"],[0.5555555555555556,\"#d8576b\"],[0.6666666666666666,\"#ed7953\"],[0.7777777777777778,\"#fb9f3a\"],[0.8888888888888888,\"#fdca26\"],[1.0,\"#f0f921\"]]},\"colorway\":[\"#636efa\",\"#EF553B\",\"#00cc96\",\"#ab63fa\",\"#FFA15A\",\"#19d3f3\",\"#FF6692\",\"#B6E880\",\"#FF97FF\",\"#FECB52\"],\"font\":{\"color\":\"#2a3f5f\"},\"geo\":{\"bgcolor\":\"white\",\"lakecolor\":\"white\",\"landcolor\":\"#E5ECF6\",\"showlakes\":true,\"showland\":true,\"subunitcolor\":\"white\"},\"hoverlabel\":{\"align\":\"left\"},\"hovermode\":\"closest\",\"mapbox\":{\"style\":\"light\"},\"paper_bgcolor\":\"white\",\"plot_bgcolor\":\"#E5ECF6\",\"polar\":{\"angularaxis\":{\"gridcolor\":\"white\",\"linecolor\":\"white\",\"ticks\":\"\"},\"bgcolor\":\"#E5ECF6\",\"radialaxis\":{\"gridcolor\":\"white\",\"linecolor\":\"white\",\"ticks\":\"\"}},\"scene\":{\"xaxis\":{\"backgroundcolor\":\"#E5ECF6\",\"gridcolor\":\"white\",\"gridwidth\":2,\"linecolor\":\"white\",\"showbackground\":true,\"ticks\":\"\",\"zerolinecolor\":\"white\"},\"yaxis\":{\"backgroundcolor\":\"#E5ECF6\",\"gridcolor\":\"white\",\"gridwidth\":2,\"linecolor\":\"white\",\"showbackground\":true,\"ticks\":\"\",\"zerolinecolor\":\"white\"},\"zaxis\":{\"backgroundcolor\":\"#E5ECF6\",\"gridcolor\":\"white\",\"gridwidth\":2,\"linecolor\":\"white\",\"showbackground\":true,\"ticks\":\"\",\"zerolinecolor\":\"white\"}},\"shapedefaults\":{\"line\":{\"color\":\"#2a3f5f\"}},\"ternary\":{\"aaxis\":{\"gridcolor\":\"white\",\"linecolor\":\"white\",\"ticks\":\"\"},\"baxis\":{\"gridcolor\":\"white\",\"linecolor\":\"white\",\"ticks\":\"\"},\"bgcolor\":\"#E5ECF6\",\"caxis\":{\"gridcolor\":\"white\",\"linecolor\":\"white\",\"ticks\":\"\"}},\"title\":{\"x\":0.05},\"xaxis\":{\"automargin\":true,\"gridcolor\":\"white\",\"linecolor\":\"white\",\"ticks\":\"\",\"title\":{\"standoff\":15},\"zerolinecolor\":\"white\",\"zerolinewidth\":2},\"yaxis\":{\"automargin\":true,\"gridcolor\":\"white\",\"linecolor\":\"white\",\"ticks\":\"\",\"title\":{\"standoff\":15},\"zerolinecolor\":\"white\",\"zerolinewidth\":2}}}},                        {\"responsive\": true}                    ).then(function(){\n",
       "                            \n",
       "var gd = document.getElementById('8a11ea12-bf7e-44fd-8202-e7341b410a0c');\n",
       "var x = new MutationObserver(function (mutations, observer) {{\n",
       "        var display = window.getComputedStyle(gd).display;\n",
       "        if (!display || display === 'none') {{\n",
       "            console.log([gd, 'removed!']);\n",
       "            Plotly.purge(gd);\n",
       "            observer.disconnect();\n",
       "        }}\n",
       "}});\n",
       "\n",
       "// Listen for the removal of the full notebook cells\n",
       "var notebookContainer = gd.closest('#notebook-container');\n",
       "if (notebookContainer) {{\n",
       "    x.observe(notebookContainer, {childList: true});\n",
       "}}\n",
       "\n",
       "// Listen for the clearing of the current output cell\n",
       "var outputEl = gd.closest('.output');\n",
       "if (outputEl) {{\n",
       "    x.observe(outputEl, {childList: true});\n",
       "}}\n",
       "\n",
       "                        })                };                });            </script>        </div>"
      ]
     },
     "metadata": {},
     "output_type": "display_data"
    }
   ],
   "source": [
    "import plotly.graph_objects as go\n",
    "\n",
    "labels = country_name\n",
    "values = country_value\n",
    "\n",
    "fig = go.Figure(data=[go.Pie(labels=labels[:5], values=values[:5])])\n",
    "fig.show()"
   ]
  },
  {
   "cell_type": "code",
   "execution_count": 17,
   "id": "b4485c3a",
   "metadata": {
    "execution": {
     "iopub.execute_input": "2022-02-22T16:47:57.688868Z",
     "iopub.status.busy": "2022-02-22T16:47:57.685421Z",
     "iopub.status.idle": "2022-02-22T16:47:57.694311Z",
     "shell.execute_reply": "2022-02-22T16:47:57.694937Z",
     "shell.execute_reply.started": "2022-02-22T15:57:17.983782Z"
    },
    "papermill": {
     "duration": 0.064997,
     "end_time": "2022-02-22T16:47:57.695299",
     "exception": false,
     "start_time": "2022-02-22T16:47:57.630302",
     "status": "completed"
    },
    "tags": []
   },
   "outputs": [
    {
     "data": {
      "text/plain": [
       "Index(['Restaurant ID', 'Restaurant Name', 'Country Code', 'City', 'Address',\n",
       "       'Locality', 'Locality Verbose', 'Longitude', 'Latitude', 'Cuisines',\n",
       "       'Average Cost for two', 'Currency', 'Has Table booking',\n",
       "       'Has Online delivery', 'Is delivering now', 'Switch to order menu',\n",
       "       'Price range', 'Aggregate rating', 'Rating color', 'Rating text',\n",
       "       'Votes', 'Country'],\n",
       "      dtype='object')"
      ]
     },
     "execution_count": 17,
     "metadata": {},
     "output_type": "execute_result"
    }
   ],
   "source": [
    "final_df.columns"
   ]
  },
  {
   "cell_type": "code",
   "execution_count": 18,
   "id": "650a5e64",
   "metadata": {
    "execution": {
     "iopub.execute_input": "2022-02-22T16:47:57.812823Z",
     "iopub.status.busy": "2022-02-22T16:47:57.811381Z",
     "iopub.status.idle": "2022-02-22T16:47:57.838534Z",
     "shell.execute_reply": "2022-02-22T16:47:57.837802Z",
     "shell.execute_reply.started": "2022-02-22T16:00:48.890026Z"
    },
    "papermill": {
     "duration": 0.089214,
     "end_time": "2022-02-22T16:47:57.838697",
     "exception": false,
     "start_time": "2022-02-22T16:47:57.749483",
     "status": "completed"
    },
    "tags": []
   },
   "outputs": [
    {
     "data": {
      "text/html": [
       "<div>\n",
       "<style scoped>\n",
       "    .dataframe tbody tr th:only-of-type {\n",
       "        vertical-align: middle;\n",
       "    }\n",
       "\n",
       "    .dataframe tbody tr th {\n",
       "        vertical-align: top;\n",
       "    }\n",
       "\n",
       "    .dataframe thead th {\n",
       "        text-align: right;\n",
       "    }\n",
       "</style>\n",
       "<table border=\"1\" class=\"dataframe\">\n",
       "  <thead>\n",
       "    <tr style=\"text-align: right;\">\n",
       "      <th></th>\n",
       "      <th>Aggregate rating</th>\n",
       "      <th>Rating color</th>\n",
       "      <th>Rating text</th>\n",
       "      <th>Rating Count</th>\n",
       "    </tr>\n",
       "  </thead>\n",
       "  <tbody>\n",
       "    <tr>\n",
       "      <th>0</th>\n",
       "      <td>0.0</td>\n",
       "      <td>White</td>\n",
       "      <td>Not rated</td>\n",
       "      <td>2148</td>\n",
       "    </tr>\n",
       "    <tr>\n",
       "      <th>1</th>\n",
       "      <td>1.8</td>\n",
       "      <td>Red</td>\n",
       "      <td>Poor</td>\n",
       "      <td>1</td>\n",
       "    </tr>\n",
       "    <tr>\n",
       "      <th>2</th>\n",
       "      <td>1.9</td>\n",
       "      <td>Red</td>\n",
       "      <td>Poor</td>\n",
       "      <td>2</td>\n",
       "    </tr>\n",
       "    <tr>\n",
       "      <th>3</th>\n",
       "      <td>2.0</td>\n",
       "      <td>Red</td>\n",
       "      <td>Poor</td>\n",
       "      <td>7</td>\n",
       "    </tr>\n",
       "    <tr>\n",
       "      <th>4</th>\n",
       "      <td>2.1</td>\n",
       "      <td>Red</td>\n",
       "      <td>Poor</td>\n",
       "      <td>15</td>\n",
       "    </tr>\n",
       "  </tbody>\n",
       "</table>\n",
       "</div>"
      ],
      "text/plain": [
       "   Aggregate rating Rating color Rating text  Rating Count\n",
       "0               0.0        White   Not rated          2148\n",
       "1               1.8          Red        Poor             1\n",
       "2               1.9          Red        Poor             2\n",
       "3               2.0          Red        Poor             7\n",
       "4               2.1          Red        Poor            15"
      ]
     },
     "execution_count": 18,
     "metadata": {},
     "output_type": "execute_result"
    }
   ],
   "source": [
    "rating = final_df.groupby(['Aggregate rating', 'Rating color', \n",
    "                  'Rating text']).size().reset_index().rename(columns = {\n",
    "    0:\"Rating Count\"\n",
    "})\n",
    "rating.head()"
   ]
  },
  {
   "cell_type": "code",
   "execution_count": 19,
   "id": "7a2a748f",
   "metadata": {
    "execution": {
     "iopub.execute_input": "2022-02-22T16:47:57.959686Z",
     "iopub.status.busy": "2022-02-22T16:47:57.958629Z",
     "iopub.status.idle": "2022-02-22T16:48:00.069825Z",
     "shell.execute_reply": "2022-02-22T16:48:00.070603Z",
     "shell.execute_reply.started": "2022-02-22T16:16:03.228261Z"
    },
    "papermill": {
     "duration": 2.176958,
     "end_time": "2022-02-22T16:48:00.070818",
     "exception": false,
     "start_time": "2022-02-22T16:47:57.893860",
     "status": "completed"
    },
    "tags": []
   },
   "outputs": [
    {
     "data": {
      "text/html": [
       "<div>                            <div id=\"3ec02ff4-785c-4c80-813c-745c362f21f0\" class=\"plotly-graph-div\" style=\"height:525px; width:100%;\"></div>            <script type=\"text/javascript\">                require([\"plotly\"], function(Plotly) {                    window.PLOTLYENV=window.PLOTLYENV || {};                                    if (document.getElementById(\"3ec02ff4-785c-4c80-813c-745c362f21f0\")) {                    Plotly.newPlot(                        \"3ec02ff4-785c-4c80-813c-745c362f21f0\",                        [{\"alignmentgroup\":\"True\",\"bingroup\":\"x\",\"hovertemplate\":\"Rating color=%{x}<br>count=%{y}<extra></extra>\",\"legendgroup\":\"\",\"marker\":{\"color\":\"#636efa\",\"pattern\":{\"shape\":\"\"}},\"name\":\"\",\"offsetgroup\":\"\",\"orientation\":\"v\",\"showlegend\":false,\"x\":[\"Dark Green\",\"Dark Green\",\"Green\",\"Dark Green\",\"Dark Green\",\"Green\",\"Green\",\"Green\",\"Dark Green\",\"Dark Green\",\"Dark Green\",\"Green\",\"Dark Green\",\"Green\",\"Green\",\"Yellow\",\"Green\",\"Dark Green\",\"Dark Green\",\"Green\",\"Dark Green\",\"Dark Green\",\"Orange\",\"Yellow\",\"Yellow\",\"Yellow\",\"Orange\",\"Orange\",\"Yellow\",\"Yellow\",\"White\",\"Green\",\"Orange\",\"Yellow\",\"Green\",\"Green\",\"Yellow\",\"Green\",\"Orange\",\"Dark Green\",\"Orange\",\"Yellow\",\"Green\",\"Dark Green\",\"Dark Green\",\"Dark Green\",\"Green\",\"Dark Green\",\"Dark Green\",\"Dark Green\",\"Dark Green\",\"Dark Green\",\"Green\",\"Green\",\"Dark Green\",\"Green\",\"Green\",\"Green\",\"White\",\"Dark Green\",\"Dark Green\",\"Green\",\"Dark Green\",\"Green\",\"Orange\",\"Green\",\"Dark Green\",\"Dark Green\",\"Yellow\",\"White\",\"Orange\",\"Yellow\",\"Green\",\"Yellow\",\"Green\",\"Green\",\"Green\",\"White\",\"White\",\"Green\",\"Dark Green\",\"Green\",\"Orange\",\"Orange\",\"Orange\",\"Orange\",\"Orange\",\"Orange\",\"Yellow\",\"Yellow\",\"Yellow\",\"Yellow\",\"Yellow\",\"Yellow\",\"Yellow\",\"Yellow\",\"Yellow\",\"Yellow\",\"Yellow\",\"Yellow\",\"Yellow\",\"Orange\",\"Yellow\",\"Dark Green\",\"Dark Green\",\"Dark Green\",\"Yellow\",\"Yellow\",\"Green\",\"Green\",\"Green\",\"Green\",\"Green\",\"Green\",\"Green\",\"Green\",\"Green\",\"Green\",\"Green\",\"Green\",\"Green\",\"Green\",\"Green\",\"Dark Green\",\"Dark Green\",\"Dark Green\",\"Yellow\",\"Yellow\",\"Yellow\",\"Yellow\",\"Green\",\"Green\",\"Green\",\"Green\",\"Green\",\"Green\",\"Green\",\"Green\",\"Yellow\",\"Green\",\"Green\",\"Green\",\"Green\",\"Orange\",\"Dark Green\",\"Dark Green\",\"Dark Green\",\"Dark Green\",\"Yellow\",\"Green\",\"Green\",\"Green\",\"Green\",\"Green\",\"Green\",\"Green\",\"Green\",\"Green\",\"Green\",\"Green\",\"Green\",\"Green\",\"Green\",\"Green\",\"Green\",\"Yellow\",\"Green\",\"Green\",\"Green\",\"Green\",\"Green\",\"Green\",\"Green\",\"Yellow\",\"Green\",\"Dark Green\",\"Dark Green\",\"Yellow\",\"Yellow\",\"Green\",\"Green\",\"Green\",\"Green\",\"Green\",\"Dark Green\",\"Yellow\",\"Green\",\"Orange\",\"Orange\",\"Dark Green\",\"Dark Green\",\"Yellow\",\"Yellow\",\"Yellow\",\"Yellow\",\"Yellow\",\"Yellow\",\"Green\",\"Green\",\"Green\",\"Green\",\"Green\",\"Green\",\"Green\",\"Green\",\"Green\",\"Green\",\"Green\",\"Orange\",\"Yellow\",\"Green\",\"Green\",\"Yellow\",\"Dark Green\",\"Yellow\",\"Yellow\",\"Yellow\",\"Yellow\",\"Green\",\"Green\",\"Green\",\"Dark Green\",\"Green\",\"Green\",\"Yellow\",\"Green\",\"Green\",\"Green\",\"Green\",\"Dark Green\",\"Dark Green\",\"Yellow\",\"Green\",\"Green\",\"Orange\",\"Dark Green\",\"Yellow\",\"Yellow\",\"White\",\"White\",\"Green\",\"Green\",\"Green\",\"Green\",\"Green\",\"Green\",\"Green\",\"Green\",\"Green\",\"Dark Green\",\"Dark Green\",\"Dark Green\",\"Green\",\"Green\",\"Orange\",\"Dark Green\",\"Dark Green\",\"Green\",\"Green\",\"Green\",\"Dark Green\",\"Green\",\"Green\",\"Green\",\"Green\",\"Green\",\"Yellow\",\"Green\",\"Green\",\"Yellow\",\"Orange\",\"Orange\",\"Orange\",\"Orange\",\"Orange\",\"Yellow\",\"Yellow\",\"Yellow\",\"Yellow\",\"Yellow\",\"Yellow\",\"Yellow\",\"Yellow\",\"Yellow\",\"Yellow\",\"Yellow\",\"Yellow\",\"Yellow\",\"Yellow\",\"Yellow\",\"Green\",\"Yellow\",\"Yellow\",\"Yellow\",\"Green\",\"Green\",\"Yellow\",\"Yellow\",\"Yellow\",\"Green\",\"Green\",\"Yellow\",\"Green\",\"Green\",\"Dark Green\",\"Dark Green\",\"Yellow\",\"Green\",\"Green\",\"Green\",\"Yellow\",\"Yellow\",\"Red\",\"Green\",\"Yellow\",\"Yellow\",\"Green\",\"Yellow\",\"Yellow\",\"Yellow\",\"Dark Green\",\"Yellow\",\"Yellow\",\"Yellow\",\"Dark Green\",\"Dark Green\",\"Dark Green\",\"Dark Green\",\"Yellow\",\"Green\",\"Green\",\"Green\",\"Green\",\"Green\",\"Yellow\",\"Yellow\",\"Yellow\",\"Yellow\",\"Green\",\"Green\",\"Green\",\"Green\",\"Green\",\"Orange\",\"Red\",\"Yellow\",\"Orange\",\"Yellow\",\"Red\",\"Yellow\",\"Green\",\"Dark Green\",\"Dark Green\",\"Green\",\"Dark Green\",\"Dark Green\",\"Green\",\"Green\",\"Dark Green\",\"Green\",\"Green\",\"Dark Green\",\"Dark Green\",\"Dark Green\",\"Dark Green\",\"Yellow\",\"Green\",\"Green\",\"Green\",\"Green\",\"Green\",\"Orange\",\"Orange\",\"Green\",\"Dark Green\",\"Dark Green\",\"Dark Green\",\"Yellow\",\"Yellow\",\"Yellow\",\"Green\",\"Green\",\"Green\",\"Green\",\"Green\",\"Green\",\"Yellow\",\"Yellow\",\"Green\",\"Green\",\"Green\",\"Dark Green\",\"Green\",\"Yellow\",\"Yellow\",\"Yellow\",\"Yellow\",\"Yellow\",\"Yellow\",\"Yellow\",\"Yellow\",\"Yellow\",\"Yellow\",\"Yellow\",\"Yellow\",\"Yellow\",\"Yellow\",\"Yellow\",\"Yellow\",\"Yellow\",\"Yellow\",\"Yellow\",\"White\",\"Green\",\"Orange\",\"Green\",\"Dark Green\",\"Dark Green\",\"Dark Green\",\"Dark Green\",\"Dark Green\",\"Green\",\"Green\",\"Dark Green\",\"Green\",\"Green\",\"Green\",\"Green\",\"Dark Green\",\"Dark Green\",\"Dark Green\",\"Yellow\",\"Green\",\"Green\",\"Green\",\"Green\",\"Orange\",\"Dark Green\",\"Dark Green\",\"Dark Green\",\"Dark Green\",\"Yellow\",\"Yellow\",\"Green\",\"Green\",\"Green\",\"Green\",\"Green\",\"Green\",\"Green\",\"Green\",\"Green\",\"Green\",\"Green\",\"Yellow\",\"Yellow\",\"Orange\",\"Green\",\"Yellow\",\"Orange\",\"Yellow\",\"Yellow\",\"Green\",\"Green\",\"Orange\",\"Orange\",\"Yellow\",\"Orange\",\"Yellow\",\"Yellow\",\"Orange\",\"Orange\",\"Orange\",\"Yellow\",\"Yellow\",\"Orange\",\"Yellow\",\"Yellow\",\"Yellow\",\"Yellow\",\"Yellow\",\"Yellow\",\"Yellow\",\"Yellow\",\"Yellow\",\"Yellow\",\"Yellow\",\"Yellow\",\"Yellow\",\"Yellow\",\"Yellow\",\"Yellow\",\"Green\",\"Green\",\"Green\",\"Yellow\",\"Dark Green\",\"Dark Green\",\"Green\",\"Green\",\"Green\",\"Dark Green\",\"Yellow\",\"Yellow\",\"Green\",\"Green\",\"Green\",\"Dark Green\",\"Dark Green\",\"Dark Green\",\"Dark Green\",\"Dark Green\",\"Dark Green\",\"Dark Green\",\"Green\",\"Green\",\"Green\",\"Green\",\"Orange\",\"Orange\",\"Yellow\",\"Yellow\",\"Yellow\",\"Yellow\",\"Yellow\",\"Yellow\",\"Yellow\",\"Yellow\",\"Yellow\",\"Yellow\",\"Yellow\",\"Yellow\",\"Yellow\",\"Yellow\",\"Yellow\",\"Yellow\",\"Yellow\",\"Green\",\"Green\",\"Yellow\",\"Green\",\"Orange\",\"Yellow\",\"Yellow\",\"Yellow\",\"Yellow\",\"Yellow\",\"Yellow\",\"Yellow\",\"Yellow\",\"Yellow\",\"Yellow\",\"Yellow\",\"Yellow\",\"Yellow\",\"Yellow\",\"Yellow\",\"Yellow\",\"Yellow\",\"Yellow\",\"Yellow\",\"Yellow\",\"Orange\",\"Orange\",\"Dark Green\",\"Dark Green\",\"Green\",\"Green\",\"Green\",\"Dark Green\",\"Green\",\"Green\",\"Green\",\"Yellow\",\"Dark Green\",\"Green\",\"Green\",\"Green\",\"Green\",\"Green\",\"Dark Green\",\"Dark Green\",\"Green\",\"Dark Green\",\"Yellow\",\"Green\",\"Green\",\"Dark Green\",\"Dark Green\",\"Dark Green\",\"Dark Green\",\"Dark Green\",\"Dark Green\",\"Dark Green\",\"Green\",\"Green\",\"Green\",\"Dark Green\",\"Green\",\"Orange\",\"Dark Green\",\"Green\",\"Yellow\",\"Green\",\"Yellow\",\"Yellow\",\"Green\",\"Green\",\"Yellow\",\"Green\",\"Green\",\"Green\",\"Green\",\"Red\",\"Green\",\"Green\",\"Green\",\"Yellow\",\"Yellow\",\"Dark Green\",\"Green\",\"Dark Green\",\"Yellow\",\"Green\",\"Yellow\",\"Yellow\",\"Yellow\",\"Green\",\"Green\",\"Green\",\"Green\",\"Green\",\"Yellow\",\"Yellow\",\"Yellow\",\"Green\",\"Orange\",\"Dark Green\",\"Yellow\",\"Yellow\",\"Yellow\",\"Green\",\"Green\",\"Green\",\"Green\",\"Yellow\",\"Dark Green\",\"Green\",\"Green\",\"Green\",\"Green\",\"Yellow\",\"Yellow\",\"Dark Green\",\"Green\",\"Green\",\"Yellow\",\"Green\",\"Green\",\"Green\",\"Dark Green\",\"Green\",\"Green\",\"Yellow\",\"Green\",\"Orange\",\"Orange\",\"Orange\",\"Orange\",\"Orange\",\"Orange\",\"Orange\",\"Orange\",\"Orange\",\"Orange\",\"Orange\",\"Orange\",\"Orange\",\"Orange\",\"Yellow\",\"Yellow\",\"Yellow\",\"Yellow\",\"Yellow\",\"Orange\",\"Orange\",\"Yellow\",\"Green\",\"Orange\",\"Yellow\",\"Yellow\",\"Orange\",\"Orange\",\"Yellow\",\"Yellow\",\"Yellow\",\"Orange\",\"Yellow\",\"Yellow\",\"Yellow\",\"Yellow\",\"Green\",\"Green\",\"Yellow\",\"Yellow\",\"Green\",\"Yellow\",\"Orange\",\"Orange\",\"Orange\",\"Orange\",\"Orange\",\"Orange\",\"Orange\",\"Orange\",\"Yellow\",\"Yellow\",\"Orange\",\"Orange\",\"Orange\",\"Yellow\",\"Orange\",\"Orange\",\"Orange\",\"Orange\",\"Orange\",\"Green\",\"Dark Green\",\"Dark Green\",\"Yellow\",\"Green\",\"Green\",\"Green\",\"Dark Green\",\"Dark Green\",\"Dark Green\",\"Green\",\"Green\",\"Dark Green\",\"Dark Green\",\"Green\",\"Dark Green\",\"Green\",\"Dark Green\",\"Yellow\",\"Green\",\"Orange\",\"Orange\",\"Dark Green\",\"Yellow\",\"Green\",\"Green\",\"Green\",\"Green\",\"Yellow\",\"Yellow\",\"Yellow\",\"Yellow\",\"Yellow\",\"Green\",\"Green\",\"Green\",\"Green\",\"Yellow\",\"Yellow\",\"Green\",\"Yellow\",\"Green\",\"Dark Green\",\"Dark Green\",\"Yellow\",\"Green\",\"Yellow\",\"Green\",\"Yellow\",\"Yellow\",\"Yellow\",\"Yellow\",\"Yellow\",\"Green\",\"Green\",\"Green\",\"Green\",\"Yellow\",\"Green\",\"Green\",\"Yellow\",\"Yellow\",\"Green\",\"Green\",\"Green\",\"Green\",\"Green\",\"Dark Green\",\"Green\",\"Yellow\",\"Orange\",\"Green\",\"Green\",\"Green\",\"Green\",\"Orange\",\"Green\",\"Dark Green\",\"Green\",\"Green\",\"Yellow\",\"Green\",\"Green\",\"Dark Green\",\"Green\",\"Dark Green\",\"Green\",\"Green\",\"Dark Green\",\"Green\",\"Yellow\",\"Green\",\"Green\",\"Green\",\"Dark Green\",\"Green\",\"Dark Green\",\"Dark Green\",\"Green\",\"Dark Green\",\"Yellow\",\"Yellow\",\"Yellow\",\"Green\",\"Green\",\"Yellow\",\"Dark Green\",\"Yellow\",\"Yellow\",\"Green\",\"Green\",\"Green\",\"Green\",\"Green\",\"Green\",\"Dark Green\",\"Green\",\"Green\",\"Green\",\"Yellow\",\"Yellow\",\"Yellow\",\"Yellow\",\"Green\",\"Dark Green\",\"Green\",\"Green\",\"Yellow\",\"Green\",\"Green\",\"Yellow\",\"Yellow\",\"Yellow\",\"Yellow\",\"Green\",\"Green\",\"Green\",\"Green\",\"Green\",\"Orange\",\"Orange\",\"Orange\",\"Orange\",\"Orange\",\"Orange\",\"White\",\"White\",\"White\",\"White\",\"Orange\",\"Orange\",\"Orange\",\"White\",\"White\",\"White\",\"Orange\",\"Orange\",\"Orange\",\"Yellow\",\"Yellow\",\"Yellow\",\"White\",\"White\",\"White\",\"Red\",\"Green\",\"Green\",\"Orange\",\"Orange\",\"Orange\",\"Red\",\"White\",\"Orange\",\"White\",\"White\",\"White\",\"White\",\"White\",\"White\",\"White\",\"White\",\"White\",\"White\",\"Orange\",\"Orange\",\"Orange\",\"White\",\"Orange\",\"Orange\",\"Orange\",\"Orange\",\"Orange\",\"White\",\"White\",\"White\",\"Orange\",\"Orange\",\"Orange\",\"Orange\",\"Orange\",\"Orange\",\"White\",\"White\",\"White\",\"Orange\",\"Orange\",\"Orange\",\"Orange\",\"Orange\",\"Orange\",\"Orange\",\"Orange\",\"Orange\",\"Orange\",\"Orange\",\"Orange\",\"Orange\",\"Dark Green\",\"Yellow\",\"Yellow\",\"Yellow\",\"Yellow\",\"Yellow\",\"Yellow\",\"Yellow\",\"Yellow\",\"Yellow\",\"Yellow\",\"Yellow\",\"Yellow\",\"Yellow\",\"Yellow\",\"Yellow\",\"Yellow\",\"Green\",\"Orange\",\"Orange\",\"Orange\",\"Orange\",\"Orange\",\"Orange\",\"Orange\",\"Orange\",\"Orange\",\"White\",\"White\",\"White\",\"White\",\"White\",\"White\",\"White\",\"White\",\"Orange\",\"Orange\",\"Orange\",\"Orange\",\"Orange\",\"Orange\",\"Orange\",\"Orange\",\"Orange\",\"White\",\"Orange\",\"Orange\",\"Orange\",\"Orange\",\"Orange\",\"Orange\",\"White\",\"White\",\"White\",\"White\",\"White\",\"White\",\"White\",\"White\",\"White\",\"White\",\"Orange\",\"Orange\",\"White\",\"White\",\"Orange\",\"White\",\"White\",\"Orange\",\"Orange\",\"Orange\",\"White\",\"White\",\"White\",\"White\",\"White\",\"White\",\"Orange\",\"Orange\",\"White\",\"White\",\"White\",\"White\",\"Orange\",\"Orange\",\"Orange\",\"Orange\",\"Orange\",\"Orange\",\"Orange\",\"Orange\",\"Orange\",\"Yellow\",\"White\",\"White\",\"White\",\"White\",\"White\",\"White\",\"White\",\"White\",\"White\",\"White\",\"Orange\",\"White\",\"White\",\"White\",\"White\",\"White\",\"Orange\",\"Orange\",\"Orange\",\"Orange\",\"White\",\"White\",\"White\",\"White\",\"White\",\"White\",\"White\",\"Orange\",\"Orange\",\"Yellow\",\"White\",\"White\",\"Orange\",\"Orange\",\"Orange\",\"Orange\",\"Orange\",\"Orange\",\"Orange\",\"Orange\",\"White\",\"Orange\",\"Orange\",\"Orange\",\"Orange\",\"Orange\",\"Orange\",\"Orange\",\"Orange\",\"Orange\",\"Orange\",\"Yellow\",\"Orange\",\"White\",\"White\",\"White\",\"White\",\"White\",\"Orange\",\"Orange\",\"Orange\",\"Orange\",\"Orange\",\"Orange\",\"Orange\",\"Orange\",\"Orange\",\"Orange\",\"White\",\"White\",\"White\",\"White\",\"White\",\"White\",\"White\",\"White\",\"White\",\"Orange\",\"Orange\",\"Orange\",\"Orange\",\"Orange\",\"Yellow\",\"Yellow\",\"White\",\"White\",\"Orange\",\"Orange\",\"Orange\",\"Orange\",\"Orange\",\"Orange\",\"Orange\",\"Orange\",\"Orange\",\"Orange\",\"Orange\",\"Orange\",\"Orange\",\"Orange\",\"Yellow\",\"Yellow\",\"Red\",\"Orange\",\"Orange\",\"Dark Green\",\"Dark Green\",\"Green\",\"Yellow\",\"Dark Green\",\"Yellow\",\"Green\",\"Green\",\"Green\",\"Yellow\",\"Green\",\"Yellow\",\"Green\",\"Dark Green\",\"Yellow\",\"Dark Green\",\"Dark Green\",\"Green\",\"Green\",\"Green\",\"Orange\",\"Orange\",\"Green\",\"Green\",\"Orange\",\"Orange\",\"Orange\",\"White\",\"Orange\",\"Orange\",\"Orange\",\"White\",\"White\",\"White\",\"White\",\"White\",\"White\",\"White\",\"White\",\"White\",\"White\",\"White\",\"White\",\"White\",\"White\",\"White\",\"White\",\"Orange\",\"Orange\",\"Yellow\",\"Orange\",\"Orange\",\"Orange\",\"Orange\",\"Orange\",\"Orange\",\"Yellow\",\"Yellow\",\"Yellow\",\"Green\",\"Yellow\",\"Orange\",\"Yellow\",\"Yellow\",\"Orange\",\"Orange\",\"White\",\"Yellow\",\"Yellow\",\"Yellow\",\"Yellow\",\"Green\",\"Green\",\"Green\",\"Green\",\"Yellow\",\"Yellow\",\"Orange\",\"Orange\",\"Dark Green\",\"Dark Green\",\"Dark Green\",\"Yellow\",\"Yellow\",\"Yellow\",\"Yellow\",\"Yellow\",\"Yellow\",\"Yellow\",\"Yellow\",\"Yellow\",\"Yellow\",\"Yellow\",\"Yellow\",\"Yellow\",\"Yellow\",\"Yellow\",\"Yellow\",\"Yellow\",\"Yellow\",\"Yellow\",\"Yellow\",\"Yellow\",\"Yellow\",\"Yellow\",\"Yellow\",\"Red\",\"Green\",\"Green\",\"Green\",\"Green\",\"Green\",\"Green\",\"Green\",\"Green\",\"Green\",\"Green\",\"Green\",\"Green\",\"Orange\",\"Yellow\",\"Yellow\",\"Red\",\"Green\",\"Orange\",\"Orange\",\"Orange\",\"Yellow\",\"Yellow\",\"Yellow\",\"Yellow\",\"Yellow\",\"Yellow\",\"Yellow\",\"Yellow\",\"Yellow\",\"Yellow\",\"Red\",\"Green\",\"Green\",\"Green\",\"Orange\",\"Orange\",\"Orange\",\"Orange\",\"Orange\",\"Orange\",\"Orange\",\"Orange\",\"Orange\",\"Orange\",\"Orange\",\"Yellow\",\"Yellow\",\"White\",\"Red\",\"Orange\",\"Orange\",\"Orange\",\"Orange\",\"Orange\",\"Orange\",\"Orange\",\"Orange\",\"Orange\",\"Orange\",\"Orange\",\"Orange\",\"Orange\",\"Orange\",\"Orange\",\"Dark Green\",\"Yellow\",\"Yellow\",\"Yellow\",\"Yellow\",\"Yellow\",\"Yellow\",\"Yellow\",\"White\",\"White\",\"White\",\"White\",\"Yellow\",\"White\",\"White\",\"White\",\"White\",\"White\",\"White\",\"White\",\"White\",\"White\",\"Orange\",\"Orange\",\"Orange\",\"Orange\",\"Orange\",\"Orange\",\"Orange\",\"Orange\",\"Orange\",\"Orange\",\"Orange\",\"Orange\",\"Orange\",\"Orange\",\"Orange\",\"Orange\",\"Orange\",\"Orange\",\"Orange\",\"Orange\",\"Orange\",\"Orange\",\"Orange\",\"Orange\",\"Orange\",\"Orange\",\"Orange\",\"Orange\",\"Orange\",\"Orange\",\"Orange\",\"Orange\",\"Orange\",\"Orange\",\"Orange\",\"Orange\",\"Orange\",\"Orange\",\"Orange\",\"Orange\",\"Orange\",\"Orange\",\"Orange\",\"Orange\",\"Orange\",\"Orange\",\"Orange\",\"Dark Green\",\"Yellow\",\"Yellow\",\"Yellow\",\"Yellow\",\"Yellow\",\"Yellow\",\"Yellow\",\"Yellow\",\"Yellow\",\"Yellow\",\"Yellow\",\"Yellow\",\"Yellow\",\"Red\",\"Red\",\"Red\",\"Red\",\"Green\",\"Green\",\"Green\",\"Green\",\"Orange\",\"Orange\",\"Orange\",\"Yellow\",\"Yellow\",\"Yellow\",\"Yellow\",\"Yellow\",\"Yellow\",\"Yellow\",\"Yellow\",\"Yellow\",\"Yellow\",\"Yellow\",\"Green\",\"Green\",\"Green\",\"Green\",\"Green\",\"Green\",\"Green\",\"Orange\",\"Yellow\",\"Yellow\",\"Yellow\",\"Orange\",\"Orange\",\"Orange\",\"Yellow\",\"Yellow\",\"Yellow\",\"Yellow\",\"Yellow\",\"Yellow\",\"Yellow\",\"Green\",\"Green\",\"Green\",\"Green\",\"Green\",\"Green\",\"Green\",\"Orange\",\"Yellow\",\"Orange\",\"Orange\",\"Orange\",\"Orange\",\"Orange\",\"Orange\",\"Yellow\",\"Orange\",\"Orange\",\"Yellow\",\"Yellow\",\"Yellow\",\"Yellow\",\"Green\",\"Orange\",\"Orange\",\"Orange\",\"Dark Green\",\"Yellow\",\"Yellow\",\"Yellow\",\"Green\",\"Orange\",\"Orange\",\"Orange\",\"Orange\",\"Orange\",\"Orange\",\"Orange\",\"Orange\",\"Orange\",\"Dark Green\",\"Yellow\",\"Yellow\",\"Yellow\",\"Yellow\",\"Yellow\",\"Yellow\",\"Yellow\",\"Yellow\",\"Yellow\",\"Yellow\",\"Yellow\",\"Yellow\",\"Yellow\",\"Yellow\",\"Green\",\"Green\",\"Green\",\"Orange\",\"Orange\",\"Orange\",\"Orange\",\"White\",\"Orange\",\"White\",\"Orange\",\"Orange\",\"Orange\",\"Orange\",\"Yellow\",\"Yellow\",\"Yellow\",\"Yellow\",\"Green\",\"Yellow\",\"White\",\"Orange\",\"Orange\",\"Orange\",\"Yellow\",\"Orange\",\"Yellow\",\"Yellow\",\"Orange\",\"Yellow\",\"Green\",\"Orange\",\"Orange\",\"Orange\",\"Orange\",\"Orange\",\"Orange\",\"Orange\",\"Orange\",\"Orange\",\"Orange\",\"Orange\",\"Orange\",\"Orange\",\"Orange\",\"Orange\",\"Orange\",\"Orange\",\"Orange\",\"Orange\",\"Yellow\",\"Yellow\",\"Yellow\",\"Yellow\",\"Yellow\",\"Yellow\",\"Red\",\"Red\",\"Green\",\"Orange\",\"Yellow\",\"Yellow\",\"Green\",\"Orange\",\"Orange\",\"Orange\",\"Orange\",\"Yellow\",\"Yellow\",\"Orange\",\"Orange\",\"Orange\",\"Orange\",\"Orange\",\"Orange\",\"Orange\",\"Orange\",\"Orange\",\"Orange\",\"Orange\",\"Yellow\",\"Yellow\",\"Yellow\",\"Yellow\",\"Yellow\",\"Yellow\",\"Yellow\",\"Yellow\",\"Yellow\",\"Red\",\"Red\",\"Red\",\"Green\",\"Orange\",\"Orange\",\"Orange\",\"Orange\",\"Orange\",\"Orange\",\"Orange\",\"Orange\",\"Orange\",\"Orange\",\"Orange\",\"Orange\",\"Orange\",\"Orange\",\"Orange\",\"Orange\",\"Orange\",\"Orange\",\"Orange\",\"Orange\",\"Orange\",\"Orange\",\"Orange\",\"Orange\",\"Orange\",\"Orange\",\"Orange\",\"Orange\",\"Orange\",\"Orange\",\"Orange\",\"Orange\",\"Orange\",\"Orange\",\"Orange\",\"Yellow\",\"Yellow\",\"Yellow\",\"White\",\"White\",\"White\",\"White\",\"White\",\"Red\",\"Yellow\",\"Red\",\"Green\",\"Orange\",\"Orange\",\"Yellow\",\"Yellow\",\"Yellow\",\"Yellow\",\"Yellow\",\"Yellow\",\"Orange\",\"Orange\",\"Orange\",\"Orange\",\"Orange\",\"Orange\",\"Orange\",\"Orange\",\"Orange\",\"Orange\",\"Orange\",\"Orange\",\"Orange\",\"Orange\",\"Orange\",\"Orange\",\"White\",\"White\",\"White\",\"White\",\"White\",\"White\",\"White\",\"White\",\"White\",\"White\",\"White\",\"White\",\"White\",\"White\",\"White\",\"White\",\"White\",\"White\",\"White\",\"White\",\"White\",\"White\",\"White\",\"White\",\"White\",\"White\",\"White\",\"White\",\"White\",\"White\",\"White\",\"White\",\"White\",\"Orange\",\"Orange\",\"Orange\",\"Yellow\",\"Yellow\",\"Orange\",\"Orange\",\"Orange\",\"Orange\",\"Orange\",\"Orange\",\"Orange\",\"Orange\",\"Orange\",\"Orange\",\"Orange\",\"Orange\",\"Orange\",\"Yellow\",\"Orange\",\"Orange\",\"Red\",\"Yellow\",\"Orange\",\"Orange\",\"Yellow\",\"Red\",\"Orange\",\"Orange\",\"White\",\"Orange\",\"Orange\",\"Orange\",\"Orange\",\"Orange\",\"Orange\",\"Orange\",\"Orange\",\"Orange\",\"Orange\",\"Orange\",\"Orange\",\"Orange\",\"Orange\",\"Orange\",\"Orange\",\"Orange\",\"Orange\",\"Orange\",\"Orange\",\"Orange\",\"Orange\",\"Orange\",\"Orange\",\"Orange\",\"Orange\",\"Orange\",\"Orange\",\"Orange\",\"Orange\",\"Orange\",\"Orange\",\"Orange\",\"Orange\",\"Orange\",\"Orange\",\"Orange\",\"Orange\",\"Orange\",\"Orange\",\"Yellow\",\"Yellow\",\"White\",\"White\",\"White\",\"White\",\"White\",\"White\",\"White\",\"Red\",\"Red\",\"Red\",\"Orange\",\"Orange\",\"Orange\",\"Orange\",\"Orange\",\"Orange\",\"Orange\",\"Orange\",\"Orange\",\"Orange\",\"Yellow\",\"Orange\",\"White\",\"White\",\"White\",\"White\",\"White\",\"White\",\"White\",\"White\",\"White\",\"White\",\"White\",\"White\",\"White\",\"White\",\"White\",\"White\",\"White\",\"White\",\"White\",\"White\",\"Orange\",\"Orange\",\"Orange\",\"Yellow\",\"White\",\"White\",\"White\",\"Orange\",\"White\",\"White\",\"White\",\"White\",\"White\",\"White\",\"White\",\"White\",\"Orange\",\"Orange\",\"Orange\",\"Orange\",\"Orange\",\"Orange\",\"Yellow\",\"Yellow\",\"White\",\"White\",\"White\",\"White\",\"Orange\",\"Orange\",\"Orange\",\"Orange\",\"Orange\",\"Dark Green\",\"Dark Green\",\"Dark Green\",\"Yellow\",\"Yellow\",\"Yellow\",\"Yellow\",\"Yellow\",\"Yellow\",\"Yellow\",\"Yellow\",\"Yellow\",\"Yellow\",\"Yellow\",\"Yellow\",\"Yellow\",\"Yellow\",\"Yellow\",\"Yellow\",\"Yellow\",\"Green\",\"Green\",\"Green\",\"Green\",\"Green\",\"Green\",\"Green\",\"Green\",\"Green\",\"Green\",\"Green\",\"Green\",\"Green\",\"Yellow\",\"Green\",\"Orange\",\"Orange\",\"Orange\",\"Orange\",\"Orange\",\"Orange\",\"Orange\",\"Orange\",\"Orange\",\"Orange\",\"Orange\",\"Orange\",\"Orange\",\"Orange\",\"Orange\",\"Orange\",\"Orange\",\"Orange\",\"Orange\",\"Orange\",\"Orange\",\"Dark Green\",\"Yellow\",\"Yellow\",\"Yellow\",\"Yellow\",\"Yellow\",\"Yellow\",\"Yellow\",\"White\",\"White\",\"White\",\"White\",\"Red\",\"Green\",\"Orange\",\"Orange\",\"White\",\"White\",\"White\",\"White\",\"White\",\"White\",\"White\",\"White\",\"White\",\"White\",\"White\",\"White\",\"White\",\"White\",\"White\",\"White\",\"White\",\"White\",\"Orange\",\"Orange\",\"Green\",\"Orange\",\"Orange\",\"Orange\",\"Orange\",\"Orange\",\"Orange\",\"Orange\",\"Orange\",\"Orange\",\"Orange\",\"Orange\",\"Orange\",\"Orange\",\"Yellow\",\"White\",\"White\",\"White\",\"White\",\"White\",\"White\",\"White\",\"White\",\"White\",\"White\",\"White\",\"White\",\"White\",\"White\",\"White\",\"White\",\"Red\",\"Orange\",\"Orange\",\"White\",\"White\",\"Yellow\",\"Red\",\"Orange\",\"Orange\",\"Orange\",\"Orange\",\"Orange\",\"Orange\",\"Orange\",\"Orange\",\"Orange\",\"Orange\",\"Orange\",\"Orange\",\"Orange\",\"Orange\",\"Orange\",\"Orange\",\"Orange\",\"Orange\",\"Orange\",\"Orange\",\"Orange\",\"Orange\",\"Orange\",\"Yellow\",\"Yellow\",\"Yellow\",\"Yellow\",\"White\",\"White\",\"White\",\"White\",\"White\",\"White\",\"White\",\"White\",\"White\",\"White\",\"White\",\"White\",\"White\",\"White\",\"White\",\"White\",\"White\",\"White\",\"White\",\"White\",\"White\",\"White\",\"White\",\"White\",\"Red\",\"Red\",\"Red\",\"Orange\",\"Orange\",\"Orange\",\"Orange\",\"Orange\",\"Orange\",\"Orange\",\"Orange\",\"Orange\",\"Yellow\",\"Yellow\",\"Yellow\",\"Orange\",\"Orange\",\"White\",\"Orange\",\"Orange\",\"Orange\",\"Orange\",\"Yellow\",\"Green\",\"White\",\"White\",\"White\",\"White\",\"Orange\",\"Orange\",\"Orange\",\"Orange\",\"Orange\",\"Orange\",\"Orange\",\"Orange\",\"Orange\",\"Orange\",\"Orange\",\"Orange\",\"Orange\",\"Orange\",\"Orange\",\"Orange\",\"Orange\",\"Orange\",\"Orange\",\"Orange\",\"Orange\",\"Orange\",\"Orange\",\"Orange\",\"Yellow\",\"Yellow\",\"Yellow\",\"Yellow\",\"Yellow\",\"Yellow\",\"Yellow\",\"Yellow\",\"Yellow\",\"Yellow\",\"Yellow\",\"Yellow\",\"Yellow\",\"Yellow\",\"Red\",\"Red\",\"Red\",\"Green\",\"White\",\"White\",\"Orange\",\"Orange\",\"Orange\",\"White\",\"White\",\"White\",\"White\",\"White\",\"Orange\",\"Dark Green\",\"Orange\",\"Orange\",\"Orange\",\"Orange\",\"Yellow\",\"Yellow\",\"Yellow\",\"Yellow\",\"Yellow\",\"Yellow\",\"Yellow\",\"Green\",\"Green\",\"Green\",\"Green\",\"Green\",\"Green\",\"Orange\",\"Orange\",\"Orange\",\"Orange\",\"Orange\",\"Orange\",\"Orange\",\"Orange\",\"Orange\",\"Yellow\",\"Yellow\",\"Yellow\",\"Yellow\",\"Yellow\",\"Yellow\",\"Yellow\",\"Yellow\",\"Yellow\",\"Yellow\",\"White\",\"White\",\"White\",\"White\",\"White\",\"Red\",\"Green\",\"Green\",\"Green\",\"Green\",\"Green\",\"Orange\",\"Orange\",\"Orange\",\"Orange\",\"Orange\",\"Orange\",\"Orange\",\"Orange\",\"Orange\",\"Orange\",\"Orange\",\"Orange\",\"Orange\",\"Orange\",\"Yellow\",\"Yellow\",\"Red\",\"Green\",\"Orange\",\"Orange\",\"Orange\",\"Orange\",\"Orange\",\"Orange\",\"Orange\",\"Orange\",\"Yellow\",\"Orange\",\"Yellow\",\"Yellow\",\"Yellow\",\"Orange\",\"Yellow\",\"Orange\",\"Yellow\",\"Yellow\",\"Yellow\",\"Yellow\",\"Orange\",\"Orange\",\"Orange\",\"Orange\",\"Orange\",\"Orange\",\"Orange\",\"Orange\",\"Orange\",\"Orange\",\"Orange\",\"Orange\",\"Orange\",\"White\",\"White\",\"White\",\"White\",\"White\",\"White\",\"White\",\"White\",\"White\",\"White\",\"White\",\"White\",\"White\",\"White\",\"White\",\"White\",\"White\",\"White\",\"White\",\"White\",\"White\",\"White\",\"White\",\"White\",\"Orange\",\"Yellow\",\"Yellow\",\"White\",\"White\",\"Orange\",\"Orange\",\"Orange\",\"Orange\",\"Orange\",\"Orange\",\"Orange\",\"Orange\",\"Orange\",\"Orange\",\"Orange\",\"Orange\",\"Orange\",\"Orange\",\"Yellow\",\"Yellow\",\"Yellow\",\"Yellow\",\"Yellow\",\"Yellow\",\"Yellow\",\"White\",\"White\",\"White\",\"Red\",\"Yellow\",\"Green\",\"Orange\",\"Orange\",\"Orange\",\"Orange\",\"Orange\",\"Orange\",\"White\",\"Orange\",\"Orange\",\"Orange\",\"Orange\",\"Orange\",\"Orange\",\"Orange\",\"Orange\",\"Orange\",\"Yellow\",\"Yellow\",\"Yellow\",\"Yellow\",\"Yellow\",\"White\",\"Red\",\"Red\",\"Orange\",\"Dark Green\",\"Yellow\",\"Dark Green\",\"Green\",\"Green\",\"Green\",\"Green\",\"Green\",\"Green\",\"Green\",\"Dark Green\",\"Yellow\",\"Yellow\",\"Green\",\"Green\",\"Green\",\"Green\",\"Green\",\"Green\",\"Green\",\"Green\",\"Green\",\"Dark Green\",\"Dark Green\",\"Yellow\",\"Dark Green\",\"Green\",\"Green\",\"Dark Green\",\"Dark Green\",\"Green\",\"Green\",\"Green\",\"Green\",\"Green\",\"Green\",\"Dark Green\",\"Yellow\",\"Green\",\"Yellow\",\"Green\",\"Green\",\"Green\",\"Yellow\",\"Green\",\"Green\",\"Yellow\",\"Green\",\"Yellow\",\"Green\",\"Orange\",\"Yellow\",\"Yellow\",\"Yellow\",\"Green\",\"Green\",\"Green\",\"Green\",\"Green\",\"Dark Green\",\"Yellow\",\"Green\",\"Green\",\"Green\",\"Green\",\"Green\",\"Yellow\",\"Green\",\"Green\",\"Dark Green\",\"Green\",\"Dark Green\",\"Green\",\"Green\",\"Green\",\"Green\",\"Orange\",\"Yellow\",\"Yellow\",\"Orange\",\"Orange\",\"Yellow\",\"Green\",\"Green\",\"Yellow\",\"Yellow\",\"Yellow\",\"Green\",\"Green\",\"Yellow\",\"Yellow\",\"Yellow\",\"Green\",\"Orange\",\"Yellow\",\"Green\",\"Yellow\",\"Yellow\",\"Green\",\"Dark Green\",\"Yellow\",\"Green\",\"Green\",\"Green\",\"Dark Green\",\"Yellow\",\"Green\",\"Yellow\",\"Yellow\",\"Green\",\"Green\",\"Green\",\"Green\",\"Green\",\"Green\",\"Yellow\",\"Green\",\"Green\",\"Yellow\",\"Dark Green\",\"Green\",\"Dark Green\",\"Yellow\",\"Green\",\"Green\",\"Green\",\"Green\",\"Green\",\"Dark Green\",\"Yellow\",\"Dark Green\",\"Yellow\",\"Green\",\"Green\",\"Green\",\"Dark Green\",\"Yellow\",\"Green\",\"Green\",\"Dark Green\",\"Dark Green\",\"Dark Green\",\"Yellow\",\"Yellow\",\"Yellow\",\"Yellow\",\"Green\",\"Green\",\"Green\",\"Green\",\"Green\",\"Green\",\"Green\",\"Green\",\"Green\",\"Green\",\"Green\",\"Dark Green\",\"Green\",\"Green\",\"Yellow\",\"Yellow\",\"Green\",\"Yellow\",\"Green\",\"Yellow\",\"Yellow\",\"Green\",\"Green\",\"Yellow\",\"Yellow\",\"Green\",\"Green\",\"Green\",\"Yellow\",\"Yellow\",\"Green\",\"Dark Green\",\"Yellow\",\"Yellow\",\"Yellow\",\"Yellow\",\"Yellow\",\"Yellow\",\"Yellow\",\"Yellow\",\"Yellow\",\"Yellow\",\"Green\",\"Yellow\",\"Yellow\",\"Yellow\",\"Yellow\",\"Yellow\",\"Yellow\",\"Green\",\"Yellow\",\"Yellow\",\"Yellow\",\"Yellow\",\"Green\",\"Green\",\"Green\",\"Orange\",\"Dark Green\",\"Green\",\"Green\",\"Yellow\",\"Yellow\",\"Yellow\",\"Green\",\"Green\",\"Yellow\",\"Dark Green\",\"Dark Green\",\"Yellow\",\"Dark Green\",\"Yellow\",\"Green\",\"Green\",\"Yellow\",\"Orange\",\"Yellow\",\"Yellow\",\"Green\",\"Yellow\",\"Yellow\",\"Yellow\",\"Yellow\",\"Yellow\",\"Green\",\"Green\",\"Yellow\",\"Yellow\",\"Orange\",\"Yellow\",\"Yellow\",\"Yellow\",\"Yellow\",\"Yellow\",\"Yellow\",\"Orange\",\"Yellow\",\"Yellow\",\"Green\",\"Green\",\"Yellow\",\"Green\",\"Green\",\"Green\",\"Yellow\",\"Yellow\",\"Green\",\"Green\",\"Dark Green\",\"Green\",\"Green\",\"Dark Green\",\"Red\",\"Green\",\"Yellow\",\"Yellow\",\"Yellow\",\"Yellow\",\"Yellow\",\"Yellow\",\"Yellow\",\"Orange\",\"Orange\",\"Orange\",\"Orange\",\"Orange\",\"Yellow\",\"Yellow\",\"Yellow\",\"Yellow\",\"Orange\",\"Orange\",\"Yellow\",\"Yellow\",\"Orange\",\"White\",\"Orange\",\"Orange\",\"Orange\",\"Orange\",\"Orange\",\"Orange\",\"Orange\",\"Yellow\",\"Yellow\",\"Red\",\"Green\",\"Green\",\"Green\",\"Orange\",\"Orange\",\"Orange\",\"Yellow\",\"Orange\",\"Orange\",\"White\",\"White\",\"Orange\",\"Orange\",\"Orange\",\"Orange\",\"Orange\",\"Orange\",\"Yellow\",\"Red\",\"Orange\",\"Orange\",\"Orange\",\"Orange\",\"Orange\",\"Orange\",\"Orange\",\"Orange\",\"Orange\",\"Orange\",\"Orange\",\"Orange\",\"Orange\",\"Orange\",\"Orange\",\"Orange\",\"Orange\",\"Orange\",\"Orange\",\"Yellow\",\"Yellow\",\"Yellow\",\"Yellow\",\"White\",\"White\",\"White\",\"White\",\"White\",\"White\",\"White\",\"White\",\"Red\",\"Orange\",\"Orange\",\"Orange\",\"Orange\",\"Yellow\",\"Yellow\",\"Yellow\",\"Yellow\",\"Yellow\",\"Yellow\",\"Yellow\",\"Green\",\"Orange\",\"Green\",\"Orange\",\"Orange\",\"Orange\",\"Orange\",\"Orange\",\"Orange\",\"Orange\",\"Orange\",\"Orange\",\"Orange\",\"Orange\",\"Orange\",\"Orange\",\"Orange\",\"Orange\",\"Orange\",\"Orange\",\"Yellow\",\"Yellow\",\"Yellow\",\"Yellow\",\"Yellow\",\"Yellow\",\"Yellow\",\"Yellow\",\"Yellow\",\"Yellow\",\"White\",\"White\",\"White\",\"White\",\"White\",\"White\",\"White\",\"White\",\"White\",\"White\",\"White\",\"White\",\"White\",\"White\",\"White\",\"Orange\",\"Orange\",\"Orange\",\"Orange\",\"Yellow\",\"Yellow\",\"Green\",\"Green\",\"Green\",\"Orange\",\"Orange\",\"Orange\",\"White\",\"Orange\",\"Orange\",\"Orange\",\"Orange\",\"Orange\",\"Orange\",\"Orange\",\"Orange\",\"Orange\",\"Orange\",\"Orange\",\"Orange\",\"Orange\",\"Orange\",\"Orange\",\"Orange\",\"Yellow\",\"Yellow\",\"Yellow\",\"White\",\"White\",\"White\",\"White\",\"White\",\"White\",\"White\",\"White\",\"White\",\"White\",\"White\",\"White\",\"White\",\"White\",\"White\",\"White\",\"Red\",\"Orange\",\"Orange\",\"Orange\",\"Orange\",\"Orange\",\"Orange\",\"Yellow\",\"Yellow\",\"Yellow\",\"Yellow\",\"Yellow\",\"Yellow\",\"Yellow\",\"Yellow\",\"Orange\",\"Orange\",\"Orange\",\"Orange\",\"Orange\",\"Orange\",\"Orange\",\"Yellow\",\"Yellow\",\"Yellow\",\"Green\",\"Orange\",\"Orange\",\"Orange\",\"Orange\",\"Orange\",\"Orange\",\"Orange\",\"Orange\",\"Yellow\",\"Yellow\",\"Yellow\",\"White\",\"White\",\"White\",\"White\",\"Red\",\"Orange\",\"Orange\",\"Orange\",\"Orange\",\"Orange\",\"Orange\",\"Orange\",\"Orange\",\"Yellow\",\"Yellow\",\"Yellow\",\"Yellow\",\"Yellow\",\"Yellow\",\"Red\",\"Orange\",\"Orange\",\"Yellow\",\"Orange\",\"Orange\",\"Orange\",\"Orange\",\"Orange\",\"Orange\",\"Orange\",\"Orange\",\"Red\",\"Red\",\"White\",\"Orange\",\"Orange\",\"Orange\",\"Orange\",\"Orange\",\"Orange\",\"Orange\",\"Orange\",\"Orange\",\"Orange\",\"Orange\",\"Orange\",\"Orange\",\"Orange\",\"Orange\",\"Orange\",\"Orange\",\"Orange\",\"Orange\",\"Orange\",\"Orange\",\"Orange\",\"Yellow\",\"Yellow\",\"Yellow\",\"Yellow\",\"White\",\"White\",\"White\",\"White\",\"Red\",\"Red\",\"Orange\",\"Orange\",\"Orange\",\"Orange\",\"Orange\",\"Orange\",\"Orange\",\"Orange\",\"Orange\",\"Orange\",\"Orange\",\"Orange\",\"Orange\",\"Orange\",\"Orange\",\"Orange\",\"Orange\",\"Orange\",\"Orange\",\"Orange\",\"Orange\",\"Orange\",\"Orange\",\"Orange\",\"Orange\",\"Orange\",\"Orange\",\"Orange\",\"Orange\",\"Orange\",\"Orange\",\"Orange\",\"Orange\",\"Orange\",\"Orange\",\"Orange\",\"Orange\",\"Orange\",\"Orange\",\"Orange\",\"Orange\",\"Yellow\",\"Yellow\",\"Yellow\",\"Yellow\",\"Yellow\",\"Yellow\",\"Yellow\",\"Yellow\",\"Yellow\",\"Yellow\",\"Yellow\",\"Yellow\",\"Yellow\",\"Yellow\",\"Yellow\",\"Yellow\",\"Yellow\",\"White\",\"White\",\"White\",\"White\",\"White\",\"White\",\"White\",\"White\",\"White\",\"White\",\"White\",\"White\",\"Green\",\"Green\",\"Green\",\"Green\",\"Orange\",\"Dark Green\",\"Yellow\",\"Yellow\",\"Yellow\",\"Yellow\",\"Yellow\",\"Yellow\",\"Yellow\",\"Green\",\"Green\",\"Green\",\"Orange\",\"Orange\",\"Orange\",\"Orange\",\"Orange\",\"Orange\",\"Orange\",\"Orange\",\"Orange\",\"Orange\",\"Orange\",\"Orange\",\"Orange\",\"Orange\",\"Orange\",\"Orange\",\"Orange\",\"Orange\",\"Orange\",\"Orange\",\"Orange\",\"Orange\",\"Orange\",\"Orange\",\"Orange\",\"Orange\",\"Orange\",\"Yellow\",\"Yellow\",\"Yellow\",\"Yellow\",\"Yellow\",\"Yellow\",\"Yellow\",\"Yellow\",\"White\",\"White\",\"White\",\"White\",\"White\",\"White\",\"White\",\"White\",\"White\",\"White\",\"Red\",\"Red\",\"Orange\",\"Orange\",\"Orange\",\"Yellow\",\"Orange\",\"Orange\",\"Orange\",\"Orange\",\"Orange\",\"Yellow\",\"Yellow\",\"White\",\"White\",\"White\",\"White\",\"White\",\"White\",\"White\",\"Green\",\"Orange\",\"Orange\",\"Orange\",\"Orange\",\"Orange\",\"Orange\",\"Orange\",\"Orange\",\"Orange\",\"Orange\",\"Orange\",\"Orange\",\"Orange\",\"Orange\",\"Yellow\",\"Yellow\",\"Yellow\",\"White\",\"Orange\",\"Orange\",\"Orange\",\"Orange\",\"Orange\",\"Orange\",\"Orange\",\"Orange\",\"Orange\",\"Orange\",\"Orange\",\"Orange\",\"Orange\",\"Dark Green\",\"Dark Green\",\"Dark Green\",\"Yellow\",\"Yellow\",\"Yellow\",\"Yellow\",\"Yellow\",\"Yellow\",\"Yellow\",\"Yellow\",\"Yellow\",\"Yellow\",\"Yellow\",\"Yellow\",\"Yellow\",\"Yellow\",\"Yellow\",\"Yellow\",\"Yellow\",\"Yellow\",\"Yellow\",\"Yellow\",\"Yellow\",\"Yellow\",\"Yellow\",\"Yellow\",\"Yellow\",\"Yellow\",\"Yellow\",\"Yellow\",\"Yellow\",\"Yellow\",\"Yellow\",\"Yellow\",\"Yellow\",\"Yellow\",\"Yellow\",\"Yellow\",\"Yellow\",\"Yellow\",\"Yellow\",\"Yellow\",\"Yellow\",\"Yellow\",\"Yellow\",\"Yellow\",\"Yellow\",\"Yellow\",\"Yellow\",\"Yellow\",\"Yellow\",\"Yellow\",\"Yellow\",\"Yellow\",\"Yellow\",\"Yellow\",\"Yellow\",\"Yellow\",\"Yellow\",\"Yellow\",\"Yellow\",\"Yellow\",\"Yellow\",\"Yellow\",\"Yellow\",\"Yellow\",\"Yellow\",\"Yellow\",\"Yellow\",\"Yellow\",\"Yellow\",\"Yellow\",\"Yellow\",\"Yellow\",\"Yellow\",\"Yellow\",\"White\",\"White\",\"White\",\"Green\",\"Green\",\"Green\",\"Green\",\"Green\",\"Green\",\"Green\",\"Green\",\"Green\",\"Green\",\"Green\",\"Green\",\"Green\",\"Green\",\"Green\",\"Green\",\"Green\",\"Green\",\"Green\",\"Green\",\"Green\",\"Green\",\"Green\",\"Green\",\"Green\",\"Green\",\"Green\",\"Green\",\"Green\",\"Orange\",\"Orange\",\"Orange\",\"Yellow\",\"Orange\",\"Orange\",\"Orange\",\"Orange\",\"Yellow\",\"Yellow\",\"Yellow\",\"Orange\",\"Yellow\",\"Orange\",\"Orange\",\"Yellow\",\"Yellow\",\"Yellow\",\"Orange\",\"Orange\",\"Orange\",\"Orange\",\"Orange\",\"Orange\",\"Orange\",\"Orange\",\"Orange\",\"Orange\",\"Orange\",\"Orange\",\"Orange\",\"Yellow\",\"Yellow\",\"Yellow\",\"Yellow\",\"Yellow\",\"Yellow\",\"Yellow\",\"Yellow\",\"Yellow\",\"White\",\"White\",\"White\",\"White\",\"White\",\"White\",\"White\",\"White\",\"White\",\"White\",\"White\",\"White\",\"White\",\"White\",\"White\",\"White\",\"White\",\"White\",\"White\",\"Red\",\"Green\",\"Orange\",\"White\",\"Orange\",\"Orange\",\"Orange\",\"Orange\",\"Orange\",\"Orange\",\"Orange\",\"Orange\",\"Orange\",\"Orange\",\"Orange\",\"Orange\",\"Orange\",\"Orange\",\"Orange\",\"Orange\",\"Orange\",\"Orange\",\"Orange\",\"Orange\",\"Orange\",\"Orange\",\"Orange\",\"Orange\",\"Orange\",\"Orange\",\"Orange\",\"Orange\",\"Orange\",\"Orange\",\"Orange\",\"Orange\",\"Orange\",\"Orange\",\"Orange\",\"Yellow\",\"Yellow\",\"Yellow\",\"Yellow\",\"Yellow\",\"Yellow\",\"Yellow\",\"Yellow\",\"Yellow\",\"Yellow\",\"Yellow\",\"Yellow\",\"Yellow\",\"Yellow\",\"Yellow\",\"Yellow\",\"Yellow\",\"Yellow\",\"Yellow\",\"Yellow\",\"Yellow\",\"Yellow\",\"Yellow\",\"Yellow\",\"Yellow\",\"Yellow\",\"Yellow\",\"Yellow\",\"Yellow\",\"Yellow\",\"White\",\"White\",\"White\",\"White\",\"White\",\"White\",\"White\",\"Red\",\"Green\",\"Green\",\"Green\",\"Green\",\"Green\",\"Green\",\"Green\",\"Green\",\"Green\",\"Green\",\"Green\",\"Green\",\"Green\",\"White\",\"White\",\"White\",\"White\",\"Orange\",\"Orange\",\"Orange\",\"Orange\",\"Orange\",\"Orange\",\"Orange\",\"Orange\",\"Orange\",\"Orange\",\"Orange\",\"Orange\",\"Orange\",\"Orange\",\"Orange\",\"Orange\",\"Orange\",\"Orange\",\"Orange\",\"Orange\",\"Orange\",\"Orange\",\"Orange\",\"Orange\",\"Orange\",\"Orange\",\"Orange\",\"Orange\",\"Orange\",\"Orange\",\"Orange\",\"Orange\",\"Orange\",\"Orange\",\"Orange\",\"Orange\",\"Dark Green\",\"Yellow\",\"Yellow\",\"Yellow\",\"Yellow\",\"Yellow\",\"Yellow\",\"Yellow\",\"Yellow\",\"Yellow\",\"White\",\"White\",\"White\",\"White\",\"White\",\"White\",\"White\",\"White\",\"White\",\"White\",\"White\",\"Red\",\"Red\",\"Green\",\"Green\",\"Green\",\"Green\",\"Green\",\"Green\",\"Orange\",\"Orange\",\"Orange\",\"Orange\",\"Orange\",\"Orange\",\"Orange\",\"Orange\",\"Orange\",\"Orange\",\"Yellow\",\"Yellow\",\"Yellow\",\"Yellow\",\"Yellow\",\"Yellow\",\"Yellow\",\"Yellow\",\"Yellow\",\"Red\",\"Orange\",\"Orange\",\"Orange\",\"Orange\",\"Orange\",\"Orange\",\"Orange\",\"Orange\",\"Orange\",\"Orange\",\"Orange\",\"Orange\",\"Orange\",\"Orange\",\"Orange\",\"Orange\",\"Orange\",\"Orange\",\"Orange\",\"Orange\",\"Orange\",\"Orange\",\"Orange\",\"Orange\",\"Orange\",\"Orange\",\"Orange\",\"Orange\",\"Orange\",\"Yellow\",\"Yellow\",\"White\",\"White\",\"White\",\"White\",\"White\",\"White\",\"White\",\"White\",\"White\",\"White\",\"White\",\"White\",\"White\",\"White\",\"White\",\"White\",\"White\",\"White\",\"White\",\"White\",\"White\",\"White\",\"White\",\"White\",\"White\",\"Red\",\"Orange\",\"Orange\",\"Orange\",\"Orange\",\"Yellow\",\"Red\",\"Orange\",\"Orange\",\"Orange\",\"Yellow\",\"White\",\"Yellow\",\"Yellow\",\"Orange\",\"Orange\",\"Yellow\",\"Yellow\",\"Yellow\",\"Yellow\",\"Yellow\",\"Yellow\",\"Yellow\",\"Green\",\"Green\",\"Green\",\"Orange\",\"Yellow\",\"Yellow\",\"Yellow\",\"Yellow\",\"Yellow\",\"Yellow\",\"Yellow\",\"Yellow\",\"Yellow\",\"Yellow\",\"Yellow\",\"Green\",\"Orange\",\"Orange\",\"Orange\",\"Yellow\",\"Yellow\",\"White\",\"Red\",\"Orange\",\"Orange\",\"Orange\",\"Orange\",\"Orange\",\"Orange\",\"Orange\",\"Orange\",\"Orange\",\"Orange\",\"Orange\",\"Orange\",\"Orange\",\"Orange\",\"Orange\",\"Orange\",\"Orange\",\"Orange\",\"Orange\",\"Orange\",\"Orange\",\"Orange\",\"Orange\",\"Orange\",\"Orange\",\"Orange\",\"Orange\",\"White\",\"White\",\"White\",\"White\",\"White\",\"White\",\"White\",\"White\",\"White\",\"White\",\"White\",\"White\",\"White\",\"White\",\"White\",\"White\",\"White\",\"White\",\"White\",\"White\",\"White\",\"White\",\"White\",\"White\",\"White\",\"White\",\"White\",\"White\",\"White\",\"White\",\"Green\",\"Orange\",\"Orange\",\"Orange\",\"Orange\",\"Orange\",\"Orange\",\"Orange\",\"Orange\",\"Orange\",\"Orange\",\"Orange\",\"Orange\",\"Orange\",\"Orange\",\"Orange\",\"Orange\",\"Orange\",\"Orange\",\"Orange\",\"Orange\",\"Orange\",\"Orange\",\"Orange\",\"Orange\",\"Orange\",\"Orange\",\"Orange\",\"Orange\",\"Orange\",\"Yellow\",\"Yellow\",\"Yellow\",\"Yellow\",\"Yellow\",\"Yellow\",\"Yellow\",\"Yellow\",\"Yellow\",\"Yellow\",\"White\",\"White\",\"White\",\"White\",\"White\",\"White\",\"White\",\"White\",\"White\",\"Red\",\"Green\",\"Orange\",\"Orange\",\"Orange\",\"Orange\",\"Orange\",\"Orange\",\"Orange\",\"Orange\",\"Orange\",\"Yellow\",\"Yellow\",\"Yellow\",\"Yellow\",\"Yellow\",\"Yellow\",\"Yellow\",\"White\",\"Green\",\"Green\",\"Green\",\"Green\",\"Orange\",\"Yellow\",\"Yellow\",\"Yellow\",\"Green\",\"Orange\",\"Orange\",\"Yellow\",\"White\",\"Green\",\"Orange\",\"Dark Green\",\"White\",\"White\",\"White\",\"Green\",\"Orange\",\"Orange\",\"Orange\",\"Orange\",\"Orange\",\"Orange\",\"Orange\",\"Orange\",\"Orange\",\"Orange\",\"Orange\",\"Orange\",\"Orange\",\"Yellow\",\"Yellow\",\"White\",\"White\",\"White\",\"White\",\"White\",\"White\",\"White\",\"White\",\"White\",\"White\",\"White\",\"White\",\"White\",\"White\",\"White\",\"White\",\"White\",\"White\",\"White\",\"White\",\"Green\",\"Orange\",\"Orange\",\"Orange\",\"Orange\",\"Orange\",\"Orange\",\"Orange\",\"Orange\",\"Orange\",\"Orange\",\"Orange\",\"Orange\",\"Orange\",\"Orange\",\"Orange\",\"Orange\",\"Dark Green\",\"Yellow\",\"Yellow\",\"Yellow\",\"Yellow\",\"Yellow\",\"Yellow\",\"Yellow\",\"Yellow\",\"Yellow\",\"Yellow\",\"Yellow\",\"Yellow\",\"Yellow\",\"Yellow\",\"Yellow\",\"Yellow\",\"Yellow\",\"Yellow\",\"Yellow\",\"Yellow\",\"Yellow\",\"Yellow\",\"Yellow\",\"Yellow\",\"Yellow\",\"Yellow\",\"Yellow\",\"Yellow\",\"Yellow\",\"Yellow\",\"Yellow\",\"Yellow\",\"Yellow\",\"Yellow\",\"Green\",\"Green\",\"Green\",\"Green\",\"Green\",\"Green\",\"Green\",\"Green\",\"Green\",\"Green\",\"Green\",\"Green\",\"Green\",\"Green\",\"Green\",\"Green\",\"Orange\",\"Orange\",\"Orange\",\"Orange\",\"Orange\",\"Orange\",\"Orange\",\"Orange\",\"Orange\",\"Orange\",\"Orange\",\"Orange\",\"Orange\",\"Orange\",\"Orange\",\"Orange\",\"Orange\",\"Orange\",\"Orange\",\"Orange\",\"Orange\",\"Orange\",\"Orange\",\"Dark Green\",\"Yellow\",\"Yellow\",\"Yellow\",\"Yellow\",\"Yellow\",\"Yellow\",\"Yellow\",\"Yellow\",\"Yellow\",\"Yellow\",\"Yellow\",\"Yellow\",\"Yellow\",\"Yellow\",\"Yellow\",\"Yellow\",\"Yellow\",\"Yellow\",\"Yellow\",\"Yellow\",\"Yellow\",\"Yellow\",\"Yellow\",\"Yellow\",\"Yellow\",\"Yellow\",\"Yellow\",\"Yellow\",\"Yellow\",\"Yellow\",\"Yellow\",\"Yellow\",\"Yellow\",\"Red\",\"Green\",\"Green\",\"Green\",\"Green\",\"Green\",\"Green\",\"Green\",\"Green\",\"Orange\",\"Orange\",\"Yellow\",\"Yellow\",\"Yellow\",\"Orange\",\"Orange\",\"Orange\",\"Orange\",\"Orange\",\"Orange\",\"Orange\",\"Orange\",\"Orange\",\"Orange\",\"Orange\",\"Orange\",\"Orange\",\"Orange\",\"Orange\",\"Orange\",\"Orange\",\"Orange\",\"Orange\",\"Yellow\",\"Yellow\",\"Yellow\",\"Yellow\",\"Yellow\",\"Yellow\",\"Yellow\",\"Yellow\",\"Yellow\",\"Yellow\",\"Yellow\",\"Yellow\",\"Yellow\",\"White\",\"White\",\"White\",\"White\",\"White\",\"White\",\"White\",\"White\",\"White\",\"White\",\"White\",\"White\",\"Red\",\"Green\",\"Orange\",\"Orange\",\"Orange\",\"Orange\",\"Orange\",\"Orange\",\"Orange\",\"Orange\",\"Orange\",\"Orange\",\"Orange\",\"Orange\",\"Yellow\",\"Yellow\",\"Yellow\",\"Yellow\",\"Yellow\",\"White\",\"White\",\"White\",\"White\",\"White\",\"White\",\"White\",\"White\",\"White\",\"White\",\"White\",\"White\",\"White\",\"White\",\"White\",\"White\",\"White\",\"White\",\"White\",\"White\",\"Green\",\"Orange\",\"Orange\",\"Orange\",\"Orange\",\"Orange\",\"Orange\",\"Orange\",\"Orange\",\"Orange\",\"Orange\",\"Orange\",\"Orange\",\"Orange\",\"Orange\",\"Orange\",\"Orange\",\"Yellow\",\"Yellow\",\"Yellow\",\"Yellow\",\"Yellow\",\"Yellow\",\"Yellow\",\"Yellow\",\"White\",\"White\",\"White\",\"White\",\"White\",\"White\",\"White\",\"White\",\"White\",\"White\",\"White\",\"White\",\"White\",\"White\",\"White\",\"Orange\",\"Orange\",\"Orange\",\"Orange\",\"Orange\",\"Orange\",\"Orange\",\"Orange\",\"Orange\",\"Orange\",\"Orange\",\"Orange\",\"Orange\",\"Orange\",\"Orange\",\"Orange\",\"Orange\",\"Orange\",\"Orange\",\"Orange\",\"Orange\",\"Orange\",\"Orange\",\"Orange\",\"Orange\",\"Orange\",\"Orange\",\"Orange\",\"Orange\",\"Orange\",\"Orange\",\"Orange\",\"Orange\",\"Orange\",\"Orange\",\"Orange\",\"Orange\",\"Orange\",\"Orange\",\"Orange\",\"Orange\",\"Dark Green\",\"Yellow\",\"Yellow\",\"Yellow\",\"Yellow\",\"Yellow\",\"Yellow\",\"Yellow\",\"Yellow\",\"Yellow\",\"Yellow\",\"Yellow\",\"Yellow\",\"White\",\"White\",\"White\",\"White\",\"White\",\"White\",\"White\",\"White\",\"White\",\"White\",\"White\",\"White\",\"White\",\"White\",\"White\",\"White\",\"White\",\"Green\",\"Green\",\"Green\",\"Orange\",\"Orange\",\"Orange\",\"Orange\",\"Dark Green\",\"Yellow\",\"Yellow\",\"Yellow\",\"Yellow\",\"Yellow\",\"Yellow\",\"Yellow\",\"Yellow\",\"Yellow\",\"Yellow\",\"Yellow\",\"Yellow\",\"Green\",\"Green\",\"Green\",\"Green\",\"Green\",\"Green\",\"Green\",\"Orange\",\"Orange\",\"Yellow\",\"Orange\",\"Yellow\",\"Orange\",\"Yellow\",\"White\",\"White\",\"Orange\",\"White\",\"Orange\",\"Orange\",\"Orange\",\"Yellow\",\"Yellow\",\"Yellow\",\"Yellow\",\"Yellow\",\"Yellow\",\"Yellow\",\"Yellow\",\"Green\",\"Orange\",\"White\",\"Orange\",\"Orange\",\"Yellow\",\"White\",\"Orange\",\"Orange\",\"Yellow\",\"White\",\"White\",\"White\",\"Orange\",\"Orange\",\"Orange\",\"Orange\",\"Orange\",\"Orange\",\"Orange\",\"Orange\",\"Orange\",\"Orange\",\"Orange\",\"Orange\",\"Orange\",\"Orange\",\"Orange\",\"Orange\",\"Orange\",\"Orange\",\"Orange\",\"Orange\",\"Orange\",\"Yellow\",\"Yellow\",\"Yellow\",\"White\",\"White\",\"White\",\"White\",\"White\",\"White\",\"White\",\"White\",\"White\",\"White\",\"White\",\"White\",\"White\",\"White\",\"White\",\"White\",\"White\",\"White\",\"White\",\"Red\",\"Red\",\"Red\",\"Green\",\"Orange\",\"Orange\",\"Yellow\",\"Yellow\",\"Green\",\"Green\",\"Orange\",\"Orange\",\"Orange\",\"Yellow\",\"Orange\",\"Orange\",\"Orange\",\"Orange\",\"Orange\",\"Orange\",\"Orange\",\"Orange\",\"Orange\",\"Orange\",\"Orange\",\"Orange\",\"Orange\",\"Orange\",\"Orange\",\"Orange\",\"Orange\",\"Orange\",\"Orange\",\"Orange\",\"Orange\",\"Orange\",\"Orange\",\"Orange\",\"Orange\",\"Orange\",\"Orange\",\"Orange\",\"Orange\",\"Orange\",\"Orange\",\"Orange\",\"Orange\",\"Orange\",\"Orange\",\"Orange\",\"Orange\",\"Orange\",\"Orange\",\"Orange\",\"Orange\",\"Orange\",\"Orange\",\"Yellow\",\"Yellow\",\"Yellow\",\"Yellow\",\"Yellow\",\"White\",\"White\",\"White\",\"White\",\"White\",\"White\",\"White\",\"White\",\"White\",\"White\",\"White\",\"Red\",\"Green\",\"Orange\",\"Orange\",\"Orange\",\"Orange\",\"Orange\",\"Orange\",\"Orange\",\"Orange\",\"Yellow\",\"Yellow\",\"Yellow\",\"Yellow\",\"Yellow\",\"Yellow\",\"White\",\"White\",\"White\",\"White\",\"White\",\"White\",\"White\",\"White\",\"Green\",\"Green\",\"Green\",\"Green\",\"Orange\",\"Orange\",\"Orange\",\"Orange\",\"Orange\",\"Orange\",\"Orange\",\"Orange\",\"Orange\",\"Orange\",\"Orange\",\"Orange\",\"Orange\",\"Orange\",\"Orange\",\"Orange\",\"Orange\",\"Orange\",\"Orange\",\"Orange\",\"Orange\",\"Orange\",\"Orange\",\"Orange\",\"Orange\",\"Orange\",\"Dark Green\",\"Yellow\",\"Yellow\",\"Yellow\",\"Yellow\",\"Yellow\",\"Yellow\",\"Yellow\",\"Yellow\",\"Yellow\",\"Yellow\",\"Yellow\",\"Yellow\",\"Yellow\",\"Yellow\",\"Yellow\",\"Yellow\",\"Yellow\",\"Red\",\"Green\",\"Orange\",\"Orange\",\"Orange\",\"Orange\",\"Orange\",\"Orange\",\"Orange\",\"Orange\",\"Orange\",\"Orange\",\"Orange\",\"Orange\",\"Orange\",\"Orange\",\"Orange\",\"Orange\",\"Orange\",\"Orange\",\"Orange\",\"Orange\",\"Orange\",\"Orange\",\"Orange\",\"Orange\",\"Orange\",\"Orange\",\"Orange\",\"Yellow\",\"Yellow\",\"Yellow\",\"Yellow\",\"Yellow\",\"White\",\"White\",\"White\",\"White\",\"White\",\"White\",\"White\",\"White\",\"White\",\"White\",\"White\",\"White\",\"White\",\"White\",\"White\",\"White\",\"White\",\"White\",\"White\",\"White\",\"White\",\"White\",\"Red\",\"Green\",\"Green\",\"Orange\",\"Orange\",\"Orange\",\"Orange\",\"Orange\",\"Orange\",\"Orange\",\"Orange\",\"Orange\",\"Orange\",\"Orange\",\"Orange\",\"Orange\",\"Orange\",\"Orange\",\"Dark Green\",\"Yellow\",\"Yellow\",\"Yellow\",\"Yellow\",\"Yellow\",\"Yellow\",\"Yellow\",\"Yellow\",\"Yellow\",\"Yellow\",\"Yellow\",\"Yellow\",\"Yellow\",\"White\",\"White\",\"White\",\"White\",\"White\",\"White\",\"Green\",\"Green\",\"Green\",\"Green\",\"Orange\",\"Orange\",\"Orange\",\"Orange\",\"Orange\",\"Orange\",\"Orange\",\"Orange\",\"Orange\",\"Orange\",\"Orange\",\"Orange\",\"Orange\",\"Orange\",\"Yellow\",\"Yellow\",\"Yellow\",\"Yellow\",\"Yellow\",\"White\",\"Red\",\"Orange\",\"Yellow\",\"Orange\",\"Orange\",\"Orange\",\"Yellow\",\"Yellow\",\"Orange\",\"Orange\",\"Orange\",\"Orange\",\"Dark Green\",\"Orange\",\"Orange\",\"Orange\",\"Orange\",\"Orange\",\"Yellow\",\"Yellow\",\"White\",\"White\",\"Red\",\"Orange\",\"Orange\",\"Orange\",\"Orange\",\"Orange\",\"Orange\",\"Orange\",\"Orange\",\"Orange\",\"Yellow\",\"Yellow\",\"Yellow\",\"White\",\"White\",\"White\",\"White\",\"White\",\"White\",\"White\",\"White\",\"White\",\"Green\",\"Green\",\"Green\",\"Orange\",\"Orange\",\"Orange\",\"Orange\",\"Orange\",\"Orange\",\"Orange\",\"Orange\",\"Orange\",\"Orange\",\"Orange\",\"Orange\",\"Orange\",\"Orange\",\"Orange\",\"Orange\",\"Orange\",\"Orange\",\"Orange\",\"Orange\",\"Orange\",\"Orange\",\"Orange\",\"Orange\",\"Orange\",\"Orange\",\"Orange\",\"Orange\",\"Orange\",\"Orange\",\"Orange\",\"Orange\",\"Orange\",\"Orange\",\"Orange\",\"Orange\",\"Orange\",\"Orange\",\"Orange\",\"Orange\",\"Orange\",\"Orange\",\"Orange\",\"Orange\",\"Orange\",\"Orange\",\"Orange\",\"Orange\",\"Orange\",\"Orange\",\"Orange\",\"Orange\",\"Yellow\",\"Yellow\",\"Yellow\",\"Yellow\",\"Yellow\",\"Yellow\",\"Yellow\",\"Yellow\",\"Yellow\",\"Yellow\",\"Yellow\",\"Yellow\",\"Yellow\",\"Yellow\",\"Yellow\",\"White\",\"White\",\"White\",\"Red\",\"Red\",\"Red\",\"Orange\",\"Orange\",\"Orange\",\"Orange\",\"Orange\",\"Orange\",\"Orange\",\"Orange\",\"Orange\",\"Orange\",\"Orange\",\"Orange\",\"Orange\",\"Orange\",\"Orange\",\"Orange\",\"Orange\",\"Orange\",\"Orange\",\"Orange\",\"Orange\",\"Orange\",\"Orange\",\"Orange\",\"Orange\",\"Orange\",\"Orange\",\"Yellow\",\"Yellow\",\"Yellow\",\"Yellow\",\"Yellow\",\"Yellow\",\"Yellow\",\"Yellow\",\"Yellow\",\"Yellow\",\"Yellow\",\"Yellow\",\"Yellow\",\"Yellow\",\"Yellow\",\"Yellow\",\"Yellow\",\"Yellow\",\"Yellow\",\"Yellow\",\"Yellow\",\"Yellow\",\"Yellow\",\"Yellow\",\"Yellow\",\"Yellow\",\"Yellow\",\"Yellow\",\"Yellow\",\"Yellow\",\"Yellow\",\"Yellow\",\"Yellow\",\"White\",\"White\",\"White\",\"Green\",\"Green\",\"Orange\",\"Orange\",\"Orange\",\"Orange\",\"Green\",\"Orange\",\"Orange\",\"Orange\",\"Orange\",\"Orange\",\"Orange\",\"Orange\",\"Orange\",\"Orange\",\"Orange\",\"Yellow\",\"Yellow\",\"Yellow\",\"Yellow\",\"Yellow\",\"Yellow\",\"Yellow\",\"Yellow\",\"Yellow\",\"Yellow\",\"Yellow\",\"Green\",\"Green\",\"Orange\",\"Orange\",\"Orange\",\"Orange\",\"Orange\",\"Orange\",\"Orange\",\"Orange\",\"Orange\",\"Orange\",\"Orange\",\"Orange\",\"Orange\",\"Orange\",\"Orange\",\"Orange\",\"Orange\",\"Orange\",\"Orange\",\"Orange\",\"Orange\",\"Orange\",\"Orange\",\"Orange\",\"Orange\",\"Orange\",\"Orange\",\"Orange\",\"Orange\",\"Orange\",\"Orange\",\"Orange\",\"Orange\",\"Orange\",\"Orange\",\"Orange\",\"Orange\",\"Orange\",\"Orange\",\"Orange\",\"Orange\",\"Orange\",\"Orange\",\"Orange\",\"Yellow\",\"Yellow\",\"Yellow\",\"Yellow\",\"Yellow\",\"Yellow\",\"Yellow\",\"Yellow\",\"Yellow\",\"Yellow\",\"Yellow\",\"Yellow\",\"Yellow\",\"Yellow\",\"Yellow\",\"Yellow\",\"Yellow\",\"Yellow\",\"Yellow\",\"Yellow\",\"Yellow\",\"Yellow\",\"Yellow\",\"White\",\"White\",\"White\",\"White\",\"Red\",\"Red\",\"Green\",\"Green\",\"Green\",\"Dark Green\",\"Orange\",\"Orange\",\"Orange\",\"Orange\",\"Orange\",\"Orange\",\"Dark Green\",\"Dark Green\",\"Yellow\",\"Yellow\",\"Yellow\",\"Yellow\",\"Yellow\",\"Yellow\",\"Yellow\",\"Yellow\",\"Yellow\",\"Yellow\",\"Yellow\",\"Yellow\",\"Yellow\",\"Yellow\",\"Yellow\",\"Yellow\",\"Yellow\",\"Yellow\",\"Yellow\",\"Yellow\",\"Yellow\",\"Yellow\",\"Yellow\",\"Yellow\",\"White\",\"Green\",\"Green\",\"Green\",\"Green\",\"Green\",\"Green\",\"Green\",\"Green\",\"Green\",\"Green\",\"Green\",\"Green\",\"Orange\",\"Orange\",\"Orange\",\"Orange\",\"Orange\",\"Orange\",\"Orange\",\"Orange\",\"Orange\",\"Orange\",\"Orange\",\"Orange\",\"Orange\",\"Orange\",\"Orange\",\"Orange\",\"Orange\",\"Orange\",\"Orange\",\"Orange\",\"Orange\",\"Orange\",\"Orange\",\"Orange\",\"Orange\",\"Orange\",\"Orange\",\"Orange\",\"Orange\",\"Orange\",\"Orange\",\"Orange\",\"Orange\",\"Orange\",\"Orange\",\"Orange\",\"Orange\",\"Orange\",\"Orange\",\"Orange\",\"Orange\",\"Orange\",\"Orange\",\"Orange\",\"Yellow\",\"Yellow\",\"Yellow\",\"Yellow\",\"Yellow\",\"Yellow\",\"Yellow\",\"Yellow\",\"Yellow\",\"Red\",\"Red\",\"Red\",\"Orange\",\"Orange\",\"Orange\",\"Orange\",\"Orange\",\"Orange\",\"Orange\",\"Orange\",\"Orange\",\"Orange\",\"Orange\",\"Orange\",\"Orange\",\"Orange\",\"Orange\",\"Orange\",\"Orange\",\"Orange\",\"Orange\",\"Orange\",\"Orange\",\"Orange\",\"Orange\",\"Orange\",\"Orange\",\"Orange\",\"Orange\",\"Orange\",\"Orange\",\"Orange\",\"Orange\",\"Orange\",\"Orange\",\"Orange\",\"Orange\",\"Orange\",\"Orange\",\"Orange\",\"Orange\",\"Orange\",\"Orange\",\"Orange\",\"Orange\",\"Orange\",\"Yellow\",\"Yellow\",\"White\",\"White\",\"White\",\"White\",\"White\",\"White\",\"White\",\"White\",\"White\",\"White\",\"White\",\"White\",\"White\",\"White\",\"White\",\"White\",\"White\",\"White\",\"White\",\"White\",\"White\",\"White\",\"White\",\"White\",\"White\",\"White\",\"White\",\"White\",\"White\",\"White\",\"Orange\",\"Yellow\",\"White\",\"White\",\"White\",\"White\",\"White\",\"White\",\"White\",\"Orange\",\"Orange\",\"Orange\",\"Orange\",\"Orange\",\"Orange\",\"Orange\",\"Orange\",\"Orange\",\"Orange\",\"Orange\",\"Orange\",\"Orange\",\"Orange\",\"Orange\",\"Yellow\",\"Yellow\",\"Yellow\",\"Yellow\",\"White\",\"White\",\"White\",\"White\",\"White\",\"White\",\"White\",\"White\",\"White\",\"White\",\"White\",\"White\",\"White\",\"White\",\"White\",\"White\",\"White\",\"White\",\"White\",\"White\",\"White\",\"White\",\"White\",\"Orange\",\"Orange\",\"Orange\",\"Orange\",\"Orange\",\"Orange\",\"Orange\",\"Orange\",\"Orange\",\"Orange\",\"Orange\",\"Orange\",\"Orange\",\"Orange\",\"Yellow\",\"Yellow\",\"Yellow\",\"Yellow\",\"Yellow\",\"Yellow\",\"Yellow\",\"White\",\"Yellow\",\"Green\",\"Orange\",\"Orange\",\"Orange\",\"Orange\",\"Orange\",\"Orange\",\"Orange\",\"Orange\",\"White\",\"White\",\"White\",\"White\",\"White\",\"White\",\"Green\",\"Orange\",\"Orange\",\"Orange\",\"Orange\",\"Orange\",\"Orange\",\"Orange\",\"Orange\",\"Orange\",\"Orange\",\"Orange\",\"Orange\",\"Orange\",\"Orange\",\"Orange\",\"Orange\",\"Orange\",\"Orange\",\"Orange\",\"Orange\",\"Orange\",\"Orange\",\"Orange\",\"Orange\",\"Orange\",\"Orange\",\"Orange\",\"Orange\",\"Orange\",\"Orange\",\"Orange\",\"Orange\",\"Orange\",\"Orange\",\"Orange\",\"Orange\",\"Orange\",\"Orange\",\"Orange\",\"Orange\",\"Orange\",\"Orange\",\"Orange\",\"Yellow\",\"Yellow\",\"Yellow\",\"Yellow\",\"Yellow\",\"Yellow\",\"White\",\"White\",\"White\",\"White\",\"White\",\"Red\",\"Red\",\"Red\",\"Green\",\"Orange\",\"Yellow\",\"Yellow\",\"Yellow\",\"Yellow\",\"Green\",\"Yellow\",\"Orange\",\"Orange\",\"Orange\",\"Orange\",\"Orange\",\"Orange\",\"Orange\",\"Orange\",\"Orange\",\"Orange\",\"Orange\",\"Orange\",\"Orange\",\"Orange\",\"Orange\",\"Orange\",\"Orange\",\"Orange\",\"Orange\",\"Orange\",\"Orange\",\"Orange\",\"Orange\",\"Orange\",\"Orange\",\"Orange\",\"Orange\",\"Orange\",\"Orange\",\"Orange\",\"Yellow\",\"Yellow\",\"Yellow\",\"Yellow\",\"Yellow\",\"Yellow\",\"Yellow\",\"Yellow\",\"Yellow\",\"White\",\"Red\",\"Green\",\"Green\",\"Green\",\"Orange\",\"Orange\",\"Orange\",\"Orange\",\"Orange\",\"Orange\",\"Orange\",\"Orange\",\"Orange\",\"Yellow\",\"Yellow\",\"Yellow\",\"Yellow\",\"White\",\"White\",\"White\",\"White\",\"White\",\"Green\",\"Orange\",\"Orange\",\"Orange\",\"Orange\",\"Orange\",\"Orange\",\"Orange\",\"Orange\",\"Orange\",\"Orange\",\"Orange\",\"Orange\",\"Orange\",\"Orange\",\"Orange\",\"Orange\",\"Orange\",\"Orange\",\"Orange\",\"Orange\",\"Orange\",\"Orange\",\"Orange\",\"Orange\",\"Yellow\",\"White\",\"White\",\"White\",\"White\",\"White\",\"White\",\"White\",\"White\",\"White\",\"White\",\"White\",\"White\",\"White\",\"White\",\"White\",\"White\",\"White\",\"White\",\"White\",\"White\",\"White\",\"White\",\"White\",\"White\",\"White\",\"White\",\"White\",\"White\",\"White\",\"White\",\"White\",\"White\",\"White\",\"White\",\"White\",\"White\",\"White\",\"White\",\"White\",\"White\",\"White\",\"White\",\"White\",\"White\",\"Orange\",\"Orange\",\"Orange\",\"Orange\",\"Orange\",\"Orange\",\"Orange\",\"White\",\"White\",\"White\",\"White\",\"White\",\"White\",\"White\",\"White\",\"White\",\"White\",\"White\",\"White\",\"White\",\"White\",\"White\",\"White\",\"White\",\"White\",\"White\",\"White\",\"White\",\"Orange\",\"Orange\",\"Orange\",\"Orange\",\"Orange\",\"Orange\",\"Orange\",\"Orange\",\"Orange\",\"Orange\",\"Orange\",\"Orange\",\"Orange\",\"Orange\",\"Orange\",\"Orange\",\"Orange\",\"Orange\",\"Orange\",\"Orange\",\"Orange\",\"Orange\",\"Orange\",\"Orange\",\"Orange\",\"Orange\",\"Orange\",\"Orange\",\"Orange\",\"Orange\",\"Orange\",\"Orange\",\"Orange\",\"Orange\",\"Orange\",\"Yellow\",\"Yellow\",\"Yellow\",\"Yellow\",\"Yellow\",\"Yellow\",\"Yellow\",\"Yellow\",\"Yellow\",\"Yellow\",\"Yellow\",\"Yellow\",\"Yellow\",\"Yellow\",\"Yellow\",\"Yellow\",\"Yellow\",\"Yellow\",\"Yellow\",\"Yellow\",\"Yellow\",\"Yellow\",\"Yellow\",\"Yellow\",\"Yellow\",\"Yellow\",\"Yellow\",\"Yellow\",\"Yellow\",\"Yellow\",\"Yellow\",\"Yellow\",\"Yellow\",\"Yellow\",\"Yellow\",\"Red\",\"Red\",\"Red\",\"Red\",\"Red\",\"Green\",\"Green\",\"Green\",\"Green\",\"Green\",\"Green\",\"Green\",\"Green\",\"Green\",\"Orange\",\"Orange\",\"White\",\"White\",\"White\",\"White\",\"Green\",\"Orange\",\"Orange\",\"Orange\",\"Orange\",\"Orange\",\"Orange\",\"Orange\",\"Orange\",\"Orange\",\"Orange\",\"Yellow\",\"Yellow\",\"White\",\"White\",\"White\",\"Orange\",\"Orange\",\"Orange\",\"Orange\",\"Orange\",\"Orange\",\"Orange\",\"Orange\",\"Orange\",\"Orange\",\"Orange\",\"Orange\",\"Orange\",\"Orange\",\"Orange\",\"Orange\",\"Orange\",\"Orange\",\"Orange\",\"Orange\",\"Orange\",\"Orange\",\"Orange\",\"Orange\",\"Orange\",\"Orange\",\"Orange\",\"Orange\",\"Orange\",\"Orange\",\"Orange\",\"Orange\",\"Orange\",\"Orange\",\"Orange\",\"Orange\",\"Orange\",\"Orange\",\"Orange\",\"Orange\",\"Orange\",\"Orange\",\"Orange\",\"Orange\",\"Orange\",\"Orange\",\"Orange\",\"Orange\",\"Yellow\",\"Yellow\",\"Yellow\",\"Yellow\",\"Yellow\",\"Yellow\",\"White\",\"White\",\"White\",\"White\",\"White\",\"White\",\"White\",\"White\",\"White\",\"White\",\"White\",\"White\",\"White\",\"White\",\"White\",\"White\",\"White\",\"White\",\"White\",\"White\",\"White\",\"White\",\"White\",\"White\",\"White\",\"White\",\"White\",\"Red\",\"Red\",\"Red\",\"Orange\",\"Orange\",\"Orange\",\"Orange\",\"Orange\",\"Orange\",\"Orange\",\"Orange\",\"Orange\",\"Orange\",\"Orange\",\"Orange\",\"Orange\",\"Orange\",\"Orange\",\"Orange\",\"Orange\",\"Orange\",\"Yellow\",\"Yellow\",\"Yellow\",\"Yellow\",\"Yellow\",\"Yellow\",\"Yellow\",\"White\",\"White\",\"White\",\"Red\",\"Orange\",\"Orange\",\"Orange\",\"Orange\",\"Orange\",\"Orange\",\"Orange\",\"Orange\",\"Orange\",\"Orange\",\"Orange\",\"Orange\",\"Orange\",\"Orange\",\"Orange\",\"Orange\",\"Orange\",\"Orange\",\"Orange\",\"Yellow\",\"White\",\"White\",\"White\",\"White\",\"White\",\"White\",\"White\",\"White\",\"White\",\"White\",\"White\",\"White\",\"Orange\",\"Orange\",\"Orange\",\"Orange\",\"White\",\"White\",\"White\",\"White\",\"White\",\"White\",\"White\",\"White\",\"White\",\"White\",\"White\",\"White\",\"White\",\"White\",\"White\",\"White\",\"Orange\",\"Orange\",\"Orange\",\"Orange\",\"Orange\",\"White\",\"White\",\"White\",\"White\",\"White\",\"White\",\"White\",\"White\",\"White\",\"White\",\"White\",\"White\",\"White\",\"White\",\"White\",\"White\",\"White\",\"White\",\"White\",\"White\",\"White\",\"White\",\"White\",\"White\",\"White\",\"White\",\"White\",\"White\",\"White\",\"White\",\"White\",\"White\",\"Orange\",\"Orange\",\"Yellow\",\"Yellow\",\"Green\",\"Orange\",\"White\",\"White\",\"White\",\"White\",\"White\",\"Yellow\",\"Orange\",\"Orange\",\"Orange\",\"Orange\",\"Orange\",\"Orange\",\"Orange\",\"Orange\",\"Orange\",\"Orange\",\"Orange\",\"Orange\",\"Orange\",\"Orange\",\"Orange\",\"Orange\",\"Orange\",\"Yellow\",\"Yellow\",\"Yellow\",\"Yellow\",\"Yellow\",\"Yellow\",\"Yellow\",\"Green\",\"Orange\",\"Orange\",\"Orange\",\"Orange\",\"Orange\",\"Orange\",\"Yellow\",\"Yellow\",\"White\",\"Green\",\"Orange\",\"Orange\",\"Orange\",\"Orange\",\"Orange\",\"Orange\",\"Orange\",\"Orange\",\"Orange\",\"Orange\",\"Orange\",\"Orange\",\"Orange\",\"Orange\",\"Orange\",\"Orange\",\"Yellow\",\"Yellow\",\"Yellow\",\"Yellow\",\"Red\",\"Green\",\"Green\",\"Orange\",\"Orange\",\"Orange\",\"Yellow\",\"Yellow\",\"Orange\",\"Orange\",\"Orange\",\"Orange\",\"Orange\",\"Orange\",\"Orange\",\"Orange\",\"Orange\",\"Orange\",\"Orange\",\"Orange\",\"Orange\",\"Orange\",\"Orange\",\"Orange\",\"Orange\",\"Yellow\",\"Yellow\",\"Yellow\",\"Yellow\",\"Yellow\",\"Yellow\",\"White\",\"White\",\"White\",\"White\",\"White\",\"White\",\"White\",\"White\",\"White\",\"White\",\"White\",\"White\",\"White\",\"White\",\"White\",\"White\",\"White\",\"Orange\",\"Orange\",\"Orange\",\"Orange\",\"Orange\",\"Orange\",\"Orange\",\"Orange\",\"Orange\",\"Orange\",\"Orange\",\"Orange\",\"Orange\",\"Orange\",\"Orange\",\"Orange\",\"Orange\",\"Orange\",\"Orange\",\"Orange\",\"Orange\",\"Orange\",\"Orange\",\"Yellow\",\"White\",\"White\",\"White\",\"White\",\"White\",\"White\",\"White\",\"White\",\"White\",\"White\",\"White\",\"White\",\"White\",\"White\",\"White\",\"White\",\"White\",\"White\",\"White\",\"White\",\"White\",\"White\",\"White\",\"White\",\"White\",\"White\",\"White\",\"White\",\"White\",\"White\",\"White\",\"White\",\"White\",\"White\",\"White\",\"White\",\"White\",\"White\",\"White\",\"White\",\"White\",\"White\",\"White\",\"White\",\"Orange\",\"Orange\",\"Orange\",\"Orange\",\"Orange\",\"Orange\",\"Orange\",\"Orange\",\"Orange\",\"Orange\",\"Orange\",\"Orange\",\"Orange\",\"Orange\",\"Orange\",\"Orange\",\"Orange\",\"Orange\",\"Yellow\",\"Yellow\",\"Yellow\",\"White\",\"White\",\"White\",\"White\",\"White\",\"White\",\"White\",\"White\",\"White\",\"White\",\"White\",\"White\",\"White\",\"White\",\"White\",\"White\",\"White\",\"White\",\"White\",\"White\",\"White\",\"Red\",\"Orange\",\"White\",\"White\",\"White\",\"White\",\"White\",\"White\",\"White\",\"White\",\"White\",\"White\",\"White\",\"White\",\"White\",\"White\",\"White\",\"White\",\"White\",\"White\",\"White\",\"White\",\"White\",\"White\",\"White\",\"White\",\"White\",\"White\",\"White\",\"White\",\"White\",\"White\",\"White\",\"White\",\"White\",\"White\",\"White\",\"White\",\"White\",\"White\",\"White\",\"White\",\"White\",\"White\",\"White\",\"White\",\"White\",\"White\",\"White\",\"White\",\"White\",\"White\",\"White\",\"White\",\"White\",\"White\",\"White\",\"White\",\"White\",\"White\",\"White\",\"White\",\"White\",\"White\",\"White\",\"White\",\"White\",\"White\",\"White\",\"White\",\"White\",\"White\",\"White\",\"White\",\"White\",\"White\",\"White\",\"White\",\"White\",\"White\",\"White\",\"White\",\"White\",\"White\",\"White\",\"White\",\"White\",\"White\",\"White\",\"White\",\"White\",\"White\",\"White\",\"White\",\"White\",\"White\",\"White\",\"White\",\"White\",\"White\",\"White\",\"White\",\"Orange\",\"Orange\",\"Orange\",\"Orange\",\"Orange\",\"Orange\",\"Orange\",\"Orange\",\"Orange\",\"Orange\",\"Orange\",\"Orange\",\"Orange\",\"Orange\",\"Orange\",\"Orange\",\"Orange\",\"Orange\",\"Orange\",\"Orange\",\"Orange\",\"Orange\",\"Orange\",\"Orange\",\"Orange\",\"Orange\",\"White\",\"White\",\"White\",\"White\",\"White\",\"White\",\"White\",\"White\",\"White\",\"White\",\"White\",\"White\",\"White\",\"White\",\"White\",\"White\",\"White\",\"White\",\"White\",\"White\",\"White\",\"White\",\"White\",\"White\",\"White\",\"White\",\"White\",\"White\",\"White\",\"White\",\"White\",\"White\",\"White\",\"White\",\"White\",\"White\",\"Orange\",\"Orange\",\"Orange\",\"Orange\",\"Orange\",\"Orange\",\"Orange\",\"Orange\",\"Orange\",\"Orange\",\"Orange\",\"Orange\",\"Orange\",\"Orange\",\"Orange\",\"Orange\",\"Orange\",\"Yellow\",\"Yellow\",\"Yellow\",\"Yellow\",\"Yellow\",\"Yellow\",\"White\",\"White\",\"White\",\"White\",\"White\",\"White\",\"White\",\"Red\",\"Green\",\"Orange\",\"Orange\",\"Orange\",\"Orange\",\"Orange\",\"Orange\",\"Orange\",\"Orange\",\"Orange\",\"Orange\",\"Orange\",\"Orange\",\"Orange\",\"Orange\",\"Orange\",\"Orange\",\"Orange\",\"Orange\",\"Orange\",\"Orange\",\"Orange\",\"Yellow\",\"Yellow\",\"Yellow\",\"Yellow\",\"Yellow\",\"Yellow\",\"Yellow\",\"Yellow\",\"Yellow\",\"Yellow\",\"Yellow\",\"Yellow\",\"Yellow\",\"Yellow\",\"Yellow\",\"Yellow\",\"Yellow\",\"Yellow\",\"Yellow\",\"Yellow\",\"Yellow\",\"Green\",\"Green\",\"Green\",\"Green\",\"Green\",\"Green\",\"Orange\",\"Orange\",\"Orange\",\"Orange\",\"Orange\",\"Orange\",\"Orange\",\"Orange\",\"Orange\",\"Orange\",\"Orange\",\"Orange\",\"Orange\",\"Orange\",\"Orange\",\"Orange\",\"Orange\",\"Orange\",\"Orange\",\"Orange\",\"Orange\",\"Orange\",\"Orange\",\"Orange\",\"Orange\",\"Orange\",\"Orange\",\"Yellow\",\"Yellow\",\"Yellow\",\"Yellow\",\"Yellow\",\"Yellow\",\"White\",\"White\",\"White\",\"White\",\"White\",\"White\",\"White\",\"White\",\"White\",\"White\",\"White\",\"White\",\"White\",\"Green\",\"Orange\",\"Orange\",\"Orange\",\"Orange\",\"Orange\",\"Yellow\",\"Yellow\",\"White\",\"White\",\"Red\",\"Orange\",\"White\",\"White\",\"White\",\"White\",\"White\",\"White\",\"White\",\"Orange\",\"Orange\",\"Orange\",\"Yellow\",\"White\",\"White\",\"Orange\",\"Orange\",\"Orange\",\"Orange\",\"Orange\",\"Orange\",\"Orange\",\"Orange\",\"Orange\",\"Orange\",\"Orange\",\"Orange\",\"Orange\",\"Orange\",\"Orange\",\"Orange\",\"Yellow\",\"Yellow\",\"Yellow\",\"Yellow\",\"Yellow\",\"Yellow\",\"Yellow\",\"White\",\"White\",\"White\",\"White\",\"Orange\",\"Orange\",\"Orange\",\"Orange\",\"Orange\",\"Orange\",\"Orange\",\"Orange\",\"Orange\",\"Orange\",\"Orange\",\"Orange\",\"Orange\",\"Orange\",\"Orange\",\"Orange\",\"Orange\",\"Orange\",\"Orange\",\"Orange\",\"Orange\",\"Orange\",\"Orange\",\"Orange\",\"Orange\",\"Orange\",\"Orange\",\"Orange\",\"Orange\",\"Orange\",\"Orange\",\"Orange\",\"Orange\",\"Orange\",\"Orange\",\"Orange\",\"Orange\",\"Orange\",\"Orange\",\"Orange\",\"Orange\",\"Orange\",\"Orange\",\"Orange\",\"Orange\",\"Orange\",\"Orange\",\"Orange\",\"Orange\",\"Orange\",\"Orange\",\"Orange\",\"Orange\",\"Orange\",\"Orange\",\"Orange\",\"Yellow\",\"Yellow\",\"White\",\"White\",\"White\",\"White\",\"Red\",\"Green\",\"Orange\",\"Orange\",\"Orange\",\"Orange\",\"Orange\",\"Orange\",\"Orange\",\"Orange\",\"Orange\",\"Orange\",\"Orange\",\"Orange\",\"White\",\"White\",\"White\",\"White\",\"White\",\"White\",\"White\",\"White\",\"White\",\"White\",\"White\",\"White\",\"White\",\"White\",\"White\",\"White\",\"White\",\"White\",\"White\",\"White\",\"White\",\"White\",\"White\",\"White\",\"White\",\"White\",\"White\",\"White\",\"White\",\"White\",\"White\",\"White\",\"White\",\"White\",\"White\",\"White\",\"White\",\"White\",\"White\",\"White\",\"White\",\"White\",\"White\",\"White\",\"White\",\"White\",\"White\",\"White\",\"Orange\",\"Orange\",\"White\",\"White\",\"White\",\"White\",\"White\",\"White\",\"White\",\"Orange\",\"Orange\",\"Orange\",\"Green\",\"Orange\",\"Yellow\",\"Yellow\",\"Yellow\",\"Yellow\",\"Yellow\",\"Yellow\",\"Green\",\"Green\",\"Green\",\"Orange\",\"Orange\",\"White\",\"White\",\"White\",\"White\",\"White\",\"White\",\"White\",\"White\",\"White\",\"White\",\"White\",\"White\",\"White\",\"White\",\"White\",\"White\",\"White\",\"White\",\"Orange\",\"Orange\",\"Orange\",\"Orange\",\"Orange\",\"Orange\",\"Orange\",\"Orange\",\"Orange\",\"Orange\",\"Orange\",\"Orange\",\"Orange\",\"Orange\",\"Orange\",\"Orange\",\"Orange\",\"Orange\",\"Orange\",\"Orange\",\"Orange\",\"Orange\",\"Orange\",\"Orange\",\"Orange\",\"Orange\",\"Orange\",\"Orange\",\"Orange\",\"Orange\",\"Orange\",\"Orange\",\"Orange\",\"Orange\",\"Orange\",\"Orange\",\"Orange\",\"Orange\",\"Orange\",\"Orange\",\"Orange\",\"Yellow\",\"Yellow\",\"Yellow\",\"Yellow\",\"Yellow\",\"Yellow\",\"Yellow\",\"Yellow\",\"Yellow\",\"Yellow\",\"Yellow\",\"Red\",\"Red\",\"Red\",\"Red\",\"Orange\",\"Orange\",\"Orange\",\"Orange\",\"Orange\",\"Orange\",\"Yellow\",\"Yellow\",\"Orange\",\"Orange\",\"Orange\",\"Orange\",\"Orange\",\"Orange\",\"Orange\",\"Orange\",\"Orange\",\"Orange\",\"Orange\",\"Orange\",\"Orange\",\"Orange\",\"Orange\",\"Orange\",\"Orange\",\"Orange\",\"Orange\",\"Orange\",\"Orange\",\"Orange\",\"Orange\",\"Orange\",\"Orange\",\"Orange\",\"Orange\",\"Orange\",\"Orange\",\"Orange\",\"Orange\",\"Orange\",\"Orange\",\"Orange\",\"Orange\",\"Orange\",\"Orange\",\"Orange\",\"Orange\",\"Orange\",\"Orange\",\"Orange\",\"Orange\",\"Orange\",\"Orange\",\"Orange\",\"Orange\",\"Orange\",\"Orange\",\"Orange\",\"Orange\",\"Orange\",\"Orange\",\"Orange\",\"Orange\",\"Orange\",\"Yellow\",\"Yellow\",\"Yellow\",\"Yellow\",\"Yellow\",\"Yellow\",\"Yellow\",\"Yellow\",\"Yellow\",\"Yellow\",\"Yellow\",\"Yellow\",\"Yellow\",\"Yellow\",\"Yellow\",\"Yellow\",\"Yellow\",\"Yellow\",\"Yellow\",\"White\",\"White\",\"White\",\"White\",\"White\",\"White\",\"White\",\"White\",\"Red\",\"Red\",\"Red\",\"Orange\",\"Dark Green\",\"Orange\",\"Orange\",\"Orange\",\"Orange\",\"Orange\",\"Orange\",\"Orange\",\"Orange\",\"Orange\",\"White\",\"White\",\"White\",\"White\",\"White\",\"White\",\"White\",\"White\",\"Orange\",\"Orange\",\"Orange\",\"Orange\",\"Orange\",\"Orange\",\"Orange\",\"Orange\",\"Orange\",\"Orange\",\"Orange\",\"Orange\",\"Orange\",\"Orange\",\"Orange\",\"Orange\",\"Orange\",\"Orange\",\"Orange\",\"Orange\",\"Orange\",\"Orange\",\"Orange\",\"Orange\",\"Orange\",\"Yellow\",\"Yellow\",\"Yellow\",\"Yellow\",\"White\",\"White\",\"White\",\"White\",\"White\",\"White\",\"White\",\"White\",\"White\",\"White\",\"White\",\"White\",\"White\",\"White\",\"White\",\"White\",\"White\",\"White\",\"White\",\"Red\",\"Orange\",\"Orange\",\"Orange\",\"White\",\"White\",\"Orange\",\"Orange\",\"Orange\",\"Orange\",\"Orange\",\"Orange\",\"Orange\",\"Orange\",\"Orange\",\"Orange\",\"Orange\",\"Orange\",\"Orange\",\"Orange\",\"Orange\",\"Orange\",\"Orange\",\"Orange\",\"Orange\",\"Orange\",\"Orange\",\"Orange\",\"Orange\",\"Orange\",\"Orange\",\"Orange\",\"Orange\",\"Orange\",\"Orange\",\"Orange\",\"Orange\",\"Orange\",\"Orange\",\"Orange\",\"Orange\",\"Orange\",\"Orange\",\"Dark Green\",\"Yellow\",\"Yellow\",\"Yellow\",\"Yellow\",\"Yellow\",\"Yellow\",\"Yellow\",\"Yellow\",\"Yellow\",\"Yellow\",\"Yellow\",\"Yellow\",\"Yellow\",\"Yellow\",\"Yellow\",\"Yellow\",\"Yellow\",\"Yellow\",\"Yellow\",\"Green\",\"Green\",\"Green\",\"Orange\",\"Orange\",\"Orange\",\"Orange\",\"Orange\",\"Yellow\",\"Yellow\",\"Yellow\",\"Yellow\",\"Yellow\",\"Red\",\"Green\",\"Green\",\"Orange\",\"Orange\",\"Orange\",\"White\",\"White\",\"White\",\"White\",\"White\",\"White\",\"White\",\"White\",\"White\",\"White\",\"White\",\"White\",\"White\",\"White\",\"White\",\"White\",\"White\",\"White\",\"White\",\"White\",\"Orange\",\"Orange\",\"Orange\",\"Orange\",\"Orange\",\"Orange\",\"Orange\",\"Orange\",\"Orange\",\"Orange\",\"Yellow\",\"Yellow\",\"Yellow\",\"Yellow\",\"White\",\"White\",\"White\",\"White\",\"White\",\"White\",\"White\",\"White\",\"White\",\"White\",\"White\",\"White\",\"White\",\"White\",\"White\",\"White\",\"White\",\"White\",\"White\",\"White\",\"White\",\"White\",\"Red\",\"Green\",\"Orange\",\"Orange\",\"Dark Green\",\"Yellow\",\"Yellow\",\"Green\",\"Green\",\"Orange\",\"Orange\",\"Orange\",\"Orange\",\"Yellow\",\"Yellow\",\"White\",\"White\",\"White\",\"White\",\"Orange\",\"Orange\",\"Orange\",\"Orange\",\"Orange\",\"Orange\",\"Orange\",\"Orange\",\"Orange\",\"Orange\",\"Orange\",\"Orange\",\"Orange\",\"Orange\",\"Orange\",\"Orange\",\"Orange\",\"Orange\",\"Orange\",\"Orange\",\"Orange\",\"Orange\",\"Orange\",\"Orange\",\"Orange\",\"Orange\",\"Orange\",\"Orange\",\"Orange\",\"Orange\",\"Orange\",\"Orange\",\"Orange\",\"Orange\",\"Orange\",\"Orange\",\"Orange\",\"Orange\",\"Orange\",\"Orange\",\"Orange\",\"Orange\",\"Orange\",\"Orange\",\"Orange\",\"Orange\",\"Orange\",\"Orange\",\"Orange\",\"Orange\",\"Orange\",\"Orange\",\"Orange\",\"Orange\",\"Orange\",\"Orange\",\"Orange\",\"Orange\",\"Orange\",\"Orange\",\"Orange\",\"Orange\",\"Orange\",\"Yellow\",\"Yellow\",\"Yellow\",\"Yellow\",\"Yellow\",\"Yellow\",\"Yellow\",\"Yellow\",\"Yellow\",\"Yellow\",\"White\",\"White\",\"White\",\"Red\",\"Green\",\"Green\",\"Green\",\"Green\",\"Orange\",\"Orange\",\"Orange\",\"Orange\",\"Orange\",\"Orange\",\"Orange\",\"Orange\",\"Orange\",\"Orange\",\"Orange\",\"Orange\",\"Orange\",\"Orange\",\"Orange\",\"Orange\",\"Orange\",\"Orange\",\"Orange\",\"Orange\",\"Orange\",\"Orange\",\"Orange\",\"Orange\",\"Orange\",\"Orange\",\"Orange\",\"Orange\",\"Orange\",\"Orange\",\"Orange\",\"Orange\",\"Orange\",\"Orange\",\"Dark Green\",\"Dark Green\",\"Dark Green\",\"Dark Green\",\"Dark Green\",\"Yellow\",\"Yellow\",\"Yellow\",\"Yellow\",\"Yellow\",\"Yellow\",\"Yellow\",\"Yellow\",\"Yellow\",\"Yellow\",\"Yellow\",\"Yellow\",\"Yellow\",\"Yellow\",\"Yellow\",\"Yellow\",\"Yellow\",\"Yellow\",\"Yellow\",\"Yellow\",\"Yellow\",\"Yellow\",\"Yellow\",\"Yellow\",\"Yellow\",\"Yellow\",\"Yellow\",\"Yellow\",\"Yellow\",\"Yellow\",\"Yellow\",\"Yellow\",\"Yellow\",\"Yellow\",\"Yellow\",\"Yellow\",\"Yellow\",\"Yellow\",\"Yellow\",\"White\",\"Red\",\"Green\",\"Green\",\"Green\",\"Green\",\"Green\",\"Green\",\"Green\",\"Green\",\"Green\",\"Green\",\"Green\",\"Green\",\"Green\",\"Green\",\"Green\",\"Green\",\"Green\",\"Green\",\"Green\",\"Orange\",\"Orange\",\"Orange\",\"Orange\",\"Orange\",\"Orange\",\"Orange\",\"Orange\",\"Orange\",\"Orange\",\"Orange\",\"Orange\",\"Orange\",\"Orange\",\"Orange\",\"Orange\",\"Orange\",\"Orange\",\"Orange\",\"Orange\",\"Orange\",\"Orange\",\"Orange\",\"Orange\",\"Orange\",\"Yellow\",\"Yellow\",\"Yellow\",\"Yellow\",\"Yellow\",\"Yellow\",\"Yellow\",\"Yellow\",\"Yellow\",\"Yellow\",\"Yellow\",\"Yellow\",\"Yellow\",\"Yellow\",\"Yellow\",\"Yellow\",\"Yellow\",\"Yellow\",\"Yellow\",\"Red\",\"Red\",\"Green\",\"Green\",\"Orange\",\"Yellow\",\"White\",\"Orange\",\"Orange\",\"Orange\",\"Orange\",\"Orange\",\"Orange\",\"Orange\",\"Orange\",\"Orange\",\"Orange\",\"Orange\",\"Orange\",\"Orange\",\"Orange\",\"Orange\",\"Orange\",\"Orange\",\"Orange\",\"Orange\",\"Orange\",\"Orange\",\"Orange\",\"Orange\",\"Orange\",\"Orange\",\"Orange\",\"Orange\",\"Orange\",\"Orange\",\"Orange\",\"Orange\",\"Orange\",\"Orange\",\"Orange\",\"Orange\",\"Orange\",\"Orange\",\"Orange\",\"Orange\",\"Orange\",\"Orange\",\"Orange\",\"Orange\",\"Orange\",\"Orange\",\"Orange\",\"Yellow\",\"Yellow\",\"Yellow\",\"Yellow\",\"Yellow\",\"Yellow\",\"Yellow\",\"Yellow\",\"Yellow\",\"Yellow\",\"Yellow\",\"Yellow\",\"Yellow\",\"Yellow\",\"White\",\"White\",\"White\",\"White\",\"White\",\"White\",\"White\",\"White\",\"White\",\"White\",\"White\",\"Red\",\"Red\",\"Green\",\"Green\",\"Green\",\"Green\",\"Green\",\"Green\",\"Green\",\"Orange\",\"Orange\",\"Orange\",\"Orange\",\"Orange\",\"Orange\",\"Orange\",\"Orange\",\"Orange\",\"White\",\"White\",\"White\",\"White\",\"White\",\"White\",\"White\",\"White\",\"White\",\"White\",\"White\",\"White\",\"White\",\"White\",\"White\",\"White\",\"White\",\"White\",\"White\",\"White\",\"White\",\"White\",\"White\",\"White\",\"White\",\"Red\",\"Orange\",\"Orange\",\"Orange\",\"Orange\",\"Orange\",\"Orange\",\"Orange\",\"Orange\",\"Orange\",\"Orange\",\"Orange\",\"Orange\",\"Orange\",\"Orange\",\"Orange\",\"Orange\",\"Orange\",\"Orange\",\"Orange\",\"Yellow\",\"Yellow\",\"Yellow\",\"Yellow\",\"Yellow\",\"Yellow\",\"Yellow\",\"Yellow\",\"White\",\"White\",\"White\",\"White\",\"Red\",\"Red\",\"Green\",\"Green\",\"Green\",\"Orange\",\"Yellow\",\"Yellow\",\"Green\",\"Green\",\"Green\",\"Green\",\"Orange\",\"Orange\",\"Orange\",\"Orange\",\"Orange\",\"Orange\",\"Orange\",\"Orange\",\"Orange\",\"Orange\",\"Orange\",\"Yellow\",\"White\",\"White\",\"White\",\"White\",\"White\",\"White\",\"White\",\"White\",\"White\",\"White\",\"White\",\"White\",\"White\",\"Red\",\"Orange\",\"Orange\",\"Orange\",\"Orange\",\"Yellow\",\"Yellow\",\"White\",\"White\",\"White\",\"White\",\"White\",\"White\",\"White\",\"Orange\",\"Orange\",\"Orange\",\"Orange\",\"Orange\",\"Orange\",\"Orange\",\"Orange\",\"Orange\",\"Orange\",\"Orange\",\"Orange\",\"Orange\",\"Orange\",\"Orange\",\"Orange\",\"Orange\",\"Orange\",\"Orange\",\"Orange\",\"Orange\",\"Orange\",\"Orange\",\"Orange\",\"Orange\",\"Orange\",\"Orange\",\"Orange\",\"Orange\",\"Dark Green\",\"Yellow\",\"Yellow\",\"Yellow\",\"Yellow\",\"Yellow\",\"Yellow\",\"Yellow\",\"Yellow\",\"Yellow\",\"Yellow\",\"Yellow\",\"Yellow\",\"Yellow\",\"Yellow\",\"Yellow\",\"Yellow\",\"Yellow\",\"Yellow\",\"Yellow\",\"Yellow\",\"Yellow\",\"Yellow\",\"Yellow\",\"Yellow\",\"Yellow\",\"Yellow\",\"Yellow\",\"Yellow\",\"Yellow\",\"Yellow\",\"Yellow\",\"Yellow\",\"White\",\"Red\",\"Red\",\"Green\",\"Green\",\"Green\",\"Green\",\"Green\",\"Green\",\"Green\",\"Green\",\"Green\",\"Green\",\"Green\",\"Green\",\"Green\",\"Green\",\"Orange\",\"Orange\",\"Orange\",\"Orange\",\"Orange\",\"Orange\",\"Orange\",\"Orange\",\"Orange\",\"Yellow\",\"Yellow\",\"Yellow\",\"Yellow\",\"White\",\"White\",\"Orange\",\"Orange\",\"Orange\",\"Orange\",\"Orange\",\"Dark Green\",\"Yellow\",\"Yellow\",\"Yellow\",\"Yellow\",\"Yellow\",\"Yellow\",\"Yellow\",\"Yellow\",\"Yellow\",\"Yellow\",\"Yellow\",\"Yellow\",\"Red\",\"Green\",\"Green\",\"Green\",\"Green\",\"Green\",\"Green\",\"Green\",\"Orange\",\"Orange\",\"Orange\",\"Orange\",\"Orange\",\"Orange\",\"Orange\",\"Orange\",\"Orange\",\"Orange\",\"Orange\",\"Orange\",\"Orange\",\"Orange\",\"Orange\",\"Orange\",\"Orange\",\"Orange\",\"Orange\",\"Orange\",\"Orange\",\"Orange\",\"Orange\",\"Orange\",\"Orange\",\"Orange\",\"Orange\",\"Orange\",\"Orange\",\"Orange\",\"Orange\",\"Orange\",\"Orange\",\"Orange\",\"Orange\",\"Orange\",\"Orange\",\"Orange\",\"Orange\",\"Orange\",\"Yellow\",\"White\",\"White\",\"White\",\"White\",\"White\",\"White\",\"White\",\"White\",\"White\",\"White\",\"White\",\"White\",\"White\",\"White\",\"White\",\"White\",\"White\",\"White\",\"White\",\"White\",\"White\",\"White\",\"White\",\"White\",\"White\",\"White\",\"White\",\"White\",\"White\",\"White\",\"White\",\"White\",\"White\",\"White\",\"White\",\"White\",\"White\",\"White\",\"White\",\"White\",\"White\",\"White\",\"White\",\"White\",\"White\",\"White\",\"Orange\",\"Orange\",\"Orange\",\"Orange\",\"Orange\",\"Dark Green\",\"Yellow\",\"Yellow\",\"Yellow\",\"Yellow\",\"Yellow\",\"Yellow\",\"Yellow\",\"Yellow\",\"Yellow\",\"Yellow\",\"Red\",\"Green\",\"Green\",\"Green\",\"Green\",\"Green\",\"Green\",\"Green\",\"Green\",\"Green\",\"Orange\",\"Orange\",\"Orange\",\"Orange\",\"Orange\",\"Orange\",\"Orange\",\"White\",\"White\",\"White\",\"White\",\"White\",\"White\",\"White\",\"White\",\"White\",\"White\",\"White\",\"White\",\"White\",\"White\",\"White\",\"White\",\"White\",\"White\",\"White\",\"White\",\"Orange\",\"Orange\",\"Orange\",\"Orange\",\"Orange\",\"Orange\",\"Orange\",\"Orange\",\"Orange\",\"Orange\",\"Orange\",\"Orange\",\"Orange\",\"Orange\",\"Orange\",\"Orange\",\"Orange\",\"Orange\",\"Orange\",\"Orange\",\"Orange\",\"Orange\",\"Orange\",\"Orange\",\"Orange\",\"Orange\",\"Orange\",\"Orange\",\"Orange\",\"Orange\",\"Orange\",\"Orange\",\"Orange\",\"Orange\",\"Orange\",\"Orange\",\"Orange\",\"Orange\",\"Yellow\",\"Yellow\",\"Yellow\",\"Yellow\",\"Yellow\",\"Yellow\",\"Yellow\",\"White\",\"White\",\"White\",\"White\",\"White\",\"White\",\"White\",\"White\",\"White\",\"White\",\"White\",\"White\",\"White\",\"White\",\"White\",\"White\",\"White\",\"White\",\"White\",\"White\",\"White\",\"Green\",\"Orange\",\"Yellow\",\"Yellow\",\"Green\",\"Green\",\"Orange\",\"Orange\",\"White\",\"Orange\",\"Green\",\"Green\",\"Green\",\"Orange\",\"Orange\",\"Orange\",\"Orange\",\"Orange\",\"Orange\",\"Yellow\",\"Yellow\",\"White\",\"White\",\"White\",\"White\",\"Red\",\"Orange\",\"Orange\",\"Orange\",\"Orange\",\"Orange\",\"Orange\",\"Orange\",\"Orange\",\"Orange\",\"Orange\",\"Orange\",\"Orange\",\"Orange\",\"Orange\",\"Orange\",\"Orange\",\"Orange\",\"Orange\",\"Orange\",\"Yellow\",\"Yellow\",\"Yellow\",\"Yellow\",\"Yellow\",\"Yellow\",\"Yellow\",\"Yellow\",\"Yellow\",\"Yellow\",\"Yellow\",\"Yellow\",\"Yellow\",\"White\",\"White\",\"White\",\"White\",\"White\",\"White\",\"White\",\"Green\",\"Green\",\"Orange\",\"Yellow\",\"Orange\",\"Orange\",\"Yellow\",\"Yellow\",\"Yellow\",\"Orange\",\"Orange\",\"Orange\",\"Orange\",\"Orange\",\"Orange\",\"Orange\",\"Orange\",\"Orange\",\"Orange\",\"Orange\",\"Orange\",\"Orange\",\"Orange\",\"Orange\",\"Orange\",\"Orange\",\"Orange\",\"Orange\",\"Orange\",\"Orange\",\"Orange\",\"Orange\",\"Orange\",\"White\",\"White\",\"White\",\"White\",\"White\",\"White\",\"White\",\"White\",\"White\",\"White\",\"White\",\"White\",\"White\",\"White\",\"White\",\"White\",\"White\",\"White\",\"White\",\"White\",\"White\",\"White\",\"White\",\"White\",\"White\",\"White\",\"White\",\"White\",\"White\",\"White\",\"White\",\"White\",\"White\",\"Red\",\"Orange\",\"Yellow\",\"Yellow\",\"Yellow\",\"White\",\"Green\",\"Green\",\"Orange\",\"Orange\",\"Orange\",\"Orange\",\"Orange\",\"Orange\",\"Orange\",\"Orange\",\"Orange\",\"Orange\",\"Orange\",\"Orange\",\"Orange\",\"Orange\",\"Orange\",\"Yellow\",\"Yellow\",\"Yellow\",\"Yellow\",\"Yellow\",\"Yellow\",\"White\",\"White\",\"White\",\"White\",\"White\",\"White\",\"White\",\"White\",\"White\",\"White\",\"White\",\"White\",\"White\",\"White\",\"White\",\"Green\",\"Orange\",\"Yellow\",\"Yellow\",\"Orange\",\"Yellow\",\"Yellow\",\"Orange\",\"Orange\",\"Orange\",\"Yellow\",\"Yellow\",\"Green\",\"Orange\",\"Yellow\",\"Yellow\",\"Yellow\",\"Yellow\",\"Yellow\",\"Green\",\"Orange\",\"Yellow\",\"Orange\",\"Orange\",\"Orange\",\"Yellow\",\"Yellow\",\"Yellow\",\"Yellow\",\"Yellow\",\"Green\",\"Orange\",\"Orange\",\"Orange\",\"Orange\",\"Orange\",\"Yellow\",\"White\",\"Red\",\"Orange\",\"Orange\",\"Orange\",\"Yellow\",\"Yellow\",\"Yellow\",\"Yellow\",\"Yellow\",\"Yellow\",\"Yellow\",\"Yellow\",\"Green\",\"Yellow\",\"Yellow\",\"Yellow\",\"Yellow\",\"Yellow\",\"Orange\",\"Yellow\",\"Orange\",\"Orange\",\"Yellow\",\"Orange\",\"Orange\",\"Yellow\",\"Yellow\",\"Orange\",\"Yellow\",\"Yellow\",\"Yellow\",\"Yellow\",\"Green\",\"Green\",\"Yellow\",\"Yellow\",\"Green\",\"Green\",\"Orange\",\"Orange\",\"Orange\",\"Yellow\",\"Yellow\",\"Green\",\"White\",\"Orange\",\"Orange\",\"Orange\",\"Orange\",\"Orange\",\"Orange\",\"Orange\",\"Orange\",\"Orange\",\"Orange\",\"Orange\",\"Orange\",\"Orange\",\"Orange\",\"Orange\",\"Orange\",\"Orange\",\"Orange\",\"Orange\",\"Orange\",\"Orange\",\"Orange\",\"Orange\",\"Orange\",\"Orange\",\"Yellow\",\"Yellow\",\"White\",\"White\",\"White\",\"White\",\"White\",\"White\",\"White\",\"White\",\"White\",\"White\",\"White\",\"White\",\"White\",\"White\",\"White\",\"White\",\"White\",\"White\",\"White\",\"White\",\"White\",\"White\",\"White\",\"White\",\"White\",\"White\",\"White\",\"White\",\"White\",\"White\",\"White\",\"White\",\"White\",\"White\",\"Yellow\",\"Orange\",\"Yellow\",\"Green\",\"Orange\",\"Yellow\",\"Yellow\",\"Yellow\",\"Red\",\"Orange\",\"Orange\",\"Orange\",\"Orange\",\"Orange\",\"Orange\",\"Orange\",\"Orange\",\"Orange\",\"Orange\",\"Orange\",\"Orange\",\"Orange\",\"Orange\",\"Orange\",\"Orange\",\"Orange\",\"Orange\",\"Orange\",\"Orange\",\"Orange\",\"Orange\",\"Orange\",\"Orange\",\"Orange\",\"Orange\",\"Orange\",\"Orange\",\"Orange\",\"Orange\",\"Orange\",\"Orange\",\"Orange\",\"Orange\",\"White\",\"White\",\"White\",\"White\",\"White\",\"White\",\"White\",\"White\",\"White\",\"White\",\"White\",\"White\",\"White\",\"White\",\"White\",\"White\",\"White\",\"White\",\"White\",\"White\",\"White\",\"White\",\"White\",\"White\",\"Red\",\"Orange\",\"Orange\",\"Orange\",\"Orange\",\"Orange\",\"Orange\",\"Orange\",\"Orange\",\"Orange\",\"Orange\",\"Orange\",\"Orange\",\"Orange\",\"Orange\",\"Orange\",\"Orange\",\"Orange\",\"Yellow\",\"Yellow\",\"Yellow\",\"Red\",\"Red\",\"Red\",\"Red\",\"Red\",\"Red\",\"Orange\",\"Orange\",\"Orange\",\"Orange\",\"Yellow\",\"Yellow\",\"Yellow\",\"Yellow\",\"Yellow\",\"Yellow\",\"Yellow\",\"Yellow\",\"Yellow\",\"Yellow\",\"Yellow\",\"Yellow\",\"Yellow\",\"Yellow\",\"Yellow\",\"White\",\"Green\",\"Green\",\"Green\",\"Orange\",\"Orange\",\"Orange\",\"Orange\",\"Orange\",\"Yellow\",\"Yellow\",\"Yellow\",\"Yellow\",\"Orange\",\"Orange\",\"Orange\",\"Orange\",\"Orange\",\"Orange\",\"Orange\",\"Orange\",\"Orange\",\"Orange\",\"Orange\",\"Orange\",\"Orange\",\"Orange\",\"Orange\",\"Orange\",\"Orange\",\"Orange\",\"Yellow\",\"Yellow\",\"Yellow\",\"Yellow\",\"Yellow\",\"White\",\"White\",\"White\",\"White\",\"White\",\"White\",\"White\",\"White\",\"White\",\"White\",\"White\",\"White\",\"Green\",\"Orange\",\"Orange\",\"Orange\",\"Orange\",\"Orange\",\"Orange\",\"Orange\",\"Orange\",\"Orange\",\"Orange\",\"Orange\",\"Orange\",\"Orange\",\"Orange\",\"Orange\",\"Orange\",\"Yellow\",\"White\",\"White\",\"White\",\"White\",\"White\",\"White\",\"White\",\"White\",\"White\",\"White\",\"White\",\"White\",\"White\",\"White\",\"White\",\"White\",\"White\",\"White\",\"White\",\"White\",\"White\",\"White\",\"White\",\"White\",\"White\",\"White\",\"White\",\"White\",\"White\",\"White\",\"White\",\"White\",\"White\",\"White\",\"White\",\"White\",\"White\",\"White\",\"White\",\"White\",\"White\",\"White\",\"White\",\"White\",\"White\",\"Orange\",\"Orange\",\"Orange\",\"Orange\",\"Orange\",\"Orange\",\"Orange\",\"Orange\",\"Orange\",\"Orange\",\"Orange\",\"Orange\",\"Dark Green\",\"Yellow\",\"Yellow\",\"Yellow\",\"Yellow\",\"Yellow\",\"Yellow\",\"Yellow\",\"Yellow\",\"Yellow\",\"Yellow\",\"Yellow\",\"Yellow\",\"Green\",\"Green\",\"Green\",\"Green\",\"Green\",\"Green\",\"Orange\",\"White\",\"Orange\",\"Orange\",\"Orange\",\"Orange\",\"Orange\",\"Orange\",\"Orange\",\"Orange\",\"Orange\",\"Orange\",\"Orange\",\"Orange\",\"Orange\",\"Orange\",\"Orange\",\"Orange\",\"Orange\",\"Orange\",\"Orange\",\"Orange\",\"Orange\",\"Orange\",\"Orange\",\"Orange\",\"Orange\",\"Orange\",\"Orange\",\"Orange\",\"Orange\",\"Orange\",\"Orange\",\"Orange\",\"Orange\",\"Orange\",\"Orange\",\"Orange\",\"Orange\",\"Orange\",\"Orange\",\"Orange\",\"Orange\",\"Orange\",\"Orange\",\"Orange\",\"Orange\",\"Orange\",\"Orange\",\"Orange\",\"Orange\",\"Orange\",\"Orange\",\"Orange\",\"Orange\",\"Yellow\",\"Yellow\",\"White\",\"White\",\"White\",\"White\",\"Red\",\"Orange\",\"Orange\",\"Orange\",\"Orange\",\"Orange\",\"Orange\",\"Orange\",\"Orange\",\"Orange\",\"Orange\",\"Orange\",\"Orange\",\"Orange\",\"Orange\",\"Yellow\",\"Yellow\",\"Yellow\",\"Yellow\",\"Yellow\",\"Yellow\",\"White\",\"White\",\"White\",\"White\",\"White\",\"White\",\"White\",\"White\",\"White\",\"White\",\"White\",\"White\",\"White\",\"Red\",\"Red\",\"Red\",\"Orange\",\"Orange\",\"Orange\",\"Orange\",\"White\",\"White\",\"Orange\",\"Red\",\"Yellow\",\"Orange\",\"Yellow\",\"Yellow\",\"Green\",\"Orange\",\"Orange\",\"Orange\",\"Orange\",\"Yellow\",\"White\",\"White\",\"White\",\"White\",\"White\",\"White\",\"White\",\"White\",\"White\",\"White\",\"Orange\",\"Orange\",\"Orange\",\"Orange\",\"Orange\",\"Orange\",\"Orange\",\"Orange\",\"Orange\",\"Orange\",\"Orange\",\"Orange\",\"Orange\",\"Orange\",\"Yellow\",\"Yellow\",\"White\",\"White\",\"White\",\"White\",\"White\",\"White\",\"White\",\"White\",\"White\",\"White\",\"White\",\"White\",\"White\",\"White\",\"White\",\"White\",\"White\",\"White\",\"White\",\"White\",\"White\",\"White\",\"White\",\"Orange\",\"Orange\",\"Orange\",\"Orange\",\"White\",\"Orange\",\"Yellow\",\"Yellow\",\"Yellow\",\"Orange\",\"Yellow\",\"Yellow\",\"Red\",\"Orange\",\"Orange\",\"Orange\",\"Dark Green\",\"Dark Green\",\"Yellow\",\"Yellow\",\"Yellow\",\"Yellow\",\"Yellow\",\"Yellow\",\"Yellow\",\"Yellow\",\"Yellow\",\"Yellow\",\"Yellow\",\"Yellow\",\"Yellow\",\"Yellow\",\"Yellow\",\"Yellow\",\"Yellow\",\"Yellow\",\"Green\",\"Green\",\"Green\",\"Green\",\"Green\",\"Green\",\"Green\",\"Green\",\"Orange\",\"Orange\",\"Orange\",\"Orange\",\"Orange\",\"Orange\",\"Orange\",\"Yellow\",\"Yellow\",\"White\",\"Orange\",\"Yellow\",\"Yellow\",\"Yellow\",\"Yellow\",\"White\",\"White\",\"White\",\"White\",\"White\",\"White\",\"White\",\"Green\",\"Green\",\"White\",\"Orange\",\"Orange\",\"Orange\",\"Orange\",\"Orange\",\"Orange\",\"Orange\",\"Orange\",\"Orange\",\"Orange\",\"Orange\",\"Orange\",\"Orange\",\"Orange\",\"Orange\",\"Orange\",\"Orange\",\"Orange\",\"Orange\",\"Orange\",\"Orange\",\"Yellow\",\"Yellow\",\"Yellow\",\"White\",\"White\",\"White\",\"White\",\"White\",\"White\",\"White\",\"White\",\"White\",\"White\",\"White\",\"White\",\"White\",\"White\",\"Orange\",\"Orange\",\"Orange\",\"Orange\",\"White\",\"White\",\"Orange\",\"Orange\",\"Orange\",\"Orange\",\"Orange\",\"Orange\",\"Orange\",\"Yellow\",\"Yellow\",\"Yellow\",\"Yellow\",\"Yellow\",\"White\",\"Orange\",\"Orange\",\"Orange\",\"Yellow\",\"Orange\",\"White\",\"Orange\",\"Orange\",\"Orange\",\"Orange\",\"Orange\",\"Orange\",\"Orange\",\"Orange\",\"Orange\",\"Orange\",\"Orange\",\"Orange\",\"Orange\",\"Yellow\",\"Yellow\",\"Yellow\",\"Yellow\",\"White\",\"White\",\"White\",\"White\",\"White\",\"White\",\"White\",\"White\",\"White\",\"White\",\"White\",\"Red\",\"Red\",\"White\",\"White\",\"Orange\",\"Orange\",\"Orange\",\"Orange\",\"Orange\",\"Orange\",\"Orange\",\"Yellow\",\"White\",\"White\",\"Orange\",\"Orange\",\"Green\",\"Yellow\",\"White\",\"White\",\"Orange\",\"Orange\",\"White\",\"White\",\"White\",\"White\",\"Green\",\"Orange\",\"Orange\",\"Orange\",\"Orange\",\"Yellow\",\"White\",\"White\",\"White\",\"Orange\",\"Orange\",\"Orange\",\"Orange\",\"Orange\",\"Orange\",\"Orange\",\"Orange\",\"Orange\",\"Orange\",\"Orange\",\"Orange\",\"Orange\",\"Orange\",\"Orange\",\"Orange\",\"Orange\",\"Orange\",\"Orange\",\"Orange\",\"Orange\",\"Orange\",\"Yellow\",\"Yellow\",\"Yellow\",\"Yellow\",\"Yellow\",\"Yellow\",\"Yellow\",\"Yellow\",\"White\",\"White\",\"White\",\"White\",\"White\",\"White\",\"White\",\"White\",\"White\",\"White\",\"White\",\"White\",\"White\",\"White\",\"White\",\"White\",\"White\",\"Red\",\"Red\",\"Red\",\"Red\",\"Red\",\"Green\",\"Orange\",\"Orange\",\"Orange\",\"Orange\",\"Orange\",\"Orange\",\"Orange\",\"Orange\",\"Yellow\",\"White\",\"White\",\"White\",\"White\",\"White\",\"White\",\"White\",\"White\",\"White\",\"White\",\"White\",\"White\",\"Red\",\"Orange\",\"Orange\",\"Yellow\",\"Yellow\",\"Yellow\",\"White\",\"White\",\"White\",\"White\",\"Orange\",\"Orange\",\"Orange\",\"Orange\",\"Orange\",\"Orange\",\"Orange\",\"Orange\",\"Orange\",\"Orange\",\"Orange\",\"Orange\",\"Orange\",\"White\",\"White\",\"White\",\"White\",\"White\",\"White\",\"White\",\"White\",\"White\",\"White\",\"White\",\"White\",\"White\",\"White\",\"White\",\"White\",\"White\",\"White\",\"White\",\"White\",\"White\",\"White\",\"White\",\"White\",\"White\",\"White\",\"White\",\"White\",\"White\",\"Green\",\"Orange\",\"Orange\",\"Orange\",\"Orange\",\"Orange\",\"Orange\",\"Orange\",\"Orange\",\"Orange\",\"Orange\",\"Orange\",\"Orange\",\"Orange\",\"Yellow\",\"Yellow\",\"White\",\"White\",\"White\",\"White\",\"White\",\"White\",\"White\",\"White\",\"White\",\"White\",\"White\",\"White\",\"White\",\"White\",\"Orange\",\"Orange\",\"Orange\",\"Orange\",\"Yellow\",\"Yellow\",\"White\",\"White\",\"White\",\"White\",\"Green\",\"Orange\",\"Orange\",\"Orange\",\"Orange\",\"Orange\",\"Orange\",\"Orange\",\"Orange\",\"Orange\",\"Orange\",\"Orange\",\"Orange\",\"Orange\",\"Orange\",\"Orange\",\"Orange\",\"Orange\",\"Orange\",\"Orange\",\"Orange\",\"Orange\",\"Orange\",\"Orange\",\"Orange\",\"Orange\",\"Orange\",\"Orange\",\"Orange\",\"Orange\",\"Yellow\",\"Yellow\",\"Yellow\",\"Yellow\",\"Yellow\",\"Yellow\",\"Yellow\",\"Yellow\",\"Yellow\",\"Yellow\",\"Yellow\",\"Yellow\",\"Yellow\",\"Yellow\",\"Yellow\",\"Yellow\",\"Yellow\",\"Yellow\",\"Yellow\",\"Yellow\",\"Yellow\",\"Yellow\",\"Yellow\",\"Yellow\",\"Yellow\",\"Yellow\",\"Yellow\",\"Yellow\",\"Yellow\",\"Yellow\",\"Yellow\",\"Yellow\",\"Yellow\",\"Yellow\",\"Yellow\",\"Yellow\",\"Yellow\",\"Yellow\",\"Yellow\",\"Yellow\",\"Red\",\"Red\",\"Red\",\"Red\",\"Green\",\"Green\",\"Orange\",\"Yellow\",\"White\",\"White\",\"Orange\",\"Orange\",\"Yellow\",\"White\",\"White\",\"White\",\"White\",\"White\",\"White\",\"Orange\",\"Orange\",\"White\",\"Orange\",\"Orange\",\"White\",\"Orange\",\"Orange\",\"Orange\",\"White\",\"White\",\"White\",\"White\",\"White\",\"White\",\"Orange\",\"Orange\",\"Orange\",\"Orange\",\"White\",\"White\",\"Orange\",\"White\",\"Green\",\"Orange\",\"Orange\",\"Orange\",\"Orange\",\"Orange\",\"Orange\",\"Orange\",\"Orange\",\"Orange\",\"Orange\",\"Orange\",\"Orange\",\"Orange\",\"Orange\",\"Yellow\",\"Yellow\",\"Yellow\",\"White\",\"White\",\"White\",\"White\",\"White\",\"White\",\"White\",\"Red\",\"Red\",\"Orange\",\"Orange\",\"Orange\",\"Orange\",\"Orange\",\"Yellow\",\"Orange\",\"Orange\",\"Orange\",\"Yellow\",\"Yellow\",\"White\",\"White\",\"Orange\",\"Orange\",\"Yellow\",\"White\",\"White\",\"Yellow\",\"Yellow\",\"Orange\",\"Orange\",\"Orange\",\"Orange\",\"Yellow\",\"White\",\"White\",\"White\",\"Orange\",\"Orange\",\"Orange\",\"White\",\"White\",\"Orange\",\"Orange\",\"Orange\",\"Orange\",\"Orange\",\"Orange\",\"Yellow\",\"Yellow\",\"White\",\"White\",\"White\",\"White\",\"White\",\"Orange\",\"Orange\",\"Orange\",\"Orange\",\"Orange\",\"Orange\",\"Orange\",\"Yellow\",\"Yellow\",\"Yellow\",\"Yellow\",\"Yellow\",\"Yellow\",\"Yellow\",\"Yellow\",\"Yellow\",\"Yellow\",\"Yellow\",\"White\",\"White\",\"White\",\"White\",\"Green\",\"Green\",\"Green\",\"Orange\",\"Orange\",\"Orange\",\"Orange\",\"Yellow\",\"Yellow\",\"White\",\"White\",\"White\",\"White\",\"White\",\"Red\",\"Green\",\"Orange\",\"Orange\",\"Orange\",\"Orange\",\"White\",\"Orange\",\"White\",\"Orange\",\"Orange\",\"Orange\",\"Orange\",\"Orange\",\"Orange\",\"Orange\",\"Orange\",\"Orange\",\"Orange\",\"Orange\",\"Orange\",\"Orange\",\"Orange\",\"Orange\",\"Orange\",\"Orange\",\"Orange\",\"Orange\",\"Orange\",\"Orange\",\"Orange\",\"Orange\",\"Yellow\",\"Yellow\",\"Yellow\",\"Yellow\",\"Yellow\",\"Yellow\",\"White\",\"White\",\"White\",\"White\",\"White\",\"White\",\"White\",\"White\",\"White\",\"White\",\"White\",\"White\",\"White\",\"Red\",\"Red\",\"Green\",\"Orange\",\"Orange\",\"Orange\",\"Orange\",\"Orange\",\"Orange\",\"Orange\",\"Orange\",\"Orange\",\"Orange\",\"Yellow\",\"Yellow\",\"Yellow\",\"White\",\"White\",\"White\",\"White\",\"White\",\"White\",\"White\",\"White\",\"White\",\"White\",\"Orange\",\"Orange\",\"Orange\",\"Orange\",\"White\",\"White\",\"White\",\"White\",\"White\",\"Orange\",\"Orange\",\"White\",\"White\",\"White\",\"White\",\"Orange\",\"Orange\",\"Orange\",\"Orange\",\"Orange\",\"Orange\",\"White\",\"White\",\"Red\",\"Red\",\"Orange\",\"Orange\",\"Yellow\",\"White\",\"Yellow\",\"Yellow\",\"White\",\"Orange\",\"Orange\",\"Orange\",\"Orange\",\"Orange\",\"Orange\",\"Orange\",\"Orange\",\"Orange\",\"Orange\",\"Orange\",\"Orange\",\"Orange\",\"Orange\",\"Orange\",\"Orange\",\"Yellow\",\"Yellow\",\"White\",\"White\",\"White\",\"White\",\"White\",\"White\",\"Red\",\"Red\",\"Red\",\"Red\",\"Red\",\"Red\",\"Red\",\"Red\",\"Green\",\"Green\",\"Green\",\"Orange\",\"Orange\",\"Orange\",\"Orange\",\"Orange\",\"Yellow\",\"Yellow\",\"Yellow\",\"Yellow\",\"Yellow\",\"White\",\"White\",\"White\",\"White\",\"White\",\"White\",\"White\",\"White\",\"White\",\"White\",\"White\",\"White\",\"White\",\"White\",\"White\",\"White\",\"White\",\"Red\",\"Orange\",\"Orange\",\"White\",\"White\",\"White\",\"Orange\",\"Orange\",\"Orange\",\"Orange\",\"Orange\",\"Yellow\",\"Yellow\",\"White\",\"White\",\"White\",\"White\",\"White\",\"White\",\"White\",\"White\",\"White\",\"White\",\"Red\",\"Red\",\"Orange\",\"White\",\"Orange\",\"Orange\",\"Orange\",\"White\",\"White\",\"White\",\"Orange\",\"Orange\",\"Orange\",\"Orange\",\"Orange\",\"White\",\"White\",\"White\",\"White\",\"White\",\"White\",\"White\",\"White\",\"Orange\",\"Orange\",\"Orange\",\"Orange\",\"White\",\"White\",\"White\",\"Orange\",\"White\",\"White\",\"White\",\"Orange\",\"Orange\",\"White\",\"White\",\"White\",\"Orange\",\"Orange\",\"Orange\",\"Orange\",\"Orange\",\"Orange\",\"Orange\",\"Orange\",\"Orange\",\"Orange\",\"Orange\",\"Orange\",\"Orange\",\"Orange\",\"Orange\",\"Orange\",\"Orange\",\"Orange\",\"Orange\",\"Orange\",\"Orange\",\"Orange\",\"Orange\",\"Orange\",\"Orange\",\"Orange\",\"Orange\",\"Orange\",\"Orange\",\"Orange\",\"Orange\",\"Orange\",\"Orange\",\"Orange\",\"Orange\",\"Orange\",\"Orange\",\"Orange\",\"Orange\",\"Orange\",\"Orange\",\"Yellow\",\"Yellow\",\"Yellow\",\"Yellow\",\"Yellow\",\"White\",\"White\",\"White\",\"White\",\"White\",\"White\",\"White\",\"White\",\"White\",\"White\",\"White\",\"White\",\"White\",\"White\",\"White\",\"White\",\"White\",\"White\",\"White\",\"White\",\"White\",\"White\",\"White\",\"White\",\"White\",\"White\",\"White\",\"Red\",\"Red\",\"Red\",\"Orange\",\"Orange\",\"White\",\"White\",\"White\",\"White\",\"White\",\"White\",\"White\",\"White\",\"White\",\"White\",\"Orange\",\"Orange\",\"White\",\"White\",\"White\",\"White\",\"Orange\",\"Orange\",\"White\",\"Orange\",\"Orange\",\"White\",\"White\",\"White\",\"White\",\"White\",\"Orange\",\"Orange\",\"Orange\",\"Orange\",\"Orange\",\"Orange\",\"Orange\",\"Orange\",\"Orange\",\"Orange\",\"Orange\",\"Orange\",\"Orange\",\"Orange\",\"Orange\",\"Orange\",\"Orange\",\"Orange\",\"Orange\",\"Orange\",\"Orange\",\"Yellow\",\"Yellow\",\"Yellow\",\"White\",\"White\",\"White\",\"White\",\"White\",\"White\",\"White\",\"White\",\"White\",\"White\",\"White\",\"White\",\"White\",\"White\",\"White\",\"White\",\"White\",\"White\",\"White\",\"White\",\"White\",\"White\",\"White\",\"White\",\"White\",\"White\",\"White\",\"White\",\"White\",\"White\",\"White\",\"White\",\"White\",\"White\",\"White\",\"Red\",\"Red\",\"Orange\",\"White\",\"Orange\",\"Orange\",\"Orange\",\"Orange\",\"Orange\",\"Orange\",\"Orange\",\"Orange\",\"Orange\",\"Orange\",\"Yellow\",\"Yellow\",\"White\",\"White\",\"White\",\"White\",\"White\",\"White\",\"Red\",\"Orange\",\"White\",\"Orange\",\"Orange\",\"Orange\",\"Orange\",\"Orange\",\"Orange\",\"Yellow\",\"Yellow\",\"White\",\"White\",\"White\",\"White\",\"White\",\"White\",\"Red\",\"Red\",\"Orange\",\"Orange\",\"Orange\",\"Orange\",\"Orange\",\"Orange\",\"Orange\",\"Orange\",\"Orange\",\"Orange\",\"Orange\",\"Orange\",\"Orange\",\"Yellow\",\"White\",\"White\",\"Red\",\"Red\",\"Red\",\"Orange\",\"Orange\",\"Orange\",\"Orange\",\"Orange\",\"Orange\",\"Orange\",\"Orange\",\"Orange\",\"Orange\",\"Orange\",\"Orange\",\"Orange\",\"Orange\",\"Orange\",\"Orange\",\"Yellow\",\"Yellow\",\"Yellow\",\"Yellow\",\"Yellow\",\"Yellow\",\"Yellow\",\"Yellow\",\"Yellow\",\"Yellow\",\"Yellow\",\"White\",\"White\",\"White\",\"White\",\"White\",\"White\",\"Red\",\"Red\",\"Red\",\"Green\",\"Orange\",\"White\",\"White\",\"White\",\"White\",\"Green\",\"Yellow\",\"Orange\",\"Yellow\",\"Yellow\",\"Yellow\",\"Orange\",\"Orange\",\"Orange\",\"Yellow\",\"Yellow\",\"Orange\",\"Yellow\",\"Orange\",\"Orange\",\"Yellow\",\"Yellow\",\"Yellow\",\"Orange\",\"Orange\",\"Yellow\",\"Yellow\",\"Yellow\",\"Yellow\",\"Yellow\",\"Yellow\",\"Yellow\",\"Yellow\",\"Green\",\"Green\",\"Yellow\",\"Yellow\",\"Yellow\",\"Orange\",\"Orange\",\"Yellow\",\"Yellow\",\"Yellow\",\"Yellow\",\"Yellow\",\"Green\",\"Dark Green\",\"Yellow\",\"Green\",\"Dark Green\",\"Green\",\"Green\",\"Green\",\"Green\",\"Green\",\"Green\",\"Green\",\"Green\",\"Dark Green\",\"Dark Green\",\"Green\",\"Green\",\"Green\",\"Yellow\",\"Green\",\"Green\",\"Orange\",\"Orange\",\"Yellow\",\"Orange\",\"Orange\",\"Green\",\"Yellow\",\"Yellow\",\"Orange\",\"Orange\",\"Yellow\",\"Orange\",\"Orange\",\"Orange\",\"Orange\",\"Yellow\",\"Yellow\",\"Orange\",\"Yellow\",\"Yellow\",\"Green\",\"Dark Green\",\"Yellow\",\"Yellow\",\"Green\",\"Yellow\",\"Green\",\"Green\",\"Green\",\"Green\",\"Green\",\"Yellow\",\"Green\",\"Yellow\",\"Yellow\",\"Green\",\"Green\",\"Green\",\"Orange\",\"Yellow\",\"Yellow\",\"Yellow\",\"Dark Green\",\"Yellow\",\"Yellow\",\"Yellow\",\"Green\",\"Green\",\"Green\",\"Green\",\"Yellow\",\"Green\",\"Yellow\",\"Yellow\",\"Dark Green\",\"Yellow\",\"Yellow\",\"Yellow\",\"Green\",\"Green\",\"Green\",\"Green\",\"Orange\",\"Yellow\",\"Orange\",\"Yellow\",\"Yellow\",\"Yellow\",\"Yellow\",\"Yellow\",\"Green\",\"Orange\",\"Orange\",\"Yellow\",\"Orange\",\"Yellow\",\"Orange\",\"Orange\",\"Yellow\",\"Orange\",\"Yellow\",\"Yellow\",\"Dark Green\",\"Green\",\"Green\",\"Green\",\"Green\",\"Yellow\",\"Dark Green\",\"Yellow\",\"Yellow\",\"Yellow\",\"Yellow\",\"Yellow\",\"Yellow\",\"Green\",\"Green\",\"Yellow\",\"Yellow\",\"Green\",\"Yellow\",\"Green\",\"Green\",\"Yellow\",\"Green\",\"Dark Green\",\"Dark Green\",\"Yellow\",\"Dark Green\",\"Green\",\"Dark Green\",\"Green\",\"Green\",\"Dark Green\",\"Green\",\"Green\",\"Green\",\"Dark Green\",\"Orange\",\"Green\",\"Green\",\"Yellow\",\"Dark Green\",\"Green\",\"Dark Green\",\"Dark Green\",\"Green\",\"Dark Green\",\"Dark Green\",\"Dark Green\",\"Dark Green\",\"Green\",\"Red\",\"Green\",\"Green\",\"Green\",\"Green\",\"Yellow\",\"Green\",\"Dark Green\",\"Green\",\"Dark Green\",\"Dark Green\",\"Green\",\"Green\",\"Dark Green\",\"Dark Green\",\"Dark Green\",\"Green\",\"Green\",\"Green\",\"Green\",\"Green\",\"Green\",\"Green\",\"Green\",\"Green\",\"Green\",\"Green\",\"Green\",\"Yellow\",\"Green\",\"Green\",\"Orange\",\"Yellow\",\"Green\",\"Yellow\",\"Yellow\",\"Yellow\",\"Dark Green\",\"Green\",\"Dark Green\",\"Yellow\",\"Green\",\"Yellow\",\"Green\",\"Green\",\"White\",\"Green\",\"Orange\",\"Yellow\",\"Yellow\",\"Green\",\"Yellow\",\"Dark Green\",\"Dark Green\",\"Dark Green\",\"Green\",\"Yellow\",\"Green\",\"Green\",\"Green\",\"Yellow\",\"Yellow\",\"Yellow\",\"Yellow\",\"Yellow\",\"Green\",\"Green\",\"Green\",\"Green\",\"Green\",\"Green\",\"Dark Green\",\"Dark Green\",\"Dark Green\",\"Dark Green\",\"Dark Green\",\"Dark Green\",\"Dark Green\",\"Dark Green\",\"Dark Green\",\"Green\",\"Dark Green\",\"Dark Green\",\"Yellow\",\"Dark Green\",\"Green\",\"Dark Green\",\"Green\",\"Dark Green\",\"Green\",\"Dark Green\",\"Orange\",\"Orange\",\"Green\",\"Green\",\"Yellow\",\"Yellow\",\"Green\",\"Dark Green\",\"Green\",\"Green\",\"Green\",\"Orange\",\"Yellow\",\"Dark Green\",\"Yellow\",\"Dark Green\",\"Green\",\"Green\",\"Green\",\"Green\",\"Orange\",\"Orange\",\"Dark Green\",\"Green\",\"Green\",\"Yellow\",\"Yellow\",\"Dark Green\",\"Yellow\",\"Green\",\"Green\",\"Yellow\",\"Green\",\"Yellow\",\"Dark Green\",\"Yellow\",\"Green\",\"Green\",\"Dark Green\",\"Yellow\",\"Yellow\",\"Green\",\"Yellow\",\"Green\",\"Green\",\"Yellow\",\"Green\",\"Dark Green\",\"Green\",\"Yellow\",\"Yellow\",\"Yellow\",\"Dark Green\",\"Green\",\"Dark Green\",\"Green\",\"Yellow\",\"Green\",\"Green\",\"Green\",\"Dark Green\",\"Dark Green\",\"Green\",\"Green\",\"Green\",\"Green\",\"Green\",\"Dark Green\",\"Dark Green\",\"Green\",\"Green\",\"Yellow\",\"Green\",\"Green\",\"Yellow\",\"Green\",\"Green\",\"Green\",\"Yellow\",\"Orange\",\"Green\",\"Dark Green\",\"Green\",\"Green\",\"Dark Green\",\"Yellow\",\"Green\",\"Dark Green\",\"Green\",\"Dark Green\",\"Green\",\"Green\",\"Green\",\"Green\",\"Green\",\"Dark Green\",\"Green\",\"Green\",\"Green\",\"Yellow\",\"Orange\",\"Red\",\"Yellow\",\"Yellow\",\"Green\",\"Green\",\"Yellow\",\"Green\",\"Dark Green\",\"Yellow\",\"Orange\",\"Green\",\"Green\",\"Green\",\"Green\",\"Green\",\"Green\",\"Dark Green\",\"Green\",\"Green\",\"Green\",\"Dark Green\",\"Green\",\"Green\",\"Orange\",\"Dark Green\",\"Green\",\"Dark Green\",\"Green\",\"Green\",\"Green\",\"Green\",\"Dark Green\",\"Green\",\"Yellow\",\"Green\",\"Green\",\"Green\",\"Green\",\"Dark Green\",\"Dark Green\",\"Dark Green\",\"Green\",\"Dark Green\",\"Green\",\"Yellow\",\"Dark Green\",\"Dark Green\",\"Green\",\"Green\",\"Green\",\"Yellow\",\"Green\",\"Green\"],\"xaxis\":\"x\",\"yaxis\":\"y\",\"type\":\"histogram\"}],                        {\"template\":{\"data\":{\"bar\":[{\"error_x\":{\"color\":\"#2a3f5f\"},\"error_y\":{\"color\":\"#2a3f5f\"},\"marker\":{\"line\":{\"color\":\"#E5ECF6\",\"width\":0.5},\"pattern\":{\"fillmode\":\"overlay\",\"size\":10,\"solidity\":0.2}},\"type\":\"bar\"}],\"barpolar\":[{\"marker\":{\"line\":{\"color\":\"#E5ECF6\",\"width\":0.5},\"pattern\":{\"fillmode\":\"overlay\",\"size\":10,\"solidity\":0.2}},\"type\":\"barpolar\"}],\"carpet\":[{\"aaxis\":{\"endlinecolor\":\"#2a3f5f\",\"gridcolor\":\"white\",\"linecolor\":\"white\",\"minorgridcolor\":\"white\",\"startlinecolor\":\"#2a3f5f\"},\"baxis\":{\"endlinecolor\":\"#2a3f5f\",\"gridcolor\":\"white\",\"linecolor\":\"white\",\"minorgridcolor\":\"white\",\"startlinecolor\":\"#2a3f5f\"},\"type\":\"carpet\"}],\"choropleth\":[{\"colorbar\":{\"outlinewidth\":0,\"ticks\":\"\"},\"type\":\"choropleth\"}],\"contour\":[{\"colorbar\":{\"outlinewidth\":0,\"ticks\":\"\"},\"colorscale\":[[0.0,\"#0d0887\"],[0.1111111111111111,\"#46039f\"],[0.2222222222222222,\"#7201a8\"],[0.3333333333333333,\"#9c179e\"],[0.4444444444444444,\"#bd3786\"],[0.5555555555555556,\"#d8576b\"],[0.6666666666666666,\"#ed7953\"],[0.7777777777777778,\"#fb9f3a\"],[0.8888888888888888,\"#fdca26\"],[1.0,\"#f0f921\"]],\"type\":\"contour\"}],\"contourcarpet\":[{\"colorbar\":{\"outlinewidth\":0,\"ticks\":\"\"},\"type\":\"contourcarpet\"}],\"heatmap\":[{\"colorbar\":{\"outlinewidth\":0,\"ticks\":\"\"},\"colorscale\":[[0.0,\"#0d0887\"],[0.1111111111111111,\"#46039f\"],[0.2222222222222222,\"#7201a8\"],[0.3333333333333333,\"#9c179e\"],[0.4444444444444444,\"#bd3786\"],[0.5555555555555556,\"#d8576b\"],[0.6666666666666666,\"#ed7953\"],[0.7777777777777778,\"#fb9f3a\"],[0.8888888888888888,\"#fdca26\"],[1.0,\"#f0f921\"]],\"type\":\"heatmap\"}],\"heatmapgl\":[{\"colorbar\":{\"outlinewidth\":0,\"ticks\":\"\"},\"colorscale\":[[0.0,\"#0d0887\"],[0.1111111111111111,\"#46039f\"],[0.2222222222222222,\"#7201a8\"],[0.3333333333333333,\"#9c179e\"],[0.4444444444444444,\"#bd3786\"],[0.5555555555555556,\"#d8576b\"],[0.6666666666666666,\"#ed7953\"],[0.7777777777777778,\"#fb9f3a\"],[0.8888888888888888,\"#fdca26\"],[1.0,\"#f0f921\"]],\"type\":\"heatmapgl\"}],\"histogram\":[{\"marker\":{\"pattern\":{\"fillmode\":\"overlay\",\"size\":10,\"solidity\":0.2}},\"type\":\"histogram\"}],\"histogram2d\":[{\"colorbar\":{\"outlinewidth\":0,\"ticks\":\"\"},\"colorscale\":[[0.0,\"#0d0887\"],[0.1111111111111111,\"#46039f\"],[0.2222222222222222,\"#7201a8\"],[0.3333333333333333,\"#9c179e\"],[0.4444444444444444,\"#bd3786\"],[0.5555555555555556,\"#d8576b\"],[0.6666666666666666,\"#ed7953\"],[0.7777777777777778,\"#fb9f3a\"],[0.8888888888888888,\"#fdca26\"],[1.0,\"#f0f921\"]],\"type\":\"histogram2d\"}],\"histogram2dcontour\":[{\"colorbar\":{\"outlinewidth\":0,\"ticks\":\"\"},\"colorscale\":[[0.0,\"#0d0887\"],[0.1111111111111111,\"#46039f\"],[0.2222222222222222,\"#7201a8\"],[0.3333333333333333,\"#9c179e\"],[0.4444444444444444,\"#bd3786\"],[0.5555555555555556,\"#d8576b\"],[0.6666666666666666,\"#ed7953\"],[0.7777777777777778,\"#fb9f3a\"],[0.8888888888888888,\"#fdca26\"],[1.0,\"#f0f921\"]],\"type\":\"histogram2dcontour\"}],\"mesh3d\":[{\"colorbar\":{\"outlinewidth\":0,\"ticks\":\"\"},\"type\":\"mesh3d\"}],\"parcoords\":[{\"line\":{\"colorbar\":{\"outlinewidth\":0,\"ticks\":\"\"}},\"type\":\"parcoords\"}],\"pie\":[{\"automargin\":true,\"type\":\"pie\"}],\"scatter\":[{\"marker\":{\"colorbar\":{\"outlinewidth\":0,\"ticks\":\"\"}},\"type\":\"scatter\"}],\"scatter3d\":[{\"line\":{\"colorbar\":{\"outlinewidth\":0,\"ticks\":\"\"}},\"marker\":{\"colorbar\":{\"outlinewidth\":0,\"ticks\":\"\"}},\"type\":\"scatter3d\"}],\"scattercarpet\":[{\"marker\":{\"colorbar\":{\"outlinewidth\":0,\"ticks\":\"\"}},\"type\":\"scattercarpet\"}],\"scattergeo\":[{\"marker\":{\"colorbar\":{\"outlinewidth\":0,\"ticks\":\"\"}},\"type\":\"scattergeo\"}],\"scattergl\":[{\"marker\":{\"colorbar\":{\"outlinewidth\":0,\"ticks\":\"\"}},\"type\":\"scattergl\"}],\"scattermapbox\":[{\"marker\":{\"colorbar\":{\"outlinewidth\":0,\"ticks\":\"\"}},\"type\":\"scattermapbox\"}],\"scatterpolar\":[{\"marker\":{\"colorbar\":{\"outlinewidth\":0,\"ticks\":\"\"}},\"type\":\"scatterpolar\"}],\"scatterpolargl\":[{\"marker\":{\"colorbar\":{\"outlinewidth\":0,\"ticks\":\"\"}},\"type\":\"scatterpolargl\"}],\"scatterternary\":[{\"marker\":{\"colorbar\":{\"outlinewidth\":0,\"ticks\":\"\"}},\"type\":\"scatterternary\"}],\"surface\":[{\"colorbar\":{\"outlinewidth\":0,\"ticks\":\"\"},\"colorscale\":[[0.0,\"#0d0887\"],[0.1111111111111111,\"#46039f\"],[0.2222222222222222,\"#7201a8\"],[0.3333333333333333,\"#9c179e\"],[0.4444444444444444,\"#bd3786\"],[0.5555555555555556,\"#d8576b\"],[0.6666666666666666,\"#ed7953\"],[0.7777777777777778,\"#fb9f3a\"],[0.8888888888888888,\"#fdca26\"],[1.0,\"#f0f921\"]],\"type\":\"surface\"}],\"table\":[{\"cells\":{\"fill\":{\"color\":\"#EBF0F8\"},\"line\":{\"color\":\"white\"}},\"header\":{\"fill\":{\"color\":\"#C8D4E3\"},\"line\":{\"color\":\"white\"}},\"type\":\"table\"}]},\"layout\":{\"annotationdefaults\":{\"arrowcolor\":\"#2a3f5f\",\"arrowhead\":0,\"arrowwidth\":1},\"autotypenumbers\":\"strict\",\"coloraxis\":{\"colorbar\":{\"outlinewidth\":0,\"ticks\":\"\"}},\"colorscale\":{\"diverging\":[[0,\"#8e0152\"],[0.1,\"#c51b7d\"],[0.2,\"#de77ae\"],[0.3,\"#f1b6da\"],[0.4,\"#fde0ef\"],[0.5,\"#f7f7f7\"],[0.6,\"#e6f5d0\"],[0.7,\"#b8e186\"],[0.8,\"#7fbc41\"],[0.9,\"#4d9221\"],[1,\"#276419\"]],\"sequential\":[[0.0,\"#0d0887\"],[0.1111111111111111,\"#46039f\"],[0.2222222222222222,\"#7201a8\"],[0.3333333333333333,\"#9c179e\"],[0.4444444444444444,\"#bd3786\"],[0.5555555555555556,\"#d8576b\"],[0.6666666666666666,\"#ed7953\"],[0.7777777777777778,\"#fb9f3a\"],[0.8888888888888888,\"#fdca26\"],[1.0,\"#f0f921\"]],\"sequentialminus\":[[0.0,\"#0d0887\"],[0.1111111111111111,\"#46039f\"],[0.2222222222222222,\"#7201a8\"],[0.3333333333333333,\"#9c179e\"],[0.4444444444444444,\"#bd3786\"],[0.5555555555555556,\"#d8576b\"],[0.6666666666666666,\"#ed7953\"],[0.7777777777777778,\"#fb9f3a\"],[0.8888888888888888,\"#fdca26\"],[1.0,\"#f0f921\"]]},\"colorway\":[\"#636efa\",\"#EF553B\",\"#00cc96\",\"#ab63fa\",\"#FFA15A\",\"#19d3f3\",\"#FF6692\",\"#B6E880\",\"#FF97FF\",\"#FECB52\"],\"font\":{\"color\":\"#2a3f5f\"},\"geo\":{\"bgcolor\":\"white\",\"lakecolor\":\"white\",\"landcolor\":\"#E5ECF6\",\"showlakes\":true,\"showland\":true,\"subunitcolor\":\"white\"},\"hoverlabel\":{\"align\":\"left\"},\"hovermode\":\"closest\",\"mapbox\":{\"style\":\"light\"},\"paper_bgcolor\":\"white\",\"plot_bgcolor\":\"#E5ECF6\",\"polar\":{\"angularaxis\":{\"gridcolor\":\"white\",\"linecolor\":\"white\",\"ticks\":\"\"},\"bgcolor\":\"#E5ECF6\",\"radialaxis\":{\"gridcolor\":\"white\",\"linecolor\":\"white\",\"ticks\":\"\"}},\"scene\":{\"xaxis\":{\"backgroundcolor\":\"#E5ECF6\",\"gridcolor\":\"white\",\"gridwidth\":2,\"linecolor\":\"white\",\"showbackground\":true,\"ticks\":\"\",\"zerolinecolor\":\"white\"},\"yaxis\":{\"backgroundcolor\":\"#E5ECF6\",\"gridcolor\":\"white\",\"gridwidth\":2,\"linecolor\":\"white\",\"showbackground\":true,\"ticks\":\"\",\"zerolinecolor\":\"white\"},\"zaxis\":{\"backgroundcolor\":\"#E5ECF6\",\"gridcolor\":\"white\",\"gridwidth\":2,\"linecolor\":\"white\",\"showbackground\":true,\"ticks\":\"\",\"zerolinecolor\":\"white\"}},\"shapedefaults\":{\"line\":{\"color\":\"#2a3f5f\"}},\"ternary\":{\"aaxis\":{\"gridcolor\":\"white\",\"linecolor\":\"white\",\"ticks\":\"\"},\"baxis\":{\"gridcolor\":\"white\",\"linecolor\":\"white\",\"ticks\":\"\"},\"bgcolor\":\"#E5ECF6\",\"caxis\":{\"gridcolor\":\"white\",\"linecolor\":\"white\",\"ticks\":\"\"}},\"title\":{\"x\":0.05},\"xaxis\":{\"automargin\":true,\"gridcolor\":\"white\",\"linecolor\":\"white\",\"ticks\":\"\",\"title\":{\"standoff\":15},\"zerolinecolor\":\"white\",\"zerolinewidth\":2},\"yaxis\":{\"automargin\":true,\"gridcolor\":\"white\",\"linecolor\":\"white\",\"ticks\":\"\",\"title\":{\"standoff\":15},\"zerolinecolor\":\"white\",\"zerolinewidth\":2}}},\"xaxis\":{\"anchor\":\"y\",\"domain\":[0.0,1.0],\"title\":{\"text\":\"Rating color\"}},\"yaxis\":{\"anchor\":\"x\",\"domain\":[0.0,1.0],\"title\":{\"text\":\"count\"}},\"legend\":{\"tracegroupgap\":0},\"margin\":{\"t\":60},\"barmode\":\"relative\"},                        {\"responsive\": true}                    ).then(function(){\n",
       "                            \n",
       "var gd = document.getElementById('3ec02ff4-785c-4c80-813c-745c362f21f0');\n",
       "var x = new MutationObserver(function (mutations, observer) {{\n",
       "        var display = window.getComputedStyle(gd).display;\n",
       "        if (!display || display === 'none') {{\n",
       "            console.log([gd, 'removed!']);\n",
       "            Plotly.purge(gd);\n",
       "            observer.disconnect();\n",
       "        }}\n",
       "}});\n",
       "\n",
       "// Listen for the removal of the full notebook cells\n",
       "var notebookContainer = gd.closest('#notebook-container');\n",
       "if (notebookContainer) {{\n",
       "    x.observe(notebookContainer, {childList: true});\n",
       "}}\n",
       "\n",
       "// Listen for the clearing of the current output cell\n",
       "var outputEl = gd.closest('.output');\n",
       "if (outputEl) {{\n",
       "    x.observe(outputEl, {childList: true});\n",
       "}}\n",
       "\n",
       "                        })                };                });            </script>        </div>"
      ]
     },
     "metadata": {},
     "output_type": "display_data"
    }
   ],
   "source": [
    "fig = px.histogram(final_df, \"Rating color\")\n",
    "fig.show()"
   ]
  },
  {
   "cell_type": "code",
   "execution_count": 20,
   "id": "e51fcdc0",
   "metadata": {
    "execution": {
     "iopub.execute_input": "2022-02-22T16:48:00.198731Z",
     "iopub.status.busy": "2022-02-22T16:48:00.195844Z",
     "iopub.status.idle": "2022-02-22T16:48:00.383841Z",
     "shell.execute_reply": "2022-02-22T16:48:00.384410Z",
     "shell.execute_reply.started": "2022-02-22T16:06:41.486912Z"
    },
    "papermill": {
     "duration": 0.256243,
     "end_time": "2022-02-22T16:48:00.384609",
     "exception": false,
     "start_time": "2022-02-22T16:48:00.128366",
     "status": "completed"
    },
    "tags": []
   },
   "outputs": [
    {
     "data": {
      "text/html": [
       "<div>                            <div id=\"d064506e-9141-48c4-a10a-b98fb7ac5246\" class=\"plotly-graph-div\" style=\"height:525px; width:100%;\"></div>            <script type=\"text/javascript\">                require([\"plotly\"], function(Plotly) {                    window.PLOTLYENV=window.PLOTLYENV || {};                                    if (document.getElementById(\"d064506e-9141-48c4-a10a-b98fb7ac5246\")) {                    Plotly.newPlot(                        \"d064506e-9141-48c4-a10a-b98fb7ac5246\",                        [{\"alignmentgroup\":\"True\",\"hovertemplate\":\"Rating color=White<br>Aggregate rating=%{x}<br>Rating Count=%{y}<extra></extra>\",\"legendgroup\":\"White\",\"marker\":{\"color\":\"#636efa\",\"pattern\":{\"shape\":\"\"}},\"name\":\"White\",\"offsetgroup\":\"White\",\"orientation\":\"v\",\"showlegend\":true,\"textposition\":\"auto\",\"x\":[0.0],\"xaxis\":\"x\",\"y\":[2148],\"yaxis\":\"y\",\"type\":\"bar\"},{\"alignmentgroup\":\"True\",\"hovertemplate\":\"Rating color=Red<br>Aggregate rating=%{x}<br>Rating Count=%{y}<extra></extra>\",\"legendgroup\":\"Red\",\"marker\":{\"color\":\"#EF553B\",\"pattern\":{\"shape\":\"\"}},\"name\":\"Red\",\"offsetgroup\":\"Red\",\"orientation\":\"v\",\"showlegend\":true,\"textposition\":\"auto\",\"x\":[1.8,1.9,2.0,2.1,2.2,2.3,2.4],\"xaxis\":\"x\",\"y\":[1,2,7,15,27,47,87],\"yaxis\":\"y\",\"type\":\"bar\"},{\"alignmentgroup\":\"True\",\"hovertemplate\":\"Rating color=Orange<br>Aggregate rating=%{x}<br>Rating Count=%{y}<extra></extra>\",\"legendgroup\":\"Orange\",\"marker\":{\"color\":\"#00cc96\",\"pattern\":{\"shape\":\"\"}},\"name\":\"Orange\",\"offsetgroup\":\"Orange\",\"orientation\":\"v\",\"showlegend\":true,\"textposition\":\"auto\",\"x\":[2.5,2.6,2.7,2.8,2.9,3.0,3.1,3.2,3.3,3.4],\"xaxis\":\"x\",\"y\":[110,191,250,315,381,468,519,522,483,498],\"yaxis\":\"y\",\"type\":\"bar\"},{\"alignmentgroup\":\"True\",\"hovertemplate\":\"Rating color=Yellow<br>Aggregate rating=%{x}<br>Rating Count=%{y}<extra></extra>\",\"legendgroup\":\"Yellow\",\"marker\":{\"color\":\"#ab63fa\",\"pattern\":{\"shape\":\"\"}},\"name\":\"Yellow\",\"offsetgroup\":\"Yellow\",\"orientation\":\"v\",\"showlegend\":true,\"textposition\":\"auto\",\"x\":[3.5,3.6,3.7,3.8,3.9],\"xaxis\":\"x\",\"y\":[480,458,427,400,335],\"yaxis\":\"y\",\"type\":\"bar\"},{\"alignmentgroup\":\"True\",\"hovertemplate\":\"Rating color=Green<br>Aggregate rating=%{x}<br>Rating Count=%{y}<extra></extra>\",\"legendgroup\":\"Green\",\"marker\":{\"color\":\"#FFA15A\",\"pattern\":{\"shape\":\"\"}},\"name\":\"Green\",\"offsetgroup\":\"Green\",\"orientation\":\"v\",\"showlegend\":true,\"textposition\":\"auto\",\"x\":[4.0,4.1,4.2,4.3,4.4],\"xaxis\":\"x\",\"y\":[266,274,221,174,144],\"yaxis\":\"y\",\"type\":\"bar\"},{\"alignmentgroup\":\"True\",\"hovertemplate\":\"Rating color=Dark Green<br>Aggregate rating=%{x}<br>Rating Count=%{y}<extra></extra>\",\"legendgroup\":\"Dark Green\",\"marker\":{\"color\":\"#19d3f3\",\"pattern\":{\"shape\":\"\"}},\"name\":\"Dark Green\",\"offsetgroup\":\"Dark Green\",\"orientation\":\"v\",\"showlegend\":true,\"textposition\":\"auto\",\"x\":[4.5,4.6,4.7,4.8,4.9],\"xaxis\":\"x\",\"y\":[95,78,42,25,61],\"yaxis\":\"y\",\"type\":\"bar\"}],                        {\"template\":{\"data\":{\"bar\":[{\"error_x\":{\"color\":\"#2a3f5f\"},\"error_y\":{\"color\":\"#2a3f5f\"},\"marker\":{\"line\":{\"color\":\"#E5ECF6\",\"width\":0.5},\"pattern\":{\"fillmode\":\"overlay\",\"size\":10,\"solidity\":0.2}},\"type\":\"bar\"}],\"barpolar\":[{\"marker\":{\"line\":{\"color\":\"#E5ECF6\",\"width\":0.5},\"pattern\":{\"fillmode\":\"overlay\",\"size\":10,\"solidity\":0.2}},\"type\":\"barpolar\"}],\"carpet\":[{\"aaxis\":{\"endlinecolor\":\"#2a3f5f\",\"gridcolor\":\"white\",\"linecolor\":\"white\",\"minorgridcolor\":\"white\",\"startlinecolor\":\"#2a3f5f\"},\"baxis\":{\"endlinecolor\":\"#2a3f5f\",\"gridcolor\":\"white\",\"linecolor\":\"white\",\"minorgridcolor\":\"white\",\"startlinecolor\":\"#2a3f5f\"},\"type\":\"carpet\"}],\"choropleth\":[{\"colorbar\":{\"outlinewidth\":0,\"ticks\":\"\"},\"type\":\"choropleth\"}],\"contour\":[{\"colorbar\":{\"outlinewidth\":0,\"ticks\":\"\"},\"colorscale\":[[0.0,\"#0d0887\"],[0.1111111111111111,\"#46039f\"],[0.2222222222222222,\"#7201a8\"],[0.3333333333333333,\"#9c179e\"],[0.4444444444444444,\"#bd3786\"],[0.5555555555555556,\"#d8576b\"],[0.6666666666666666,\"#ed7953\"],[0.7777777777777778,\"#fb9f3a\"],[0.8888888888888888,\"#fdca26\"],[1.0,\"#f0f921\"]],\"type\":\"contour\"}],\"contourcarpet\":[{\"colorbar\":{\"outlinewidth\":0,\"ticks\":\"\"},\"type\":\"contourcarpet\"}],\"heatmap\":[{\"colorbar\":{\"outlinewidth\":0,\"ticks\":\"\"},\"colorscale\":[[0.0,\"#0d0887\"],[0.1111111111111111,\"#46039f\"],[0.2222222222222222,\"#7201a8\"],[0.3333333333333333,\"#9c179e\"],[0.4444444444444444,\"#bd3786\"],[0.5555555555555556,\"#d8576b\"],[0.6666666666666666,\"#ed7953\"],[0.7777777777777778,\"#fb9f3a\"],[0.8888888888888888,\"#fdca26\"],[1.0,\"#f0f921\"]],\"type\":\"heatmap\"}],\"heatmapgl\":[{\"colorbar\":{\"outlinewidth\":0,\"ticks\":\"\"},\"colorscale\":[[0.0,\"#0d0887\"],[0.1111111111111111,\"#46039f\"],[0.2222222222222222,\"#7201a8\"],[0.3333333333333333,\"#9c179e\"],[0.4444444444444444,\"#bd3786\"],[0.5555555555555556,\"#d8576b\"],[0.6666666666666666,\"#ed7953\"],[0.7777777777777778,\"#fb9f3a\"],[0.8888888888888888,\"#fdca26\"],[1.0,\"#f0f921\"]],\"type\":\"heatmapgl\"}],\"histogram\":[{\"marker\":{\"pattern\":{\"fillmode\":\"overlay\",\"size\":10,\"solidity\":0.2}},\"type\":\"histogram\"}],\"histogram2d\":[{\"colorbar\":{\"outlinewidth\":0,\"ticks\":\"\"},\"colorscale\":[[0.0,\"#0d0887\"],[0.1111111111111111,\"#46039f\"],[0.2222222222222222,\"#7201a8\"],[0.3333333333333333,\"#9c179e\"],[0.4444444444444444,\"#bd3786\"],[0.5555555555555556,\"#d8576b\"],[0.6666666666666666,\"#ed7953\"],[0.7777777777777778,\"#fb9f3a\"],[0.8888888888888888,\"#fdca26\"],[1.0,\"#f0f921\"]],\"type\":\"histogram2d\"}],\"histogram2dcontour\":[{\"colorbar\":{\"outlinewidth\":0,\"ticks\":\"\"},\"colorscale\":[[0.0,\"#0d0887\"],[0.1111111111111111,\"#46039f\"],[0.2222222222222222,\"#7201a8\"],[0.3333333333333333,\"#9c179e\"],[0.4444444444444444,\"#bd3786\"],[0.5555555555555556,\"#d8576b\"],[0.6666666666666666,\"#ed7953\"],[0.7777777777777778,\"#fb9f3a\"],[0.8888888888888888,\"#fdca26\"],[1.0,\"#f0f921\"]],\"type\":\"histogram2dcontour\"}],\"mesh3d\":[{\"colorbar\":{\"outlinewidth\":0,\"ticks\":\"\"},\"type\":\"mesh3d\"}],\"parcoords\":[{\"line\":{\"colorbar\":{\"outlinewidth\":0,\"ticks\":\"\"}},\"type\":\"parcoords\"}],\"pie\":[{\"automargin\":true,\"type\":\"pie\"}],\"scatter\":[{\"marker\":{\"colorbar\":{\"outlinewidth\":0,\"ticks\":\"\"}},\"type\":\"scatter\"}],\"scatter3d\":[{\"line\":{\"colorbar\":{\"outlinewidth\":0,\"ticks\":\"\"}},\"marker\":{\"colorbar\":{\"outlinewidth\":0,\"ticks\":\"\"}},\"type\":\"scatter3d\"}],\"scattercarpet\":[{\"marker\":{\"colorbar\":{\"outlinewidth\":0,\"ticks\":\"\"}},\"type\":\"scattercarpet\"}],\"scattergeo\":[{\"marker\":{\"colorbar\":{\"outlinewidth\":0,\"ticks\":\"\"}},\"type\":\"scattergeo\"}],\"scattergl\":[{\"marker\":{\"colorbar\":{\"outlinewidth\":0,\"ticks\":\"\"}},\"type\":\"scattergl\"}],\"scattermapbox\":[{\"marker\":{\"colorbar\":{\"outlinewidth\":0,\"ticks\":\"\"}},\"type\":\"scattermapbox\"}],\"scatterpolar\":[{\"marker\":{\"colorbar\":{\"outlinewidth\":0,\"ticks\":\"\"}},\"type\":\"scatterpolar\"}],\"scatterpolargl\":[{\"marker\":{\"colorbar\":{\"outlinewidth\":0,\"ticks\":\"\"}},\"type\":\"scatterpolargl\"}],\"scatterternary\":[{\"marker\":{\"colorbar\":{\"outlinewidth\":0,\"ticks\":\"\"}},\"type\":\"scatterternary\"}],\"surface\":[{\"colorbar\":{\"outlinewidth\":0,\"ticks\":\"\"},\"colorscale\":[[0.0,\"#0d0887\"],[0.1111111111111111,\"#46039f\"],[0.2222222222222222,\"#7201a8\"],[0.3333333333333333,\"#9c179e\"],[0.4444444444444444,\"#bd3786\"],[0.5555555555555556,\"#d8576b\"],[0.6666666666666666,\"#ed7953\"],[0.7777777777777778,\"#fb9f3a\"],[0.8888888888888888,\"#fdca26\"],[1.0,\"#f0f921\"]],\"type\":\"surface\"}],\"table\":[{\"cells\":{\"fill\":{\"color\":\"#EBF0F8\"},\"line\":{\"color\":\"white\"}},\"header\":{\"fill\":{\"color\":\"#C8D4E3\"},\"line\":{\"color\":\"white\"}},\"type\":\"table\"}]},\"layout\":{\"annotationdefaults\":{\"arrowcolor\":\"#2a3f5f\",\"arrowhead\":0,\"arrowwidth\":1},\"autotypenumbers\":\"strict\",\"coloraxis\":{\"colorbar\":{\"outlinewidth\":0,\"ticks\":\"\"}},\"colorscale\":{\"diverging\":[[0,\"#8e0152\"],[0.1,\"#c51b7d\"],[0.2,\"#de77ae\"],[0.3,\"#f1b6da\"],[0.4,\"#fde0ef\"],[0.5,\"#f7f7f7\"],[0.6,\"#e6f5d0\"],[0.7,\"#b8e186\"],[0.8,\"#7fbc41\"],[0.9,\"#4d9221\"],[1,\"#276419\"]],\"sequential\":[[0.0,\"#0d0887\"],[0.1111111111111111,\"#46039f\"],[0.2222222222222222,\"#7201a8\"],[0.3333333333333333,\"#9c179e\"],[0.4444444444444444,\"#bd3786\"],[0.5555555555555556,\"#d8576b\"],[0.6666666666666666,\"#ed7953\"],[0.7777777777777778,\"#fb9f3a\"],[0.8888888888888888,\"#fdca26\"],[1.0,\"#f0f921\"]],\"sequentialminus\":[[0.0,\"#0d0887\"],[0.1111111111111111,\"#46039f\"],[0.2222222222222222,\"#7201a8\"],[0.3333333333333333,\"#9c179e\"],[0.4444444444444444,\"#bd3786\"],[0.5555555555555556,\"#d8576b\"],[0.6666666666666666,\"#ed7953\"],[0.7777777777777778,\"#fb9f3a\"],[0.8888888888888888,\"#fdca26\"],[1.0,\"#f0f921\"]]},\"colorway\":[\"#636efa\",\"#EF553B\",\"#00cc96\",\"#ab63fa\",\"#FFA15A\",\"#19d3f3\",\"#FF6692\",\"#B6E880\",\"#FF97FF\",\"#FECB52\"],\"font\":{\"color\":\"#2a3f5f\"},\"geo\":{\"bgcolor\":\"white\",\"lakecolor\":\"white\",\"landcolor\":\"#E5ECF6\",\"showlakes\":true,\"showland\":true,\"subunitcolor\":\"white\"},\"hoverlabel\":{\"align\":\"left\"},\"hovermode\":\"closest\",\"mapbox\":{\"style\":\"light\"},\"paper_bgcolor\":\"white\",\"plot_bgcolor\":\"#E5ECF6\",\"polar\":{\"angularaxis\":{\"gridcolor\":\"white\",\"linecolor\":\"white\",\"ticks\":\"\"},\"bgcolor\":\"#E5ECF6\",\"radialaxis\":{\"gridcolor\":\"white\",\"linecolor\":\"white\",\"ticks\":\"\"}},\"scene\":{\"xaxis\":{\"backgroundcolor\":\"#E5ECF6\",\"gridcolor\":\"white\",\"gridwidth\":2,\"linecolor\":\"white\",\"showbackground\":true,\"ticks\":\"\",\"zerolinecolor\":\"white\"},\"yaxis\":{\"backgroundcolor\":\"#E5ECF6\",\"gridcolor\":\"white\",\"gridwidth\":2,\"linecolor\":\"white\",\"showbackground\":true,\"ticks\":\"\",\"zerolinecolor\":\"white\"},\"zaxis\":{\"backgroundcolor\":\"#E5ECF6\",\"gridcolor\":\"white\",\"gridwidth\":2,\"linecolor\":\"white\",\"showbackground\":true,\"ticks\":\"\",\"zerolinecolor\":\"white\"}},\"shapedefaults\":{\"line\":{\"color\":\"#2a3f5f\"}},\"ternary\":{\"aaxis\":{\"gridcolor\":\"white\",\"linecolor\":\"white\",\"ticks\":\"\"},\"baxis\":{\"gridcolor\":\"white\",\"linecolor\":\"white\",\"ticks\":\"\"},\"bgcolor\":\"#E5ECF6\",\"caxis\":{\"gridcolor\":\"white\",\"linecolor\":\"white\",\"ticks\":\"\"}},\"title\":{\"x\":0.05},\"xaxis\":{\"automargin\":true,\"gridcolor\":\"white\",\"linecolor\":\"white\",\"ticks\":\"\",\"title\":{\"standoff\":15},\"zerolinecolor\":\"white\",\"zerolinewidth\":2},\"yaxis\":{\"automargin\":true,\"gridcolor\":\"white\",\"linecolor\":\"white\",\"ticks\":\"\",\"title\":{\"standoff\":15},\"zerolinecolor\":\"white\",\"zerolinewidth\":2}}},\"xaxis\":{\"anchor\":\"y\",\"domain\":[0.0,1.0],\"title\":{\"text\":\"Aggregate rating\"}},\"yaxis\":{\"anchor\":\"x\",\"domain\":[0.0,1.0],\"title\":{\"text\":\"Rating Count\"}},\"legend\":{\"title\":{\"text\":\"Rating color\"},\"tracegroupgap\":0},\"margin\":{\"t\":60},\"barmode\":\"relative\"},                        {\"responsive\": true}                    ).then(function(){\n",
       "                            \n",
       "var gd = document.getElementById('d064506e-9141-48c4-a10a-b98fb7ac5246');\n",
       "var x = new MutationObserver(function (mutations, observer) {{\n",
       "        var display = window.getComputedStyle(gd).display;\n",
       "        if (!display || display === 'none') {{\n",
       "            console.log([gd, 'removed!']);\n",
       "            Plotly.purge(gd);\n",
       "            observer.disconnect();\n",
       "        }}\n",
       "}});\n",
       "\n",
       "// Listen for the removal of the full notebook cells\n",
       "var notebookContainer = gd.closest('#notebook-container');\n",
       "if (notebookContainer) {{\n",
       "    x.observe(notebookContainer, {childList: true});\n",
       "}}\n",
       "\n",
       "// Listen for the clearing of the current output cell\n",
       "var outputEl = gd.closest('.output');\n",
       "if (outputEl) {{\n",
       "    x.observe(outputEl, {childList: true});\n",
       "}}\n",
       "\n",
       "                        })                };                });            </script>        </div>"
      ]
     },
     "metadata": {},
     "output_type": "display_data"
    }
   ],
   "source": [
    "fig = px.bar(rating, x = \"Aggregate rating\", y = \"Rating Count\",\n",
    "            color = \"Rating color\")\n",
    "fig.show()"
   ]
  },
  {
   "cell_type": "code",
   "execution_count": 21,
   "id": "9011a7a7",
   "metadata": {
    "execution": {
     "iopub.execute_input": "2022-02-22T16:48:00.552543Z",
     "iopub.status.busy": "2022-02-22T16:48:00.550767Z",
     "iopub.status.idle": "2022-02-22T16:48:00.590402Z",
     "shell.execute_reply": "2022-02-22T16:48:00.591373Z",
     "shell.execute_reply.started": "2022-02-22T16:32:27.651458Z"
    },
    "papermill": {
     "duration": 0.127235,
     "end_time": "2022-02-22T16:48:00.591597",
     "exception": false,
     "start_time": "2022-02-22T16:48:00.464362",
     "status": "completed"
    },
    "tags": []
   },
   "outputs": [
    {
     "data": {
      "text/html": [
       "<div>\n",
       "<style scoped>\n",
       "    .dataframe tbody tr th:only-of-type {\n",
       "        vertical-align: middle;\n",
       "    }\n",
       "\n",
       "    .dataframe tbody tr th {\n",
       "        vertical-align: top;\n",
       "    }\n",
       "\n",
       "    .dataframe thead th {\n",
       "        text-align: right;\n",
       "    }\n",
       "</style>\n",
       "<table border=\"1\" class=\"dataframe\">\n",
       "  <thead>\n",
       "    <tr style=\"text-align: right;\">\n",
       "      <th></th>\n",
       "      <th>Country</th>\n",
       "      <th>Not Rated</th>\n",
       "    </tr>\n",
       "  </thead>\n",
       "  <tbody>\n",
       "    <tr>\n",
       "      <th>2</th>\n",
       "      <td>United Kingdom</td>\n",
       "      <td>1</td>\n",
       "    </tr>\n",
       "    <tr>\n",
       "      <th>3</th>\n",
       "      <td>United States</td>\n",
       "      <td>3</td>\n",
       "    </tr>\n",
       "    <tr>\n",
       "      <th>0</th>\n",
       "      <td>Brazil</td>\n",
       "      <td>5</td>\n",
       "    </tr>\n",
       "    <tr>\n",
       "      <th>1</th>\n",
       "      <td>India</td>\n",
       "      <td>2139</td>\n",
       "    </tr>\n",
       "  </tbody>\n",
       "</table>\n",
       "</div>"
      ],
      "text/plain": [
       "          Country  Not Rated\n",
       "2  United Kingdom          1\n",
       "3   United States          3\n",
       "0          Brazil          5\n",
       "1           India       2139"
      ]
     },
     "execution_count": 21,
     "metadata": {},
     "output_type": "execute_result"
    }
   ],
   "source": [
    "final_df.loc[final_df[\"Aggregate rating\"] == 0].groupby(\"Country\").size().reset_index().rename(columns = {\n",
    "    0:\"Not Rated\"\n",
    "}).sort_values(by = \"Not Rated\")"
   ]
  },
  {
   "cell_type": "code",
   "execution_count": 22,
   "id": "c5115caa",
   "metadata": {
    "execution": {
     "iopub.execute_input": "2022-02-22T16:48:00.723119Z",
     "iopub.status.busy": "2022-02-22T16:48:00.722036Z",
     "iopub.status.idle": "2022-02-22T16:48:00.746455Z",
     "shell.execute_reply": "2022-02-22T16:48:00.747070Z",
     "shell.execute_reply.started": "2022-02-22T16:37:31.352504Z"
    },
    "papermill": {
     "duration": 0.086521,
     "end_time": "2022-02-22T16:48:00.747306",
     "exception": false,
     "start_time": "2022-02-22T16:48:00.660785",
     "status": "completed"
    },
    "tags": []
   },
   "outputs": [
    {
     "data": {
      "text/html": [
       "<div>\n",
       "<style scoped>\n",
       "    .dataframe tbody tr th:only-of-type {\n",
       "        vertical-align: middle;\n",
       "    }\n",
       "\n",
       "    .dataframe tbody tr th {\n",
       "        vertical-align: top;\n",
       "    }\n",
       "\n",
       "    .dataframe thead th {\n",
       "        text-align: right;\n",
       "    }\n",
       "</style>\n",
       "<table border=\"1\" class=\"dataframe\">\n",
       "  <thead>\n",
       "    <tr style=\"text-align: right;\">\n",
       "      <th></th>\n",
       "      <th>Currency</th>\n",
       "    </tr>\n",
       "    <tr>\n",
       "      <th>Country</th>\n",
       "      <th></th>\n",
       "    </tr>\n",
       "  </thead>\n",
       "  <tbody>\n",
       "    <tr>\n",
       "      <th>Australia</th>\n",
       "      <td>Dollar($)</td>\n",
       "    </tr>\n",
       "    <tr>\n",
       "      <th>Brazil</th>\n",
       "      <td>Brazilian Real(R$)</td>\n",
       "    </tr>\n",
       "    <tr>\n",
       "      <th>Canada</th>\n",
       "      <td>Dollar($)</td>\n",
       "    </tr>\n",
       "    <tr>\n",
       "      <th>India</th>\n",
       "      <td>Indian Rupees(Rs.)</td>\n",
       "    </tr>\n",
       "    <tr>\n",
       "      <th>Indonesia</th>\n",
       "      <td>Indonesian Rupiah(IDR)</td>\n",
       "    </tr>\n",
       "    <tr>\n",
       "      <th>New Zealand</th>\n",
       "      <td>NewZealand($)</td>\n",
       "    </tr>\n",
       "    <tr>\n",
       "      <th>Phillipines</th>\n",
       "      <td>Botswana Pula(P)</td>\n",
       "    </tr>\n",
       "    <tr>\n",
       "      <th>Qatar</th>\n",
       "      <td>Qatari Rial(QR)</td>\n",
       "    </tr>\n",
       "    <tr>\n",
       "      <th>Singapore</th>\n",
       "      <td>Dollar($)</td>\n",
       "    </tr>\n",
       "    <tr>\n",
       "      <th>South Africa</th>\n",
       "      <td>Rand(R)</td>\n",
       "    </tr>\n",
       "    <tr>\n",
       "      <th>Sri Lanka</th>\n",
       "      <td>Sri Lankan Rupee(LKR)</td>\n",
       "    </tr>\n",
       "    <tr>\n",
       "      <th>Turkey</th>\n",
       "      <td>Turkish Lira(TL)</td>\n",
       "    </tr>\n",
       "    <tr>\n",
       "      <th>UAE</th>\n",
       "      <td>Emirati Diram(AED)</td>\n",
       "    </tr>\n",
       "    <tr>\n",
       "      <th>United Kingdom</th>\n",
       "      <td>Pounds(£)</td>\n",
       "    </tr>\n",
       "    <tr>\n",
       "      <th>United States</th>\n",
       "      <td>Dollar($)</td>\n",
       "    </tr>\n",
       "  </tbody>\n",
       "</table>\n",
       "</div>"
      ],
      "text/plain": [
       "                              Currency\n",
       "Country                               \n",
       "Australia                    Dollar($)\n",
       "Brazil              Brazilian Real(R$)\n",
       "Canada                       Dollar($)\n",
       "India               Indian Rupees(Rs.)\n",
       "Indonesia       Indonesian Rupiah(IDR)\n",
       "New Zealand              NewZealand($)\n",
       "Phillipines           Botswana Pula(P)\n",
       "Qatar                  Qatari Rial(QR)\n",
       "Singapore                    Dollar($)\n",
       "South Africa                   Rand(R)\n",
       "Sri Lanka        Sri Lankan Rupee(LKR)\n",
       "Turkey                Turkish Lira(TL)\n",
       "UAE                 Emirati Diram(AED)\n",
       "United Kingdom              Pounds(£)\n",
       "United States                Dollar($)"
      ]
     },
     "execution_count": 22,
     "metadata": {},
     "output_type": "execute_result"
    }
   ],
   "source": [
    "final_df[[\"Currency\", \"Country\"]].groupby(\"Country\").first()"
   ]
  },
  {
   "cell_type": "code",
   "execution_count": 23,
   "id": "219e80d1",
   "metadata": {
    "execution": {
     "iopub.execute_input": "2022-02-22T16:48:00.875058Z",
     "iopub.status.busy": "2022-02-22T16:48:00.874302Z",
     "iopub.status.idle": "2022-02-22T16:48:00.894153Z",
     "shell.execute_reply": "2022-02-22T16:48:00.894788Z",
     "shell.execute_reply.started": "2022-02-22T16:38:34.707425Z"
    },
    "papermill": {
     "duration": 0.086924,
     "end_time": "2022-02-22T16:48:00.895007",
     "exception": false,
     "start_time": "2022-02-22T16:48:00.808083",
     "status": "completed"
    },
    "tags": []
   },
   "outputs": [
    {
     "data": {
      "text/html": [
       "<div>\n",
       "<style scoped>\n",
       "    .dataframe tbody tr th:only-of-type {\n",
       "        vertical-align: middle;\n",
       "    }\n",
       "\n",
       "    .dataframe tbody tr th {\n",
       "        vertical-align: top;\n",
       "    }\n",
       "\n",
       "    .dataframe thead th {\n",
       "        text-align: right;\n",
       "    }\n",
       "</style>\n",
       "<table border=\"1\" class=\"dataframe\">\n",
       "  <thead>\n",
       "    <tr style=\"text-align: right;\">\n",
       "      <th></th>\n",
       "      <th>Has Online delivery</th>\n",
       "      <th>Country</th>\n",
       "      <th>0</th>\n",
       "    </tr>\n",
       "  </thead>\n",
       "  <tbody>\n",
       "    <tr>\n",
       "      <th>0</th>\n",
       "      <td>No</td>\n",
       "      <td>Australia</td>\n",
       "      <td>24</td>\n",
       "    </tr>\n",
       "    <tr>\n",
       "      <th>1</th>\n",
       "      <td>No</td>\n",
       "      <td>Brazil</td>\n",
       "      <td>60</td>\n",
       "    </tr>\n",
       "    <tr>\n",
       "      <th>2</th>\n",
       "      <td>No</td>\n",
       "      <td>Canada</td>\n",
       "      <td>4</td>\n",
       "    </tr>\n",
       "    <tr>\n",
       "      <th>3</th>\n",
       "      <td>No</td>\n",
       "      <td>India</td>\n",
       "      <td>6229</td>\n",
       "    </tr>\n",
       "    <tr>\n",
       "      <th>4</th>\n",
       "      <td>No</td>\n",
       "      <td>Indonesia</td>\n",
       "      <td>21</td>\n",
       "    </tr>\n",
       "    <tr>\n",
       "      <th>5</th>\n",
       "      <td>No</td>\n",
       "      <td>New Zealand</td>\n",
       "      <td>40</td>\n",
       "    </tr>\n",
       "    <tr>\n",
       "      <th>6</th>\n",
       "      <td>No</td>\n",
       "      <td>Phillipines</td>\n",
       "      <td>22</td>\n",
       "    </tr>\n",
       "    <tr>\n",
       "      <th>7</th>\n",
       "      <td>No</td>\n",
       "      <td>Qatar</td>\n",
       "      <td>20</td>\n",
       "    </tr>\n",
       "    <tr>\n",
       "      <th>8</th>\n",
       "      <td>No</td>\n",
       "      <td>Singapore</td>\n",
       "      <td>20</td>\n",
       "    </tr>\n",
       "    <tr>\n",
       "      <th>9</th>\n",
       "      <td>No</td>\n",
       "      <td>South Africa</td>\n",
       "      <td>60</td>\n",
       "    </tr>\n",
       "    <tr>\n",
       "      <th>10</th>\n",
       "      <td>No</td>\n",
       "      <td>Sri Lanka</td>\n",
       "      <td>20</td>\n",
       "    </tr>\n",
       "    <tr>\n",
       "      <th>11</th>\n",
       "      <td>No</td>\n",
       "      <td>Turkey</td>\n",
       "      <td>34</td>\n",
       "    </tr>\n",
       "    <tr>\n",
       "      <th>12</th>\n",
       "      <td>No</td>\n",
       "      <td>UAE</td>\n",
       "      <td>32</td>\n",
       "    </tr>\n",
       "    <tr>\n",
       "      <th>13</th>\n",
       "      <td>No</td>\n",
       "      <td>United Kingdom</td>\n",
       "      <td>80</td>\n",
       "    </tr>\n",
       "    <tr>\n",
       "      <th>14</th>\n",
       "      <td>No</td>\n",
       "      <td>United States</td>\n",
       "      <td>434</td>\n",
       "    </tr>\n",
       "    <tr>\n",
       "      <th>15</th>\n",
       "      <td>Yes</td>\n",
       "      <td>India</td>\n",
       "      <td>2423</td>\n",
       "    </tr>\n",
       "    <tr>\n",
       "      <th>16</th>\n",
       "      <td>Yes</td>\n",
       "      <td>UAE</td>\n",
       "      <td>28</td>\n",
       "    </tr>\n",
       "  </tbody>\n",
       "</table>\n",
       "</div>"
      ],
      "text/plain": [
       "   Has Online delivery         Country     0\n",
       "0                   No       Australia    24\n",
       "1                   No          Brazil    60\n",
       "2                   No          Canada     4\n",
       "3                   No           India  6229\n",
       "4                   No       Indonesia    21\n",
       "5                   No     New Zealand    40\n",
       "6                   No     Phillipines    22\n",
       "7                   No           Qatar    20\n",
       "8                   No       Singapore    20\n",
       "9                   No    South Africa    60\n",
       "10                  No       Sri Lanka    20\n",
       "11                  No          Turkey    34\n",
       "12                  No             UAE    32\n",
       "13                  No  United Kingdom    80\n",
       "14                  No   United States   434\n",
       "15                 Yes           India  2423\n",
       "16                 Yes             UAE    28"
      ]
     },
     "execution_count": 23,
     "metadata": {},
     "output_type": "execute_result"
    }
   ],
   "source": [
    "final_df[[\"Has Online delivery\", \"Country\"]].groupby([\"Has Online delivery\", \"Country\"]).size().reset_index()"
   ]
  },
  {
   "cell_type": "code",
   "execution_count": 24,
   "id": "cd0eb4d7",
   "metadata": {
    "execution": {
     "iopub.execute_input": "2022-02-22T16:48:01.029945Z",
     "iopub.status.busy": "2022-02-22T16:48:01.028371Z",
     "iopub.status.idle": "2022-02-22T16:48:01.033458Z",
     "shell.execute_reply": "2022-02-22T16:48:01.034007Z",
     "shell.execute_reply.started": "2022-02-22T16:39:29.731230Z"
    },
    "papermill": {
     "duration": 0.07566,
     "end_time": "2022-02-22T16:48:01.034215",
     "exception": false,
     "start_time": "2022-02-22T16:48:00.958555",
     "status": "completed"
    },
    "tags": []
   },
   "outputs": [
    {
     "data": {
      "text/plain": [
       "array(['UAE', 'India'], dtype=object)"
      ]
     },
     "execution_count": 24,
     "metadata": {},
     "output_type": "execute_result"
    }
   ],
   "source": [
    "final_df.loc[final_df[\"Has Online delivery\"]==\"Yes\", \"Country\"].unique()"
   ]
  },
  {
   "cell_type": "code",
   "execution_count": 25,
   "id": "183344de",
   "metadata": {
    "execution": {
     "iopub.execute_input": "2022-02-22T16:48:01.160833Z",
     "iopub.status.busy": "2022-02-22T16:48:01.159969Z",
     "iopub.status.idle": "2022-02-22T16:48:01.167006Z",
     "shell.execute_reply": "2022-02-22T16:48:01.167636Z",
     "shell.execute_reply.started": "2022-02-22T16:41:56.369653Z"
    },
    "papermill": {
     "duration": 0.071628,
     "end_time": "2022-02-22T16:48:01.167840",
     "exception": false,
     "start_time": "2022-02-22T16:48:01.096212",
     "status": "completed"
    },
    "tags": []
   },
   "outputs": [
    {
     "data": {
      "text/plain": [
       "Index(['Restaurant ID', 'Restaurant Name', 'Country Code', 'City', 'Address',\n",
       "       'Locality', 'Locality Verbose', 'Longitude', 'Latitude', 'Cuisines',\n",
       "       'Average Cost for two', 'Currency', 'Has Table booking',\n",
       "       'Has Online delivery', 'Is delivering now', 'Switch to order menu',\n",
       "       'Price range', 'Aggregate rating', 'Rating color', 'Rating text',\n",
       "       'Votes', 'Country'],\n",
       "      dtype='object')"
      ]
     },
     "execution_count": 25,
     "metadata": {},
     "output_type": "execute_result"
    }
   ],
   "source": [
    "final_df.columns"
   ]
  },
  {
   "cell_type": "code",
   "execution_count": 26,
   "id": "ef326f29",
   "metadata": {
    "execution": {
     "iopub.execute_input": "2022-02-22T16:48:01.303793Z",
     "iopub.status.busy": "2022-02-22T16:48:01.301857Z",
     "iopub.status.idle": "2022-02-22T16:48:01.304857Z",
     "shell.execute_reply": "2022-02-22T16:48:01.305441Z",
     "shell.execute_reply.started": "2022-02-22T16:42:48.871242Z"
    },
    "papermill": {
     "duration": 0.078855,
     "end_time": "2022-02-22T16:48:01.305637",
     "exception": false,
     "start_time": "2022-02-22T16:48:01.226782",
     "status": "completed"
    },
    "tags": []
   },
   "outputs": [],
   "source": [
    "city_name = final_df.City.value_counts().index\n",
    "city_value = final_df.City.value_counts().values"
   ]
  },
  {
   "cell_type": "code",
   "execution_count": 27,
   "id": "32fd3d5b",
   "metadata": {
    "execution": {
     "iopub.execute_input": "2022-02-22T16:48:01.448158Z",
     "iopub.status.busy": "2022-02-22T16:48:01.446982Z",
     "iopub.status.idle": "2022-02-22T16:48:01.450600Z",
     "shell.execute_reply": "2022-02-22T16:48:01.451270Z",
     "shell.execute_reply.started": "2022-02-22T16:43:22.843420Z"
    },
    "papermill": {
     "duration": 0.081049,
     "end_time": "2022-02-22T16:48:01.451457",
     "exception": false,
     "start_time": "2022-02-22T16:48:01.370408",
     "status": "completed"
    },
    "tags": []
   },
   "outputs": [
    {
     "data": {
      "text/html": [
       "<div>                            <div id=\"676801d8-e8b5-4c09-836b-e1d3e3f4be9b\" class=\"plotly-graph-div\" style=\"height:525px; width:100%;\"></div>            <script type=\"text/javascript\">                require([\"plotly\"], function(Plotly) {                    window.PLOTLYENV=window.PLOTLYENV || {};                                    if (document.getElementById(\"676801d8-e8b5-4c09-836b-e1d3e3f4be9b\")) {                    Plotly.newPlot(                        \"676801d8-e8b5-4c09-836b-e1d3e3f4be9b\",                        [{\"labels\":[\"New Delhi\",\"Gurgaon\",\"Noida\",\"Faridabad\",\"Ghaziabad\"],\"values\":[5473,1118,1080,251,25],\"type\":\"pie\"}],                        {\"template\":{\"data\":{\"bar\":[{\"error_x\":{\"color\":\"#2a3f5f\"},\"error_y\":{\"color\":\"#2a3f5f\"},\"marker\":{\"line\":{\"color\":\"#E5ECF6\",\"width\":0.5},\"pattern\":{\"fillmode\":\"overlay\",\"size\":10,\"solidity\":0.2}},\"type\":\"bar\"}],\"barpolar\":[{\"marker\":{\"line\":{\"color\":\"#E5ECF6\",\"width\":0.5},\"pattern\":{\"fillmode\":\"overlay\",\"size\":10,\"solidity\":0.2}},\"type\":\"barpolar\"}],\"carpet\":[{\"aaxis\":{\"endlinecolor\":\"#2a3f5f\",\"gridcolor\":\"white\",\"linecolor\":\"white\",\"minorgridcolor\":\"white\",\"startlinecolor\":\"#2a3f5f\"},\"baxis\":{\"endlinecolor\":\"#2a3f5f\",\"gridcolor\":\"white\",\"linecolor\":\"white\",\"minorgridcolor\":\"white\",\"startlinecolor\":\"#2a3f5f\"},\"type\":\"carpet\"}],\"choropleth\":[{\"colorbar\":{\"outlinewidth\":0,\"ticks\":\"\"},\"type\":\"choropleth\"}],\"contour\":[{\"colorbar\":{\"outlinewidth\":0,\"ticks\":\"\"},\"colorscale\":[[0.0,\"#0d0887\"],[0.1111111111111111,\"#46039f\"],[0.2222222222222222,\"#7201a8\"],[0.3333333333333333,\"#9c179e\"],[0.4444444444444444,\"#bd3786\"],[0.5555555555555556,\"#d8576b\"],[0.6666666666666666,\"#ed7953\"],[0.7777777777777778,\"#fb9f3a\"],[0.8888888888888888,\"#fdca26\"],[1.0,\"#f0f921\"]],\"type\":\"contour\"}],\"contourcarpet\":[{\"colorbar\":{\"outlinewidth\":0,\"ticks\":\"\"},\"type\":\"contourcarpet\"}],\"heatmap\":[{\"colorbar\":{\"outlinewidth\":0,\"ticks\":\"\"},\"colorscale\":[[0.0,\"#0d0887\"],[0.1111111111111111,\"#46039f\"],[0.2222222222222222,\"#7201a8\"],[0.3333333333333333,\"#9c179e\"],[0.4444444444444444,\"#bd3786\"],[0.5555555555555556,\"#d8576b\"],[0.6666666666666666,\"#ed7953\"],[0.7777777777777778,\"#fb9f3a\"],[0.8888888888888888,\"#fdca26\"],[1.0,\"#f0f921\"]],\"type\":\"heatmap\"}],\"heatmapgl\":[{\"colorbar\":{\"outlinewidth\":0,\"ticks\":\"\"},\"colorscale\":[[0.0,\"#0d0887\"],[0.1111111111111111,\"#46039f\"],[0.2222222222222222,\"#7201a8\"],[0.3333333333333333,\"#9c179e\"],[0.4444444444444444,\"#bd3786\"],[0.5555555555555556,\"#d8576b\"],[0.6666666666666666,\"#ed7953\"],[0.7777777777777778,\"#fb9f3a\"],[0.8888888888888888,\"#fdca26\"],[1.0,\"#f0f921\"]],\"type\":\"heatmapgl\"}],\"histogram\":[{\"marker\":{\"pattern\":{\"fillmode\":\"overlay\",\"size\":10,\"solidity\":0.2}},\"type\":\"histogram\"}],\"histogram2d\":[{\"colorbar\":{\"outlinewidth\":0,\"ticks\":\"\"},\"colorscale\":[[0.0,\"#0d0887\"],[0.1111111111111111,\"#46039f\"],[0.2222222222222222,\"#7201a8\"],[0.3333333333333333,\"#9c179e\"],[0.4444444444444444,\"#bd3786\"],[0.5555555555555556,\"#d8576b\"],[0.6666666666666666,\"#ed7953\"],[0.7777777777777778,\"#fb9f3a\"],[0.8888888888888888,\"#fdca26\"],[1.0,\"#f0f921\"]],\"type\":\"histogram2d\"}],\"histogram2dcontour\":[{\"colorbar\":{\"outlinewidth\":0,\"ticks\":\"\"},\"colorscale\":[[0.0,\"#0d0887\"],[0.1111111111111111,\"#46039f\"],[0.2222222222222222,\"#7201a8\"],[0.3333333333333333,\"#9c179e\"],[0.4444444444444444,\"#bd3786\"],[0.5555555555555556,\"#d8576b\"],[0.6666666666666666,\"#ed7953\"],[0.7777777777777778,\"#fb9f3a\"],[0.8888888888888888,\"#fdca26\"],[1.0,\"#f0f921\"]],\"type\":\"histogram2dcontour\"}],\"mesh3d\":[{\"colorbar\":{\"outlinewidth\":0,\"ticks\":\"\"},\"type\":\"mesh3d\"}],\"parcoords\":[{\"line\":{\"colorbar\":{\"outlinewidth\":0,\"ticks\":\"\"}},\"type\":\"parcoords\"}],\"pie\":[{\"automargin\":true,\"type\":\"pie\"}],\"scatter\":[{\"marker\":{\"colorbar\":{\"outlinewidth\":0,\"ticks\":\"\"}},\"type\":\"scatter\"}],\"scatter3d\":[{\"line\":{\"colorbar\":{\"outlinewidth\":0,\"ticks\":\"\"}},\"marker\":{\"colorbar\":{\"outlinewidth\":0,\"ticks\":\"\"}},\"type\":\"scatter3d\"}],\"scattercarpet\":[{\"marker\":{\"colorbar\":{\"outlinewidth\":0,\"ticks\":\"\"}},\"type\":\"scattercarpet\"}],\"scattergeo\":[{\"marker\":{\"colorbar\":{\"outlinewidth\":0,\"ticks\":\"\"}},\"type\":\"scattergeo\"}],\"scattergl\":[{\"marker\":{\"colorbar\":{\"outlinewidth\":0,\"ticks\":\"\"}},\"type\":\"scattergl\"}],\"scattermapbox\":[{\"marker\":{\"colorbar\":{\"outlinewidth\":0,\"ticks\":\"\"}},\"type\":\"scattermapbox\"}],\"scatterpolar\":[{\"marker\":{\"colorbar\":{\"outlinewidth\":0,\"ticks\":\"\"}},\"type\":\"scatterpolar\"}],\"scatterpolargl\":[{\"marker\":{\"colorbar\":{\"outlinewidth\":0,\"ticks\":\"\"}},\"type\":\"scatterpolargl\"}],\"scatterternary\":[{\"marker\":{\"colorbar\":{\"outlinewidth\":0,\"ticks\":\"\"}},\"type\":\"scatterternary\"}],\"surface\":[{\"colorbar\":{\"outlinewidth\":0,\"ticks\":\"\"},\"colorscale\":[[0.0,\"#0d0887\"],[0.1111111111111111,\"#46039f\"],[0.2222222222222222,\"#7201a8\"],[0.3333333333333333,\"#9c179e\"],[0.4444444444444444,\"#bd3786\"],[0.5555555555555556,\"#d8576b\"],[0.6666666666666666,\"#ed7953\"],[0.7777777777777778,\"#fb9f3a\"],[0.8888888888888888,\"#fdca26\"],[1.0,\"#f0f921\"]],\"type\":\"surface\"}],\"table\":[{\"cells\":{\"fill\":{\"color\":\"#EBF0F8\"},\"line\":{\"color\":\"white\"}},\"header\":{\"fill\":{\"color\":\"#C8D4E3\"},\"line\":{\"color\":\"white\"}},\"type\":\"table\"}]},\"layout\":{\"annotationdefaults\":{\"arrowcolor\":\"#2a3f5f\",\"arrowhead\":0,\"arrowwidth\":1},\"autotypenumbers\":\"strict\",\"coloraxis\":{\"colorbar\":{\"outlinewidth\":0,\"ticks\":\"\"}},\"colorscale\":{\"diverging\":[[0,\"#8e0152\"],[0.1,\"#c51b7d\"],[0.2,\"#de77ae\"],[0.3,\"#f1b6da\"],[0.4,\"#fde0ef\"],[0.5,\"#f7f7f7\"],[0.6,\"#e6f5d0\"],[0.7,\"#b8e186\"],[0.8,\"#7fbc41\"],[0.9,\"#4d9221\"],[1,\"#276419\"]],\"sequential\":[[0.0,\"#0d0887\"],[0.1111111111111111,\"#46039f\"],[0.2222222222222222,\"#7201a8\"],[0.3333333333333333,\"#9c179e\"],[0.4444444444444444,\"#bd3786\"],[0.5555555555555556,\"#d8576b\"],[0.6666666666666666,\"#ed7953\"],[0.7777777777777778,\"#fb9f3a\"],[0.8888888888888888,\"#fdca26\"],[1.0,\"#f0f921\"]],\"sequentialminus\":[[0.0,\"#0d0887\"],[0.1111111111111111,\"#46039f\"],[0.2222222222222222,\"#7201a8\"],[0.3333333333333333,\"#9c179e\"],[0.4444444444444444,\"#bd3786\"],[0.5555555555555556,\"#d8576b\"],[0.6666666666666666,\"#ed7953\"],[0.7777777777777778,\"#fb9f3a\"],[0.8888888888888888,\"#fdca26\"],[1.0,\"#f0f921\"]]},\"colorway\":[\"#636efa\",\"#EF553B\",\"#00cc96\",\"#ab63fa\",\"#FFA15A\",\"#19d3f3\",\"#FF6692\",\"#B6E880\",\"#FF97FF\",\"#FECB52\"],\"font\":{\"color\":\"#2a3f5f\"},\"geo\":{\"bgcolor\":\"white\",\"lakecolor\":\"white\",\"landcolor\":\"#E5ECF6\",\"showlakes\":true,\"showland\":true,\"subunitcolor\":\"white\"},\"hoverlabel\":{\"align\":\"left\"},\"hovermode\":\"closest\",\"mapbox\":{\"style\":\"light\"},\"paper_bgcolor\":\"white\",\"plot_bgcolor\":\"#E5ECF6\",\"polar\":{\"angularaxis\":{\"gridcolor\":\"white\",\"linecolor\":\"white\",\"ticks\":\"\"},\"bgcolor\":\"#E5ECF6\",\"radialaxis\":{\"gridcolor\":\"white\",\"linecolor\":\"white\",\"ticks\":\"\"}},\"scene\":{\"xaxis\":{\"backgroundcolor\":\"#E5ECF6\",\"gridcolor\":\"white\",\"gridwidth\":2,\"linecolor\":\"white\",\"showbackground\":true,\"ticks\":\"\",\"zerolinecolor\":\"white\"},\"yaxis\":{\"backgroundcolor\":\"#E5ECF6\",\"gridcolor\":\"white\",\"gridwidth\":2,\"linecolor\":\"white\",\"showbackground\":true,\"ticks\":\"\",\"zerolinecolor\":\"white\"},\"zaxis\":{\"backgroundcolor\":\"#E5ECF6\",\"gridcolor\":\"white\",\"gridwidth\":2,\"linecolor\":\"white\",\"showbackground\":true,\"ticks\":\"\",\"zerolinecolor\":\"white\"}},\"shapedefaults\":{\"line\":{\"color\":\"#2a3f5f\"}},\"ternary\":{\"aaxis\":{\"gridcolor\":\"white\",\"linecolor\":\"white\",\"ticks\":\"\"},\"baxis\":{\"gridcolor\":\"white\",\"linecolor\":\"white\",\"ticks\":\"\"},\"bgcolor\":\"#E5ECF6\",\"caxis\":{\"gridcolor\":\"white\",\"linecolor\":\"white\",\"ticks\":\"\"}},\"title\":{\"x\":0.05},\"xaxis\":{\"automargin\":true,\"gridcolor\":\"white\",\"linecolor\":\"white\",\"ticks\":\"\",\"title\":{\"standoff\":15},\"zerolinecolor\":\"white\",\"zerolinewidth\":2},\"yaxis\":{\"automargin\":true,\"gridcolor\":\"white\",\"linecolor\":\"white\",\"ticks\":\"\",\"title\":{\"standoff\":15},\"zerolinecolor\":\"white\",\"zerolinewidth\":2}}}},                        {\"responsive\": true}                    ).then(function(){\n",
       "                            \n",
       "var gd = document.getElementById('676801d8-e8b5-4c09-836b-e1d3e3f4be9b');\n",
       "var x = new MutationObserver(function (mutations, observer) {{\n",
       "        var display = window.getComputedStyle(gd).display;\n",
       "        if (!display || display === 'none') {{\n",
       "            console.log([gd, 'removed!']);\n",
       "            Plotly.purge(gd);\n",
       "            observer.disconnect();\n",
       "        }}\n",
       "}});\n",
       "\n",
       "// Listen for the removal of the full notebook cells\n",
       "var notebookContainer = gd.closest('#notebook-container');\n",
       "if (notebookContainer) {{\n",
       "    x.observe(notebookContainer, {childList: true});\n",
       "}}\n",
       "\n",
       "// Listen for the clearing of the current output cell\n",
       "var outputEl = gd.closest('.output');\n",
       "if (outputEl) {{\n",
       "    x.observe(outputEl, {childList: true});\n",
       "}}\n",
       "\n",
       "                        })                };                });            </script>        </div>"
      ]
     },
     "metadata": {},
     "output_type": "display_data"
    }
   ],
   "source": [
    "import plotly.graph_objects as go\n",
    "\n",
    "labels = country_name\n",
    "values = country_value\n",
    "\n",
    "fig = go.Figure(data=[go.Pie(labels=city_name[:5], values=city_value[:5])])\n",
    "fig.show()"
   ]
  },
  {
   "cell_type": "code",
   "execution_count": 28,
   "id": "3b77a66f",
   "metadata": {
    "execution": {
     "iopub.execute_input": "2022-02-22T16:48:01.595431Z",
     "iopub.status.busy": "2022-02-22T16:48:01.594075Z",
     "iopub.status.idle": "2022-02-22T16:48:01.602419Z",
     "shell.execute_reply": "2022-02-22T16:48:01.602977Z",
     "shell.execute_reply.started": "2022-02-22T16:44:44.609550Z"
    },
    "papermill": {
     "duration": 0.084872,
     "end_time": "2022-02-22T16:48:01.603202",
     "exception": false,
     "start_time": "2022-02-22T16:48:01.518330",
     "status": "completed"
    },
    "tags": []
   },
   "outputs": [
    {
     "data": {
      "text/plain": [
       "North Indian                      936\n",
       "North Indian, Chinese             511\n",
       "Chinese                           354\n",
       "Fast Food                         354\n",
       "North Indian, Mughlai             334\n",
       "Cafe                              299\n",
       "Bakery                            218\n",
       "North Indian, Mughlai, Chinese    197\n",
       "Bakery, Desserts                  170\n",
       "Street Food                       149\n",
       "Name: Cuisines, dtype: int64"
      ]
     },
     "execution_count": 28,
     "metadata": {},
     "output_type": "execute_result"
    }
   ],
   "source": [
    "final_df.Cuisines.value_counts()[:10]"
   ]
  },
  {
   "cell_type": "code",
   "execution_count": null,
   "id": "4a9a2241",
   "metadata": {
    "papermill": {
     "duration": 0.064162,
     "end_time": "2022-02-22T16:48:01.737836",
     "exception": false,
     "start_time": "2022-02-22T16:48:01.673674",
     "status": "completed"
    },
    "tags": []
   },
   "outputs": [],
   "source": []
  }
 ],
 "metadata": {
  "kernelspec": {
   "display_name": "Python 3",
   "language": "python",
   "name": "python3"
  },
  "language_info": {
   "codemirror_mode": {
    "name": "ipython",
    "version": 3
   },
   "file_extension": ".py",
   "mimetype": "text/x-python",
   "name": "python",
   "nbconvert_exporter": "python",
   "pygments_lexer": "ipython3",
   "version": "3.7.12"
  },
  "papermill": {
   "default_parameters": {},
   "duration": 42.770139,
   "end_time": "2022-02-22T16:48:03.018772",
   "environment_variables": {},
   "exception": null,
   "input_path": "__notebook__.ipynb",
   "output_path": "__notebook__.ipynb",
   "parameters": {},
   "start_time": "2022-02-22T16:47:20.248633",
   "version": "2.3.3"
  }
 },
 "nbformat": 4,
 "nbformat_minor": 5
}
